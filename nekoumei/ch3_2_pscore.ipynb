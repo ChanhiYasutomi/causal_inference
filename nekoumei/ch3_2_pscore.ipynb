{
  "cells": [
    {
      "cell_type": "markdown",
      "source": [
        "# url: https://qiita.com/nekoumei/items/648726e89d05cba6f432"
      ],
      "metadata": {
        "id": "PDnvz3e69WBE"
      }
    },
    {
      "cell_type": "code",
      "execution_count": 1,
      "metadata": {
        "ExecuteTime": {
          "end_time": "2021-09-11T08:28:58.803493Z",
          "start_time": "2021-09-11T08:28:58.112655Z"
        },
        "id": "vxfRqzSq04xY"
      },
      "outputs": [],
      "source": [
        "import pandas as pd\n",
        "import os\n",
        "import joblib\n",
        "from sklearn.linear_model import LogisticRegression\n",
        "from sklearn.neighbors import NearestNeighbors\n",
        "from sklearn.model_selection import train_test_split\n",
        "import statsmodels.api as sm\n",
        "from tqdm import tqdm_notebook\n",
        "import plotly.express as px\n",
        "import plotly.graph_objects as go\n",
        "import random\n",
        "import numpy as np\n",
        "import warnings\n",
        "warnings.filterwarnings('ignore')"
      ]
    },
    {
      "cell_type": "markdown",
      "metadata": {
        "id": "0ValPgvI04xa"
      },
      "source": [
        "## (3) データの読み込み"
      ]
    },
    {
      "cell_type": "code",
      "execution_count": 2,
      "metadata": {
        "ExecuteTime": {
          "end_time": "2021-09-11T08:28:58.817827Z",
          "start_time": "2021-09-11T08:28:58.804803Z"
        },
        "id": "uBjMkI5904xc"
      },
      "outputs": [],
      "source": [
        "dumped_male_df_path = '/content/male_df.joblib'\n",
        "dumped_biased_df_path = '/content/biased_df.joblib'\n",
        "\n",
        "if os.path.exists(dumped_male_df_path):\n",
        "    male_df = joblib.load(dumped_male_df_path)\n",
        "    biased_df = joblib.load(dumped_biased_df_path)\n",
        "else:\n",
        "    # セレクションバイアスのあるデータの作成\n",
        "    mail_df = pd.read_csv('http://www.minethatdata.com/Kevin_Hillstrom_MineThatData_E-MailAnalytics_DataMiningChallenge_2008.03.20.csv')\n",
        "    ### 女性向けメールが配信されたデータを削除したデータを作成\n",
        "    male_df = mail_df[mail_df.segment != 'Womens E-Mail'].copy() # 女性向けメールが配信されたデータを削除\n",
        "    male_df['treatment'] = male_df.segment.apply(lambda x: 1 if x == 'Mens E-Mail' else 0) #介入を表すtreatment変数を追加\n",
        "    ## バイアスのあるデータの作成\n",
        "    sample_rules = (male_df.history > 300) | (male_df.recency < 6) | (male_df.channel=='Multichannel')\n",
        "    biased_df = pd.concat([\n",
        "        male_df[(sample_rules) & (male_df.treatment == 0)].sample(frac=0.5, random_state=1),\n",
        "        male_df[(sample_rules) & (male_df.treatment == 1)],\n",
        "        male_df[(~sample_rules) & (male_df.treatment == 0)],\n",
        "        male_df[(~sample_rules) & (male_df.treatment == 1)].sample(frac=0.5, random_state=1)\n",
        "    ], axis=0, ignore_index=True)"
      ]
    },
    {
      "cell_type": "markdown",
      "metadata": {
        "id": "6WId7Zxi04xd"
      },
      "source": [
        "## (6) 傾向スコアの推定\n"
      ]
    },
    {
      "cell_type": "code",
      "execution_count": 3,
      "metadata": {
        "ExecuteTime": {
          "end_time": "2021-09-11T08:28:59.018229Z",
          "start_time": "2021-09-11T08:28:58.819316Z"
        },
        "id": "To-E9WeY04xd"
      },
      "outputs": [],
      "source": [
        "y = biased_df['treatment']\n",
        "X = pd.get_dummies(biased_df[['recency', 'channel', 'history']], columns=['channel'], drop_first=True)\n",
        "\n",
        "ps_model = LogisticRegression(solver='lbfgs').fit(X, y)"
      ]
    },
    {
      "cell_type": "markdown",
      "metadata": {
        "id": "9kJoKf8804xd"
      },
      "source": [
        "## (7) 傾向スコアマッチング"
      ]
    },
    {
      "cell_type": "markdown",
      "metadata": {
        "id": "pAidPpFA04xe"
      },
      "source": [
        "### 番外編：確認のため、MatchItによるマッチング結果を見る\n",
        "事前準備\n",
        "```\n",
        "sudo R\n",
        ">install.packages(\"MatchIt\")\n",
        ">install.packages(\"Matching\")\n",
        "```"
      ]
    },
    {
      "cell_type": "code",
      "execution_count": 4,
      "metadata": {
        "ExecuteTime": {
          "end_time": "2021-09-11T08:28:59.632409Z",
          "start_time": "2021-09-11T08:28:59.278435Z"
        },
        "id": "rUZbHq2004xe"
      },
      "outputs": [],
      "source": [
        "# from rpy2.robjects import r, pandas2ri, globalenv\n",
        "# from rpy2.robjects.packages import importr\n",
        "# pandas2ri.activate()\n",
        "# matchit = importr('MatchIt')"
      ]
    },
    {
      "cell_type": "code",
      "execution_count": 5,
      "metadata": {
        "ExecuteTime": {
          "end_time": "2021-09-11T08:29:00.419608Z",
          "start_time": "2021-09-11T08:28:59.633959Z"
        },
        "id": "tVDxmO5T04xf"
      },
      "outputs": [],
      "source": [
        "# r_biased_df = pandas2ri.py2rpy(biased_df)\n",
        "# globalenv['r_biased_df'] = r_biased_df"
      ]
    },
    {
      "cell_type": "code",
      "execution_count": 6,
      "metadata": {
        "ExecuteTime": {
          "end_time": "2021-09-11T08:29:00.428251Z",
          "start_time": "2021-09-11T08:29:00.420695Z"
        },
        "id": "Zhup8Onu04xf"
      },
      "outputs": [],
      "source": [
        "# r('set.seed(1)')"
      ]
    },
    {
      "cell_type": "code",
      "execution_count": 7,
      "metadata": {
        "ExecuteTime": {
          "end_time": "2021-09-11T08:29:33.784039Z",
          "start_time": "2021-09-11T08:29:00.429254Z"
        },
        "id": "IoMG-d0G04xg"
      },
      "outputs": [],
      "source": [
        "# m_near = r('m_near <- matchit(formula = treatment ~ recency + history + channel,data = r_biased_df,method = \"nearest\",replace = TRUE)')"
      ]
    },
    {
      "cell_type": "code",
      "execution_count": 8,
      "metadata": {
        "ExecuteTime": {
          "end_time": "2021-09-11T08:29:34.107047Z",
          "start_time": "2021-09-11T08:29:33.785122Z"
        },
        "scrolled": true,
        "id": "mi2kxgzd04xg"
      },
      "outputs": [],
      "source": [
        "# matched_data = r('matched_data <- match.data(m_near)')"
      ]
    },
    {
      "cell_type": "code",
      "execution_count": 9,
      "metadata": {
        "ExecuteTime": {
          "end_time": "2021-09-11T08:29:34.110505Z",
          "start_time": "2021-09-11T08:29:34.107886Z"
        },
        "id": "WjeOy1tk04xg"
      },
      "outputs": [],
      "source": [
        "# matched_data.shape"
      ]
    },
    {
      "cell_type": "code",
      "execution_count": 10,
      "metadata": {
        "ExecuteTime": {
          "end_time": "2021-09-11T08:29:34.122391Z",
          "start_time": "2021-09-11T08:29:34.111234Z"
        },
        "id": "1CkFCIan04xg"
      },
      "outputs": [],
      "source": [
        "# biased_df.treatment.value_counts()"
      ]
    },
    {
      "cell_type": "markdown",
      "metadata": {
        "id": "SXKHuFNn04xg"
      },
      "source": [
        "マッチング後の件数が、treatment = 0　の件数 * 2より少ないので、おそらく一定のしきい値を設けて近傍点をマッチングしている"
      ]
    },
    {
      "cell_type": "code",
      "execution_count": 11,
      "metadata": {
        "ExecuteTime": {
          "end_time": "2021-09-11T08:29:34.147926Z",
          "start_time": "2021-09-11T08:29:34.123811Z"
        },
        "id": "EHNJ51LX04xg"
      },
      "outputs": [],
      "source": [
        "# ## マッチング後のデータで効果の推定\n",
        "# y = matched_data.spend\n",
        "# X = matched_data.treatment\n",
        "# X = sm.add_constant(X)\n",
        "# results = sm.OLS(y, X).fit()\n",
        "# coef = results.summary().tables[1]\n",
        "# coef"
      ]
    },
    {
      "cell_type": "markdown",
      "metadata": {
        "id": "IcPDcKuF04xh"
      },
      "source": [
        "### 追加実験：seedを変えて10回実行し、treatmentのcoefの分布を確認する\n",
        "std err分かってるから不要だったかも"
      ]
    },
    {
      "cell_type": "code",
      "execution_count": 12,
      "metadata": {
        "ExecuteTime": {
          "end_time": "2021-09-11T08:35:07.105208Z",
          "start_time": "2021-09-11T08:29:34.149697Z"
        },
        "id": "QIYiwnS_04xh"
      },
      "outputs": [],
      "source": [
        "# coefs = []\n",
        "# for i in tqdm_notebook(range(10)):\n",
        "#     r(f'set.seed({i})')\n",
        "#     m_near = r('m_near <- matchit(formula = treatment ~ recency + history + channel,data = r_biased_df,method = \"nearest\",replace = TRUE)')\n",
        "#     matched_data = r('matched_data <- match.data(m_near)')\n",
        "#     ## マッチング後のデータで効果の推定\n",
        "#     y = matched_data.spend\n",
        "#     X = matched_data.treatment\n",
        "#     X = sm.add_constant(X)\n",
        "#     results = sm.OLS(y, X).fit()\n",
        "#     coef = results.params.loc['treatment']\n",
        "#     print(f'iter: {i}, coef: {coef}')\n",
        "#     coefs.append(coef)"
      ]
    },
    {
      "cell_type": "code",
      "execution_count": 13,
      "metadata": {
        "ExecuteTime": {
          "end_time": "2021-09-11T08:35:07.350215Z",
          "start_time": "2021-09-11T08:35:07.106133Z"
        },
        "id": "OcPJkE8y04xh"
      },
      "outputs": [],
      "source": [
        "# fig = px.violin(pd.DataFrame({'coef': coefs}), y='coef', box=True, points='all',\n",
        "#                 title='MatchItによる傾向スコアマッチング後のtreatmentの効果分布')\n",
        "# fig.show()"
      ]
    },
    {
      "cell_type": "code",
      "execution_count": 14,
      "metadata": {
        "ExecuteTime": {
          "end_time": "2021-09-11T08:35:07.359782Z",
          "start_time": "2021-09-11T08:35:07.351188Z"
        },
        "id": "BSzkA8dR04xh"
      },
      "outputs": [],
      "source": [
        "# fig.write_html('ch3_plot0.html', auto_open=False)"
      ]
    },
    {
      "cell_type": "markdown",
      "metadata": {
        "id": "DO6yYto704xh"
      },
      "source": [
        "### Pythonでの実装"
      ]
    },
    {
      "cell_type": "code",
      "execution_count": 15,
      "metadata": {
        "ExecuteTime": {
          "end_time": "2021-09-11T08:35:07.376163Z",
          "start_time": "2021-09-11T08:35:07.360760Z"
        },
        "id": "8lnL9Kba04xh"
      },
      "outputs": [],
      "source": [
        "y = biased_df['treatment']\n",
        "X = pd.get_dummies(biased_df[['recency', 'channel', 'history']], columns=['channel'], drop_first=True)"
      ]
    },
    {
      "cell_type": "code",
      "execution_count": 16,
      "metadata": {
        "ExecuteTime": {
          "end_time": "2021-09-11T08:35:07.385529Z",
          "start_time": "2021-09-11T08:35:07.377223Z"
        },
        "id": "fygshrv004xh"
      },
      "outputs": [],
      "source": [
        "def get_matched_dfs_using_propensity_score(X, y, random_state=0):\n",
        "    # 傾向スコアを計算する\n",
        "    ps_model = LogisticRegression(solver='lbfgs', random_state=random_state).fit(X, y)\n",
        "    ps_score = ps_model.predict_proba(X)[:, 1]\n",
        "    all_df = pd.DataFrame({'treatment': y, 'ps_score': ps_score})\n",
        "    treatments = all_df.treatment.unique()\n",
        "    if len(treatments) != 2:\n",
        "        print('2群のマッチングしかできません。2群は必ず[0, 1]で表現してください。')\n",
        "        raise ValueError\n",
        "    # treatment == 1をgroup1, treatment == 0をgroup2とする。group1にマッチするgroup2を抽出するのでATTの推定になるはず\n",
        "    group1_df = all_df[all_df.treatment==1].copy()\n",
        "    group1_indices = group1_df.index\n",
        "    group1_df = group1_df.reset_index(drop=True)\n",
        "    group2_df = all_df[all_df.treatment==0].copy()\n",
        "    group2_indices = group2_df.index\n",
        "    group2_df = group2_df.reset_index(drop=True)\n",
        "\n",
        "    # 全体の傾向スコアの標準偏差 * 0.2をしきい値とする\n",
        "    threshold = all_df.ps_score.std() * 0.2\n",
        "\n",
        "    matched_group1_dfs = []\n",
        "    matched_group2_dfs = []\n",
        "    _group1_df = group1_df.copy()\n",
        "    _group2_df = group2_df.copy()\n",
        "\n",
        "    while True:\n",
        "        # NearestNeighborsで最近傍点1点を見つけ、マッチングする\n",
        "        neigh = NearestNeighbors(n_neighbors=1)\n",
        "        neigh.fit(_group1_df.ps_score.values.reshape(-1, 1))\n",
        "        distances, indices = neigh.kneighbors(_group2_df.ps_score.values.reshape(-1, 1))\n",
        "        # 重複点を削除する\n",
        "        distance_df = pd.DataFrame({'distance': distances.reshape(-1), 'indices': indices.reshape(-1)})\n",
        "        distance_df.index = _group2_df.index\n",
        "        distance_df = distance_df.drop_duplicates(subset='indices')\n",
        "        # しきい値を超えたレコードを削除する\n",
        "        distance_df = distance_df[distance_df.distance < threshold]\n",
        "        if len(distance_df) == 0:\n",
        "            break\n",
        "        # マッチングしたレコードを抽出、削除する\n",
        "        group1_matched_indices = _group1_df.iloc[distance_df['indices']].index.tolist()\n",
        "        group2_matched_indices = distance_df.index\n",
        "        matched_group1_dfs.append(_group1_df.loc[group1_matched_indices])\n",
        "        matched_group2_dfs.append(_group2_df.loc[group2_matched_indices])\n",
        "        _group1_df = _group1_df.drop(group1_matched_indices)\n",
        "        _group2_df = _group2_df.drop(group2_matched_indices)\n",
        "\n",
        "    # マッチしたレコードを返す\n",
        "    group1_df.index = group1_indices\n",
        "    group2_df.index = group2_indices\n",
        "    matched_df = pd.concat([\n",
        "        group1_df.iloc[pd.concat(matched_group1_dfs).index],\n",
        "        group2_df.iloc[pd.concat(matched_group2_dfs).index]\n",
        "    ]).sort_index()\n",
        "    matched_indices = matched_df.index\n",
        "\n",
        "    return X.loc[matched_indices], y.loc[matched_indices]"
      ]
    },
    {
      "cell_type": "code",
      "execution_count": 17,
      "metadata": {
        "ExecuteTime": {
          "end_time": "2021-09-11T08:35:08.121140Z",
          "start_time": "2021-09-11T08:35:07.386560Z"
        },
        "id": "vtWGWeU504xh"
      },
      "outputs": [],
      "source": [
        "matchX, matchy = get_matched_dfs_using_propensity_score(X, y)"
      ]
    },
    {
      "cell_type": "code",
      "execution_count": 18,
      "metadata": {
        "ExecuteTime": {
          "end_time": "2021-09-11T08:35:08.135608Z",
          "start_time": "2021-09-11T08:35:08.122037Z"
        },
        "colab": {
          "base_uri": "https://localhost:8080/",
          "height": 83
        },
        "id": "zJ4Nr4xU04xh",
        "outputId": "342500a5-b965-456f-bf52-15b35a6df93d"
      },
      "outputs": [
        {
          "output_type": "execute_result",
          "data": {
            "text/plain": [
              "<class 'statsmodels.iolib.table.SimpleTable'>"
            ],
            "text/html": [
              "<table class=\"simpletable\">\n",
              "<tr>\n",
              "      <td></td>         <th>coef</th>     <th>std err</th>      <th>t</th>      <th>P>|t|</th>  <th>[0.025</th>    <th>0.975]</th>  \n",
              "</tr>\n",
              "<tr>\n",
              "  <th>const</th>     <td>    0.6214</td> <td>    0.143</td> <td>    4.342</td> <td> 0.000</td> <td>    0.341</td> <td>    0.902</td>\n",
              "</tr>\n",
              "<tr>\n",
              "  <th>treatment</th> <td>    0.7940</td> <td>    0.202</td> <td>    3.923</td> <td> 0.000</td> <td>    0.397</td> <td>    1.191</td>\n",
              "</tr>\n",
              "</table>"
            ],
            "text/latex": "\\begin{center}\n\\begin{tabular}{lcccccc}\n\\toprule\n                   & \\textbf{coef} & \\textbf{std err} & \\textbf{t} & \\textbf{P$> |$t$|$} & \\textbf{[0.025} & \\textbf{0.975]}  \\\\\n\\midrule\n\\textbf{const}     &       0.6214  &        0.143     &     4.342  &         0.000        &        0.341    &        0.902     \\\\\n\\textbf{treatment} &       0.7940  &        0.202     &     3.923  &         0.000        &        0.397    &        1.191     \\\\\n\\bottomrule\n\\end{tabular}\n\\end{center}"
          },
          "metadata": {},
          "execution_count": 18
        }
      ],
      "source": [
        "## マッチング後のデータで効果の推定\n",
        "y = biased_df.loc[matchX.index].spend\n",
        "X = matchy\n",
        "X = sm.add_constant(X)\n",
        "results = sm.OLS(y, X).fit()\n",
        "coef = results.summary().tables[1]\n",
        "coef"
      ]
    },
    {
      "cell_type": "markdown",
      "metadata": {
        "id": "T1TfPS9804xh"
      },
      "source": [
        "## seedを変えて10回実行し、treatmentのcoefの分布を確認する"
      ]
    },
    {
      "cell_type": "code",
      "execution_count": 19,
      "metadata": {
        "ExecuteTime": {
          "end_time": "2021-09-11T08:35:14.958002Z",
          "start_time": "2021-09-11T08:35:08.137115Z"
        },
        "scrolled": true,
        "colab": {
          "base_uri": "https://localhost:8080/",
          "height": 228,
          "referenced_widgets": [
            "8da876014f014eb2b07a6e8efb4714ee",
            "157694c1199f429ebd2a7cb04108edd0",
            "8350e64c3ec64bcb9e8712aba8890e5f",
            "7589939df7ba44fa8c66b387aa3d9348",
            "b893ff65c2d340f49cea6e0bcde7d8f5",
            "aac1250a4d414f91b5ac1700e41a79aa",
            "faaf73b031644851a51c02bb192f7301",
            "7d57c09297ca4d108aaa7dbc4ac9d249",
            "4a97e65c6e834395a470c0ef3fe36300",
            "4c3771cd7490463bbdb6e71a46b18f83",
            "e7153347ec634f25bd620e2bc397e758"
          ]
        },
        "id": "VpRaUbSD04xi",
        "outputId": "3f76463a-bf06-4359-a245-812d31f3745d"
      },
      "outputs": [
        {
          "output_type": "display_data",
          "data": {
            "text/plain": [
              "  0%|          | 0/10 [00:00<?, ?it/s]"
            ],
            "application/vnd.jupyter.widget-view+json": {
              "version_major": 2,
              "version_minor": 0,
              "model_id": "8da876014f014eb2b07a6e8efb4714ee"
            }
          },
          "metadata": {}
        },
        {
          "output_type": "stream",
          "name": "stdout",
          "text": [
            "iter: 0, coef: 0.7940240711669371\n",
            "iter: 1, coef: 0.7940240711669371\n",
            "iter: 2, coef: 0.7940240711669371\n",
            "iter: 3, coef: 0.7940240711669371\n",
            "iter: 4, coef: 0.7940240711669371\n",
            "iter: 5, coef: 0.7940240711669371\n",
            "iter: 6, coef: 0.7940240711669371\n",
            "iter: 7, coef: 0.7940240711669371\n",
            "iter: 8, coef: 0.7940240711669371\n",
            "iter: 9, coef: 0.7940240711669371\n"
          ]
        }
      ],
      "source": [
        "coefs_py = []\n",
        "for i in tqdm_notebook(range(10)):\n",
        "    random.seed(i)\n",
        "    os.environ['PYTHONHASHSEED'] = str(i)\n",
        "    np.random.seed(i)\n",
        "    y = biased_df['treatment']\n",
        "    X = pd.get_dummies(biased_df[['recency', 'channel', 'history']], columns=['channel'], drop_first=True)\n",
        "    matchX, matchy = get_matched_dfs_using_propensity_score(X, y, random_state=i)\n",
        "    y = biased_df.loc[matchX.index].spend\n",
        "    X = matchy\n",
        "    X = sm.add_constant(X)\n",
        "    results = sm.OLS(y, X).fit()\n",
        "    coef = results.params.loc['treatment']\n",
        "    print(f'iter: {i}, coef: {coef}')\n",
        "    coefs_py.append(coef)"
      ]
    },
    {
      "cell_type": "markdown",
      "metadata": {
        "id": "E6ZA-0Vj04xi"
      },
      "source": [
        "seedを変えても結果は変わらず。。。  \n",
        "MatchItの結果と比較してやや下振れだが、0.8088+-0.203のためMatchItでの計算結果と大きな乖離があるとは言えない"
      ]
    },
    {
      "cell_type": "markdown",
      "metadata": {
        "id": "6TtRfDGZ04xi"
      },
      "source": [
        "## (8) 逆確率重み付き推定（IPW）"
      ]
    },
    {
      "cell_type": "markdown",
      "metadata": {
        "id": "zwEN9UO804xi"
      },
      "source": [
        "### 番外編：確認のため、WeightItによる重み付け後の結果を見る\n",
        "事前準備\n",
        "```\n",
        "sudo R\n",
        ">install.packages(\"WeightIt\")\n",
        "```"
      ]
    },
    {
      "cell_type": "code",
      "execution_count": 20,
      "metadata": {
        "ExecuteTime": {
          "end_time": "2021-09-11T08:35:16.259081Z",
          "start_time": "2021-09-11T08:35:14.959014Z"
        },
        "id": "UBUX-u9M04xi"
      },
      "outputs": [],
      "source": [
        "# pandas2ri.activate()\n",
        "# weightit = importr('WeightIt')\n",
        "# r_biased_df = pandas2ri.py2rpy(biased_df)\n",
        "# globalenv['r_biased_df'] = r_biased_df\n",
        "# r('set.seed(1)')\n",
        "# ## 重みの推定\n",
        "# weighting = r('weighting <- weightit(treatment ~ recency + history + channel,data = r_biased_df,method = \"ps\",estimand = \"ATE\")')"
      ]
    },
    {
      "cell_type": "code",
      "execution_count": 21,
      "metadata": {
        "ExecuteTime": {
          "end_time": "2021-09-11T08:35:16.264238Z",
          "start_time": "2021-09-11T08:35:16.260353Z"
        },
        "id": "kvdyqq2-04xi"
      },
      "outputs": [],
      "source": [
        "# weighting[0]"
      ]
    },
    {
      "cell_type": "code",
      "execution_count": 22,
      "metadata": {
        "ExecuteTime": {
          "end_time": "2021-09-11T08:35:16.288255Z",
          "start_time": "2021-09-11T08:35:16.266330Z"
        },
        "id": "-BO9Zq2m04xi"
      },
      "outputs": [],
      "source": [
        "# ## 重み付きデータでの効果の推定\n",
        "# y = biased_df.spend\n",
        "# X = biased_df.treatment\n",
        "# X = sm.add_constant(X)\n",
        "# results = sm.WLS(y, X, weights=weighting[0]).fit()\n",
        "# coef = results.summary().tables[1]\n",
        "# coef"
      ]
    },
    {
      "cell_type": "markdown",
      "metadata": {
        "id": "Icl0YyVJ04xi"
      },
      "source": [
        "## Pythonで実装"
      ]
    },
    {
      "cell_type": "code",
      "execution_count": 23,
      "metadata": {
        "ExecuteTime": {
          "end_time": "2021-09-11T08:35:16.296162Z",
          "start_time": "2021-09-11T08:35:16.289894Z"
        },
        "id": "V_MTdpO104xi"
      },
      "outputs": [],
      "source": [
        "def get_ipw(X, y, random_state=0):\n",
        "    # 傾向スコアを計算する\n",
        "    ps_model = LogisticRegression(solver='lbfgs', random_state=random_state).fit(X, y)\n",
        "    ps_score = ps_model.predict_proba(X)[:, 1]\n",
        "    all_df = pd.DataFrame({'treatment': y, 'ps_score': ps_score})\n",
        "    treatments = all_df.treatment.unique()\n",
        "    if len(treatments) != 2:\n",
        "        print('2群のマッチングしかできません。2群は必ず[0, 1]で表現してください。')\n",
        "        raise ValueError\n",
        "    # treatment == 1をgroup1, treatment == 0をgroup2とする。\n",
        "    group1_df = all_df[all_df.treatment==1].copy()\n",
        "    group2_df = all_df[all_df.treatment==0].copy()\n",
        "    group1_df['weight'] = 1 / group1_df.ps_score\n",
        "    group2_df['weight'] = 1 / (1 - group2_df.ps_score)\n",
        "    weights = pd.concat([group1_df, group2_df]).sort_index()['weight'].values\n",
        "    return weights"
      ]
    },
    {
      "cell_type": "code",
      "execution_count": 24,
      "metadata": {
        "ExecuteTime": {
          "end_time": "2021-09-11T08:35:16.565084Z",
          "start_time": "2021-09-11T08:35:16.297683Z"
        },
        "id": "HIyleUIr04xi"
      },
      "outputs": [],
      "source": [
        "y = biased_df['treatment']\n",
        "X = pd.get_dummies(biased_df[['recency', 'channel', 'history']], columns=['channel'], drop_first=True)\n",
        "weights = get_ipw(X, y)"
      ]
    },
    {
      "cell_type": "code",
      "execution_count": 25,
      "metadata": {
        "ExecuteTime": {
          "end_time": "2021-09-11T08:35:16.571068Z",
          "start_time": "2021-09-11T08:35:16.567084Z"
        },
        "colab": {
          "base_uri": "https://localhost:8080/"
        },
        "id": "D1JhOZ8R04xi",
        "outputId": "c452e360-9606-427b-e5da-f85138100cbe"
      },
      "outputs": [
        {
          "output_type": "execute_result",
          "data": {
            "text/plain": [
              "array([ 2.04325576,  2.10624393, 11.44468108, ...,  2.86303711,\n",
              "        2.76924805,  2.95525343])"
            ]
          },
          "metadata": {},
          "execution_count": 25
        }
      ],
      "source": [
        "weights"
      ]
    },
    {
      "cell_type": "markdown",
      "metadata": {
        "id": "OFL4UHyh04xj"
      },
      "source": [
        "WeightItの結果と大体あってそう"
      ]
    },
    {
      "cell_type": "code",
      "execution_count": 26,
      "metadata": {
        "ExecuteTime": {
          "end_time": "2021-09-11T08:35:16.593502Z",
          "start_time": "2021-09-11T08:35:16.572745Z"
        },
        "colab": {
          "base_uri": "https://localhost:8080/",
          "height": 83
        },
        "id": "Xao4EwhJ04xj",
        "outputId": "1a6cd423-4106-4895-f71b-f74a13d23e35"
      },
      "outputs": [
        {
          "output_type": "execute_result",
          "data": {
            "text/plain": [
              "<class 'statsmodels.iolib.table.SimpleTable'>"
            ],
            "text/html": [
              "<table class=\"simpletable\">\n",
              "<tr>\n",
              "      <td></td>         <th>coef</th>     <th>std err</th>      <th>t</th>      <th>P>|t|</th>  <th>[0.025</th>    <th>0.975]</th>  \n",
              "</tr>\n",
              "<tr>\n",
              "  <th>const</th>     <td>    0.5903</td> <td>    0.120</td> <td>    4.920</td> <td> 0.000</td> <td>    0.355</td> <td>    0.825</td>\n",
              "</tr>\n",
              "<tr>\n",
              "  <th>treatment</th> <td>    0.8856</td> <td>    0.170</td> <td>    5.203</td> <td> 0.000</td> <td>    0.552</td> <td>    1.219</td>\n",
              "</tr>\n",
              "</table>"
            ],
            "text/latex": "\\begin{center}\n\\begin{tabular}{lcccccc}\n\\toprule\n                   & \\textbf{coef} & \\textbf{std err} & \\textbf{t} & \\textbf{P$> |$t$|$} & \\textbf{[0.025} & \\textbf{0.975]}  \\\\\n\\midrule\n\\textbf{const}     &       0.5903  &        0.120     &     4.920  &         0.000        &        0.355    &        0.825     \\\\\n\\textbf{treatment} &       0.8856  &        0.170     &     5.203  &         0.000        &        0.552    &        1.219     \\\\\n\\bottomrule\n\\end{tabular}\n\\end{center}"
          },
          "metadata": {},
          "execution_count": 26
        }
      ],
      "source": [
        "## 重み付きデータでの効果の推定\n",
        "y = biased_df.spend\n",
        "X = biased_df.treatment\n",
        "X = sm.add_constant(X)\n",
        "results = sm.WLS(y, X, weights=weights).fit()\n",
        "coef = results.summary().tables[1]\n",
        "coef"
      ]
    },
    {
      "cell_type": "markdown",
      "metadata": {
        "id": "YkbCyrhK04xo"
      },
      "source": [
        "## (9) 共変量のバランスを確認"
      ]
    },
    {
      "cell_type": "code",
      "execution_count": 27,
      "metadata": {
        "ExecuteTime": {
          "end_time": "2021-09-11T08:35:17.623775Z",
          "start_time": "2021-09-11T08:35:16.595324Z"
        },
        "id": "MQ2U-2zb04xo"
      },
      "outputs": [],
      "source": [
        "def calc_absolute_mean_difference(df):\n",
        "    # (treatment群の平均 - control群の平均) / 全体の標準誤差\n",
        "    return ((df[df.treatment==1].drop('treatment', axis=1).mean() - df[df.treatment==0].drop('treatment', axis=1).mean()) \\\n",
        "            / df.drop('treatment', axis=1).std()).abs()\n",
        "\n",
        "## 調整前のAbsolute Mean Difference\n",
        "unadjusted_df = pd.get_dummies(biased_df[['treatment', 'recency', 'channel', 'history']], columns=['channel'])\n",
        "unadjusted_amd = calc_absolute_mean_difference(unadjusted_df)\n",
        "\n",
        "# 傾向スコアマッチング後のAbusolute Mean Difference\n",
        "after_matching_df = pd.get_dummies(biased_df.loc[matchX.index][['treatment', 'recency', 'history', 'channel']], columns=['channel'])\n",
        "after_matching_amd = calc_absolute_mean_difference(after_matching_df)\n",
        "\n",
        "# IPWで重み付け後のAbusolute Mean Difference\n",
        "# 重みのぶんレコードを増やして計算する（もっといいやり方を知りたい）\n",
        "after_weighted_df = pd.get_dummies(biased_df[['treatment', 'recency', 'channel', 'history']], columns=['channel'])\n",
        "weights_int = (weights * 100).astype(int)\n",
        "weighted_df = []\n",
        "for i, value in enumerate(after_weighted_df.values):\n",
        "    weighted_df.append(np.tile(value, (weights_int[i], 1)))\n",
        "weighted_df = np.concatenate(weighted_df).reshape(-1, 6)\n",
        "weighted_df = pd.DataFrame(weighted_df)\n",
        "weighted_df.columns = after_weighted_df.columns\n",
        "after_weighted_amd = calc_absolute_mean_difference(weighted_df)"
      ]
    },
    {
      "cell_type": "markdown",
      "metadata": {
        "id": "HjGpTAAG04xo"
      },
      "source": [
        "### マッチングしたデータでの共変量のバランス"
      ]
    },
    {
      "cell_type": "code",
      "execution_count": 28,
      "metadata": {
        "ExecuteTime": {
          "end_time": "2021-09-11T08:35:17.666523Z",
          "start_time": "2021-09-11T08:35:17.624771Z"
        },
        "colab": {
          "base_uri": "https://localhost:8080/",
          "height": 542
        },
        "id": "STriN-GZ04xo",
        "outputId": "b3500f8b-0cad-4d82-eba8-e68441883790"
      },
      "outputs": [
        {
          "output_type": "display_data",
          "data": {
            "text/html": [
              "<html>\n",
              "<head><meta charset=\"utf-8\" /></head>\n",
              "<body>\n",
              "    <div>            <script src=\"https://cdnjs.cloudflare.com/ajax/libs/mathjax/2.7.5/MathJax.js?config=TeX-AMS-MML_SVG\"></script><script type=\"text/javascript\">if (window.MathJax && window.MathJax.Hub && window.MathJax.Hub.Config) {window.MathJax.Hub.Config({SVG: {font: \"STIX-Web\"}});}</script>                <script type=\"text/javascript\">window.PlotlyConfig = {MathJaxConfig: 'local'};</script>\n",
              "        <script charset=\"utf-8\" src=\"https://cdn.plot.ly/plotly-2.24.1.min.js\"></script>                <div id=\"b935d04b-0403-4124-b561-1cb53308c780\" class=\"plotly-graph-div\" style=\"height:525px; width:100%;\"></div>            <script type=\"text/javascript\">                                    window.PLOTLYENV=window.PLOTLYENV || {};                                    if (document.getElementById(\"b935d04b-0403-4124-b561-1cb53308c780\")) {                    Plotly.newPlot(                        \"b935d04b-0403-4124-b561-1cb53308c780\",                        [{\"hovertemplate\":\"Sample=Unadjusted\\u003cbr\\u003eAbsolute Mean Difference=%{x}\\u003cbr\\u003eindex=%{y}\\u003cextra\\u003e\\u003c\\u002fextra\\u003e\",\"legendgroup\":\"Unadjusted\",\"marker\":{\"color\":\"#636efa\",\"symbol\":\"circle\"},\"mode\":\"markers\",\"name\":\"Unadjusted\",\"orientation\":\"h\",\"showlegend\":true,\"x\":[0.45909373532958936,0.27378255946497726,0.19419542549553442,0.06251569216204957,0.06501444208050745],\"xaxis\":\"x\",\"y\":[\"recency\",\"history\",\"channel_Multichannel\",\"channel_Phone\",\"channel_Web\"],\"yaxis\":\"y\",\"type\":\"scatter\"},{\"hovertemplate\":\"Sample=Adjusted\\u003cbr\\u003eAbsolute Mean Difference=%{x}\\u003cbr\\u003eindex=%{y}\\u003cextra\\u003e\\u003c\\u002fextra\\u003e\",\"legendgroup\":\"Adjusted\",\"marker\":{\"color\":\"#EF553B\",\"symbol\":\"circle\"},\"mode\":\"markers\",\"name\":\"Adjusted\",\"orientation\":\"h\",\"showlegend\":true,\"x\":[0.03359409395203875,0.05554299677775295,0.05747508802434172,0.021990845423626053,0.01579729808161055],\"xaxis\":\"x\",\"y\":[\"recency\",\"history\",\"channel_Multichannel\",\"channel_Phone\",\"channel_Web\"],\"yaxis\":\"y\",\"type\":\"scatter\"}],                        {\"template\":{\"data\":{\"histogram2dcontour\":[{\"type\":\"histogram2dcontour\",\"colorbar\":{\"outlinewidth\":0,\"ticks\":\"\"},\"colorscale\":[[0.0,\"#0d0887\"],[0.1111111111111111,\"#46039f\"],[0.2222222222222222,\"#7201a8\"],[0.3333333333333333,\"#9c179e\"],[0.4444444444444444,\"#bd3786\"],[0.5555555555555556,\"#d8576b\"],[0.6666666666666666,\"#ed7953\"],[0.7777777777777778,\"#fb9f3a\"],[0.8888888888888888,\"#fdca26\"],[1.0,\"#f0f921\"]]}],\"choropleth\":[{\"type\":\"choropleth\",\"colorbar\":{\"outlinewidth\":0,\"ticks\":\"\"}}],\"histogram2d\":[{\"type\":\"histogram2d\",\"colorbar\":{\"outlinewidth\":0,\"ticks\":\"\"},\"colorscale\":[[0.0,\"#0d0887\"],[0.1111111111111111,\"#46039f\"],[0.2222222222222222,\"#7201a8\"],[0.3333333333333333,\"#9c179e\"],[0.4444444444444444,\"#bd3786\"],[0.5555555555555556,\"#d8576b\"],[0.6666666666666666,\"#ed7953\"],[0.7777777777777778,\"#fb9f3a\"],[0.8888888888888888,\"#fdca26\"],[1.0,\"#f0f921\"]]}],\"heatmap\":[{\"type\":\"heatmap\",\"colorbar\":{\"outlinewidth\":0,\"ticks\":\"\"},\"colorscale\":[[0.0,\"#0d0887\"],[0.1111111111111111,\"#46039f\"],[0.2222222222222222,\"#7201a8\"],[0.3333333333333333,\"#9c179e\"],[0.4444444444444444,\"#bd3786\"],[0.5555555555555556,\"#d8576b\"],[0.6666666666666666,\"#ed7953\"],[0.7777777777777778,\"#fb9f3a\"],[0.8888888888888888,\"#fdca26\"],[1.0,\"#f0f921\"]]}],\"heatmapgl\":[{\"type\":\"heatmapgl\",\"colorbar\":{\"outlinewidth\":0,\"ticks\":\"\"},\"colorscale\":[[0.0,\"#0d0887\"],[0.1111111111111111,\"#46039f\"],[0.2222222222222222,\"#7201a8\"],[0.3333333333333333,\"#9c179e\"],[0.4444444444444444,\"#bd3786\"],[0.5555555555555556,\"#d8576b\"],[0.6666666666666666,\"#ed7953\"],[0.7777777777777778,\"#fb9f3a\"],[0.8888888888888888,\"#fdca26\"],[1.0,\"#f0f921\"]]}],\"contourcarpet\":[{\"type\":\"contourcarpet\",\"colorbar\":{\"outlinewidth\":0,\"ticks\":\"\"}}],\"contour\":[{\"type\":\"contour\",\"colorbar\":{\"outlinewidth\":0,\"ticks\":\"\"},\"colorscale\":[[0.0,\"#0d0887\"],[0.1111111111111111,\"#46039f\"],[0.2222222222222222,\"#7201a8\"],[0.3333333333333333,\"#9c179e\"],[0.4444444444444444,\"#bd3786\"],[0.5555555555555556,\"#d8576b\"],[0.6666666666666666,\"#ed7953\"],[0.7777777777777778,\"#fb9f3a\"],[0.8888888888888888,\"#fdca26\"],[1.0,\"#f0f921\"]]}],\"surface\":[{\"type\":\"surface\",\"colorbar\":{\"outlinewidth\":0,\"ticks\":\"\"},\"colorscale\":[[0.0,\"#0d0887\"],[0.1111111111111111,\"#46039f\"],[0.2222222222222222,\"#7201a8\"],[0.3333333333333333,\"#9c179e\"],[0.4444444444444444,\"#bd3786\"],[0.5555555555555556,\"#d8576b\"],[0.6666666666666666,\"#ed7953\"],[0.7777777777777778,\"#fb9f3a\"],[0.8888888888888888,\"#fdca26\"],[1.0,\"#f0f921\"]]}],\"mesh3d\":[{\"type\":\"mesh3d\",\"colorbar\":{\"outlinewidth\":0,\"ticks\":\"\"}}],\"scatter\":[{\"fillpattern\":{\"fillmode\":\"overlay\",\"size\":10,\"solidity\":0.2},\"type\":\"scatter\"}],\"parcoords\":[{\"type\":\"parcoords\",\"line\":{\"colorbar\":{\"outlinewidth\":0,\"ticks\":\"\"}}}],\"scatterpolargl\":[{\"type\":\"scatterpolargl\",\"marker\":{\"colorbar\":{\"outlinewidth\":0,\"ticks\":\"\"}}}],\"bar\":[{\"error_x\":{\"color\":\"#2a3f5f\"},\"error_y\":{\"color\":\"#2a3f5f\"},\"marker\":{\"line\":{\"color\":\"#E5ECF6\",\"width\":0.5},\"pattern\":{\"fillmode\":\"overlay\",\"size\":10,\"solidity\":0.2}},\"type\":\"bar\"}],\"scattergeo\":[{\"type\":\"scattergeo\",\"marker\":{\"colorbar\":{\"outlinewidth\":0,\"ticks\":\"\"}}}],\"scatterpolar\":[{\"type\":\"scatterpolar\",\"marker\":{\"colorbar\":{\"outlinewidth\":0,\"ticks\":\"\"}}}],\"histogram\":[{\"marker\":{\"pattern\":{\"fillmode\":\"overlay\",\"size\":10,\"solidity\":0.2}},\"type\":\"histogram\"}],\"scattergl\":[{\"type\":\"scattergl\",\"marker\":{\"colorbar\":{\"outlinewidth\":0,\"ticks\":\"\"}}}],\"scatter3d\":[{\"type\":\"scatter3d\",\"line\":{\"colorbar\":{\"outlinewidth\":0,\"ticks\":\"\"}},\"marker\":{\"colorbar\":{\"outlinewidth\":0,\"ticks\":\"\"}}}],\"scattermapbox\":[{\"type\":\"scattermapbox\",\"marker\":{\"colorbar\":{\"outlinewidth\":0,\"ticks\":\"\"}}}],\"scatterternary\":[{\"type\":\"scatterternary\",\"marker\":{\"colorbar\":{\"outlinewidth\":0,\"ticks\":\"\"}}}],\"scattercarpet\":[{\"type\":\"scattercarpet\",\"marker\":{\"colorbar\":{\"outlinewidth\":0,\"ticks\":\"\"}}}],\"carpet\":[{\"aaxis\":{\"endlinecolor\":\"#2a3f5f\",\"gridcolor\":\"white\",\"linecolor\":\"white\",\"minorgridcolor\":\"white\",\"startlinecolor\":\"#2a3f5f\"},\"baxis\":{\"endlinecolor\":\"#2a3f5f\",\"gridcolor\":\"white\",\"linecolor\":\"white\",\"minorgridcolor\":\"white\",\"startlinecolor\":\"#2a3f5f\"},\"type\":\"carpet\"}],\"table\":[{\"cells\":{\"fill\":{\"color\":\"#EBF0F8\"},\"line\":{\"color\":\"white\"}},\"header\":{\"fill\":{\"color\":\"#C8D4E3\"},\"line\":{\"color\":\"white\"}},\"type\":\"table\"}],\"barpolar\":[{\"marker\":{\"line\":{\"color\":\"#E5ECF6\",\"width\":0.5},\"pattern\":{\"fillmode\":\"overlay\",\"size\":10,\"solidity\":0.2}},\"type\":\"barpolar\"}],\"pie\":[{\"automargin\":true,\"type\":\"pie\"}]},\"layout\":{\"autotypenumbers\":\"strict\",\"colorway\":[\"#636efa\",\"#EF553B\",\"#00cc96\",\"#ab63fa\",\"#FFA15A\",\"#19d3f3\",\"#FF6692\",\"#B6E880\",\"#FF97FF\",\"#FECB52\"],\"font\":{\"color\":\"#2a3f5f\"},\"hovermode\":\"closest\",\"hoverlabel\":{\"align\":\"left\"},\"paper_bgcolor\":\"white\",\"plot_bgcolor\":\"#E5ECF6\",\"polar\":{\"bgcolor\":\"#E5ECF6\",\"angularaxis\":{\"gridcolor\":\"white\",\"linecolor\":\"white\",\"ticks\":\"\"},\"radialaxis\":{\"gridcolor\":\"white\",\"linecolor\":\"white\",\"ticks\":\"\"}},\"ternary\":{\"bgcolor\":\"#E5ECF6\",\"aaxis\":{\"gridcolor\":\"white\",\"linecolor\":\"white\",\"ticks\":\"\"},\"baxis\":{\"gridcolor\":\"white\",\"linecolor\":\"white\",\"ticks\":\"\"},\"caxis\":{\"gridcolor\":\"white\",\"linecolor\":\"white\",\"ticks\":\"\"}},\"coloraxis\":{\"colorbar\":{\"outlinewidth\":0,\"ticks\":\"\"}},\"colorscale\":{\"sequential\":[[0.0,\"#0d0887\"],[0.1111111111111111,\"#46039f\"],[0.2222222222222222,\"#7201a8\"],[0.3333333333333333,\"#9c179e\"],[0.4444444444444444,\"#bd3786\"],[0.5555555555555556,\"#d8576b\"],[0.6666666666666666,\"#ed7953\"],[0.7777777777777778,\"#fb9f3a\"],[0.8888888888888888,\"#fdca26\"],[1.0,\"#f0f921\"]],\"sequentialminus\":[[0.0,\"#0d0887\"],[0.1111111111111111,\"#46039f\"],[0.2222222222222222,\"#7201a8\"],[0.3333333333333333,\"#9c179e\"],[0.4444444444444444,\"#bd3786\"],[0.5555555555555556,\"#d8576b\"],[0.6666666666666666,\"#ed7953\"],[0.7777777777777778,\"#fb9f3a\"],[0.8888888888888888,\"#fdca26\"],[1.0,\"#f0f921\"]],\"diverging\":[[0,\"#8e0152\"],[0.1,\"#c51b7d\"],[0.2,\"#de77ae\"],[0.3,\"#f1b6da\"],[0.4,\"#fde0ef\"],[0.5,\"#f7f7f7\"],[0.6,\"#e6f5d0\"],[0.7,\"#b8e186\"],[0.8,\"#7fbc41\"],[0.9,\"#4d9221\"],[1,\"#276419\"]]},\"xaxis\":{\"gridcolor\":\"white\",\"linecolor\":\"white\",\"ticks\":\"\",\"title\":{\"standoff\":15},\"zerolinecolor\":\"white\",\"automargin\":true,\"zerolinewidth\":2},\"yaxis\":{\"gridcolor\":\"white\",\"linecolor\":\"white\",\"ticks\":\"\",\"title\":{\"standoff\":15},\"zerolinecolor\":\"white\",\"automargin\":true,\"zerolinewidth\":2},\"scene\":{\"xaxis\":{\"backgroundcolor\":\"#E5ECF6\",\"gridcolor\":\"white\",\"linecolor\":\"white\",\"showbackground\":true,\"ticks\":\"\",\"zerolinecolor\":\"white\",\"gridwidth\":2},\"yaxis\":{\"backgroundcolor\":\"#E5ECF6\",\"gridcolor\":\"white\",\"linecolor\":\"white\",\"showbackground\":true,\"ticks\":\"\",\"zerolinecolor\":\"white\",\"gridwidth\":2},\"zaxis\":{\"backgroundcolor\":\"#E5ECF6\",\"gridcolor\":\"white\",\"linecolor\":\"white\",\"showbackground\":true,\"ticks\":\"\",\"zerolinecolor\":\"white\",\"gridwidth\":2}},\"shapedefaults\":{\"line\":{\"color\":\"#2a3f5f\"}},\"annotationdefaults\":{\"arrowcolor\":\"#2a3f5f\",\"arrowhead\":0,\"arrowwidth\":1},\"geo\":{\"bgcolor\":\"white\",\"landcolor\":\"#E5ECF6\",\"subunitcolor\":\"white\",\"showland\":true,\"showlakes\":true,\"lakecolor\":\"white\"},\"title\":{\"x\":0.05},\"mapbox\":{\"style\":\"light\"}}},\"xaxis\":{\"anchor\":\"y\",\"domain\":[0.0,1.0],\"title\":{\"text\":\"Absolute Mean Difference\"}},\"yaxis\":{\"anchor\":\"x\",\"domain\":[0.0,1.0],\"title\":{\"text\":\"index\"}},\"legend\":{\"title\":{\"text\":\"Sample\"},\"tracegroupgap\":0},\"title\":{\"text\":\"3.5 \\u30de\\u30c3\\u30c1\\u30f3\\u30b0\\u3057\\u305f\\u30c7\\u30fc\\u30bf\\u3067\\u306e\\u5171\\u5909\\u91cf\\u306e\\u30d0\\u30e9\\u30f3\\u30b9\"}},                        {\"responsive\": true}                    ).then(function(){\n",
              "                            \n",
              "var gd = document.getElementById('b935d04b-0403-4124-b561-1cb53308c780');\n",
              "var x = new MutationObserver(function (mutations, observer) {{\n",
              "        var display = window.getComputedStyle(gd).display;\n",
              "        if (!display || display === 'none') {{\n",
              "            console.log([gd, 'removed!']);\n",
              "            Plotly.purge(gd);\n",
              "            observer.disconnect();\n",
              "        }}\n",
              "}});\n",
              "\n",
              "// Listen for the removal of the full notebook cells\n",
              "var notebookContainer = gd.closest('#notebook-container');\n",
              "if (notebookContainer) {{\n",
              "    x.observe(notebookContainer, {childList: true});\n",
              "}}\n",
              "\n",
              "// Listen for the clearing of the current output cell\n",
              "var outputEl = gd.closest('.output');\n",
              "if (outputEl) {{\n",
              "    x.observe(outputEl, {childList: true});\n",
              "}}\n",
              "\n",
              "                        })                };                            </script>        </div>\n",
              "</body>\n",
              "</html>"
            ]
          },
          "metadata": {}
        }
      ],
      "source": [
        "balance_df = pd.concat([\n",
        "    pd.DataFrame({'Absolute Mean Difference': unadjusted_amd, 'Sample': 'Unadjusted'}),\n",
        "    pd.DataFrame({'Absolute Mean Difference': after_matching_amd, 'Sample': 'Adjusted'})\n",
        "])\n",
        "fig = px.scatter(balance_df, x='Absolute Mean Difference', y=balance_df.index, color='Sample',\n",
        "                title='3.5 マッチングしたデータでの共変量のバランス')\n",
        "fig.show()"
      ]
    },
    {
      "cell_type": "code",
      "execution_count": 29,
      "metadata": {
        "ExecuteTime": {
          "end_time": "2021-09-11T08:35:17.673773Z",
          "start_time": "2021-09-11T08:35:17.667441Z"
        },
        "id": "ODEciyJC04xq"
      },
      "outputs": [],
      "source": [
        "fig.write_html('ch3_plot1.html', auto_open=False)"
      ]
    },
    {
      "cell_type": "markdown",
      "metadata": {
        "id": "VrFVOeIw04xq"
      },
      "source": [
        "### 重み付きデータでの共変量のバランス"
      ]
    },
    {
      "cell_type": "code",
      "execution_count": 30,
      "metadata": {
        "ExecuteTime": {
          "end_time": "2021-09-11T08:35:17.719222Z",
          "start_time": "2021-09-11T08:35:17.674754Z"
        },
        "scrolled": false,
        "colab": {
          "base_uri": "https://localhost:8080/",
          "height": 542
        },
        "id": "W8oA3cQG04xq",
        "outputId": "14775c3f-0cd2-4860-a1c9-bd88c66faaf2"
      },
      "outputs": [
        {
          "output_type": "display_data",
          "data": {
            "text/html": [
              "<html>\n",
              "<head><meta charset=\"utf-8\" /></head>\n",
              "<body>\n",
              "    <div>            <script src=\"https://cdnjs.cloudflare.com/ajax/libs/mathjax/2.7.5/MathJax.js?config=TeX-AMS-MML_SVG\"></script><script type=\"text/javascript\">if (window.MathJax && window.MathJax.Hub && window.MathJax.Hub.Config) {window.MathJax.Hub.Config({SVG: {font: \"STIX-Web\"}});}</script>                <script type=\"text/javascript\">window.PlotlyConfig = {MathJaxConfig: 'local'};</script>\n",
              "        <script charset=\"utf-8\" src=\"https://cdn.plot.ly/plotly-2.24.1.min.js\"></script>                <div id=\"73ab5fe5-6c47-417d-8c47-6800248e5e94\" class=\"plotly-graph-div\" style=\"height:525px; width:100%;\"></div>            <script type=\"text/javascript\">                                    window.PLOTLYENV=window.PLOTLYENV || {};                                    if (document.getElementById(\"73ab5fe5-6c47-417d-8c47-6800248e5e94\")) {                    Plotly.newPlot(                        \"73ab5fe5-6c47-417d-8c47-6800248e5e94\",                        [{\"hovertemplate\":\"Sample=Unadjusted\\u003cbr\\u003eAbsolute Mean Difference=%{x}\\u003cbr\\u003eindex=%{y}\\u003cextra\\u003e\\u003c\\u002fextra\\u003e\",\"legendgroup\":\"Unadjusted\",\"marker\":{\"color\":\"#636efa\",\"symbol\":\"circle\"},\"mode\":\"markers\",\"name\":\"Unadjusted\",\"orientation\":\"h\",\"showlegend\":true,\"x\":[0.45909373532958936,0.27378255946497726,0.19419542549553442,0.06251569216204957,0.06501444208050745],\"xaxis\":\"x\",\"y\":[\"recency\",\"history\",\"channel_Multichannel\",\"channel_Phone\",\"channel_Web\"],\"yaxis\":\"y\",\"type\":\"scatter\"},{\"hovertemplate\":\"Sample=Adjusted\\u003cbr\\u003eAbsolute Mean Difference=%{x}\\u003cbr\\u003eindex=%{y}\\u003cextra\\u003e\\u003c\\u002fextra\\u003e\",\"legendgroup\":\"Adjusted\",\"marker\":{\"color\":\"#EF553B\",\"symbol\":\"circle\"},\"mode\":\"markers\",\"name\":\"Adjusted\",\"orientation\":\"h\",\"showlegend\":true,\"x\":[0.016573120476522627,0.03997919032726475,0.028045951753530453,0.009435191741597685,0.009568921350007673],\"xaxis\":\"x\",\"y\":[\"recency\",\"history\",\"channel_Multichannel\",\"channel_Phone\",\"channel_Web\"],\"yaxis\":\"y\",\"type\":\"scatter\"}],                        {\"template\":{\"data\":{\"histogram2dcontour\":[{\"type\":\"histogram2dcontour\",\"colorbar\":{\"outlinewidth\":0,\"ticks\":\"\"},\"colorscale\":[[0.0,\"#0d0887\"],[0.1111111111111111,\"#46039f\"],[0.2222222222222222,\"#7201a8\"],[0.3333333333333333,\"#9c179e\"],[0.4444444444444444,\"#bd3786\"],[0.5555555555555556,\"#d8576b\"],[0.6666666666666666,\"#ed7953\"],[0.7777777777777778,\"#fb9f3a\"],[0.8888888888888888,\"#fdca26\"],[1.0,\"#f0f921\"]]}],\"choropleth\":[{\"type\":\"choropleth\",\"colorbar\":{\"outlinewidth\":0,\"ticks\":\"\"}}],\"histogram2d\":[{\"type\":\"histogram2d\",\"colorbar\":{\"outlinewidth\":0,\"ticks\":\"\"},\"colorscale\":[[0.0,\"#0d0887\"],[0.1111111111111111,\"#46039f\"],[0.2222222222222222,\"#7201a8\"],[0.3333333333333333,\"#9c179e\"],[0.4444444444444444,\"#bd3786\"],[0.5555555555555556,\"#d8576b\"],[0.6666666666666666,\"#ed7953\"],[0.7777777777777778,\"#fb9f3a\"],[0.8888888888888888,\"#fdca26\"],[1.0,\"#f0f921\"]]}],\"heatmap\":[{\"type\":\"heatmap\",\"colorbar\":{\"outlinewidth\":0,\"ticks\":\"\"},\"colorscale\":[[0.0,\"#0d0887\"],[0.1111111111111111,\"#46039f\"],[0.2222222222222222,\"#7201a8\"],[0.3333333333333333,\"#9c179e\"],[0.4444444444444444,\"#bd3786\"],[0.5555555555555556,\"#d8576b\"],[0.6666666666666666,\"#ed7953\"],[0.7777777777777778,\"#fb9f3a\"],[0.8888888888888888,\"#fdca26\"],[1.0,\"#f0f921\"]]}],\"heatmapgl\":[{\"type\":\"heatmapgl\",\"colorbar\":{\"outlinewidth\":0,\"ticks\":\"\"},\"colorscale\":[[0.0,\"#0d0887\"],[0.1111111111111111,\"#46039f\"],[0.2222222222222222,\"#7201a8\"],[0.3333333333333333,\"#9c179e\"],[0.4444444444444444,\"#bd3786\"],[0.5555555555555556,\"#d8576b\"],[0.6666666666666666,\"#ed7953\"],[0.7777777777777778,\"#fb9f3a\"],[0.8888888888888888,\"#fdca26\"],[1.0,\"#f0f921\"]]}],\"contourcarpet\":[{\"type\":\"contourcarpet\",\"colorbar\":{\"outlinewidth\":0,\"ticks\":\"\"}}],\"contour\":[{\"type\":\"contour\",\"colorbar\":{\"outlinewidth\":0,\"ticks\":\"\"},\"colorscale\":[[0.0,\"#0d0887\"],[0.1111111111111111,\"#46039f\"],[0.2222222222222222,\"#7201a8\"],[0.3333333333333333,\"#9c179e\"],[0.4444444444444444,\"#bd3786\"],[0.5555555555555556,\"#d8576b\"],[0.6666666666666666,\"#ed7953\"],[0.7777777777777778,\"#fb9f3a\"],[0.8888888888888888,\"#fdca26\"],[1.0,\"#f0f921\"]]}],\"surface\":[{\"type\":\"surface\",\"colorbar\":{\"outlinewidth\":0,\"ticks\":\"\"},\"colorscale\":[[0.0,\"#0d0887\"],[0.1111111111111111,\"#46039f\"],[0.2222222222222222,\"#7201a8\"],[0.3333333333333333,\"#9c179e\"],[0.4444444444444444,\"#bd3786\"],[0.5555555555555556,\"#d8576b\"],[0.6666666666666666,\"#ed7953\"],[0.7777777777777778,\"#fb9f3a\"],[0.8888888888888888,\"#fdca26\"],[1.0,\"#f0f921\"]]}],\"mesh3d\":[{\"type\":\"mesh3d\",\"colorbar\":{\"outlinewidth\":0,\"ticks\":\"\"}}],\"scatter\":[{\"fillpattern\":{\"fillmode\":\"overlay\",\"size\":10,\"solidity\":0.2},\"type\":\"scatter\"}],\"parcoords\":[{\"type\":\"parcoords\",\"line\":{\"colorbar\":{\"outlinewidth\":0,\"ticks\":\"\"}}}],\"scatterpolargl\":[{\"type\":\"scatterpolargl\",\"marker\":{\"colorbar\":{\"outlinewidth\":0,\"ticks\":\"\"}}}],\"bar\":[{\"error_x\":{\"color\":\"#2a3f5f\"},\"error_y\":{\"color\":\"#2a3f5f\"},\"marker\":{\"line\":{\"color\":\"#E5ECF6\",\"width\":0.5},\"pattern\":{\"fillmode\":\"overlay\",\"size\":10,\"solidity\":0.2}},\"type\":\"bar\"}],\"scattergeo\":[{\"type\":\"scattergeo\",\"marker\":{\"colorbar\":{\"outlinewidth\":0,\"ticks\":\"\"}}}],\"scatterpolar\":[{\"type\":\"scatterpolar\",\"marker\":{\"colorbar\":{\"outlinewidth\":0,\"ticks\":\"\"}}}],\"histogram\":[{\"marker\":{\"pattern\":{\"fillmode\":\"overlay\",\"size\":10,\"solidity\":0.2}},\"type\":\"histogram\"}],\"scattergl\":[{\"type\":\"scattergl\",\"marker\":{\"colorbar\":{\"outlinewidth\":0,\"ticks\":\"\"}}}],\"scatter3d\":[{\"type\":\"scatter3d\",\"line\":{\"colorbar\":{\"outlinewidth\":0,\"ticks\":\"\"}},\"marker\":{\"colorbar\":{\"outlinewidth\":0,\"ticks\":\"\"}}}],\"scattermapbox\":[{\"type\":\"scattermapbox\",\"marker\":{\"colorbar\":{\"outlinewidth\":0,\"ticks\":\"\"}}}],\"scatterternary\":[{\"type\":\"scatterternary\",\"marker\":{\"colorbar\":{\"outlinewidth\":0,\"ticks\":\"\"}}}],\"scattercarpet\":[{\"type\":\"scattercarpet\",\"marker\":{\"colorbar\":{\"outlinewidth\":0,\"ticks\":\"\"}}}],\"carpet\":[{\"aaxis\":{\"endlinecolor\":\"#2a3f5f\",\"gridcolor\":\"white\",\"linecolor\":\"white\",\"minorgridcolor\":\"white\",\"startlinecolor\":\"#2a3f5f\"},\"baxis\":{\"endlinecolor\":\"#2a3f5f\",\"gridcolor\":\"white\",\"linecolor\":\"white\",\"minorgridcolor\":\"white\",\"startlinecolor\":\"#2a3f5f\"},\"type\":\"carpet\"}],\"table\":[{\"cells\":{\"fill\":{\"color\":\"#EBF0F8\"},\"line\":{\"color\":\"white\"}},\"header\":{\"fill\":{\"color\":\"#C8D4E3\"},\"line\":{\"color\":\"white\"}},\"type\":\"table\"}],\"barpolar\":[{\"marker\":{\"line\":{\"color\":\"#E5ECF6\",\"width\":0.5},\"pattern\":{\"fillmode\":\"overlay\",\"size\":10,\"solidity\":0.2}},\"type\":\"barpolar\"}],\"pie\":[{\"automargin\":true,\"type\":\"pie\"}]},\"layout\":{\"autotypenumbers\":\"strict\",\"colorway\":[\"#636efa\",\"#EF553B\",\"#00cc96\",\"#ab63fa\",\"#FFA15A\",\"#19d3f3\",\"#FF6692\",\"#B6E880\",\"#FF97FF\",\"#FECB52\"],\"font\":{\"color\":\"#2a3f5f\"},\"hovermode\":\"closest\",\"hoverlabel\":{\"align\":\"left\"},\"paper_bgcolor\":\"white\",\"plot_bgcolor\":\"#E5ECF6\",\"polar\":{\"bgcolor\":\"#E5ECF6\",\"angularaxis\":{\"gridcolor\":\"white\",\"linecolor\":\"white\",\"ticks\":\"\"},\"radialaxis\":{\"gridcolor\":\"white\",\"linecolor\":\"white\",\"ticks\":\"\"}},\"ternary\":{\"bgcolor\":\"#E5ECF6\",\"aaxis\":{\"gridcolor\":\"white\",\"linecolor\":\"white\",\"ticks\":\"\"},\"baxis\":{\"gridcolor\":\"white\",\"linecolor\":\"white\",\"ticks\":\"\"},\"caxis\":{\"gridcolor\":\"white\",\"linecolor\":\"white\",\"ticks\":\"\"}},\"coloraxis\":{\"colorbar\":{\"outlinewidth\":0,\"ticks\":\"\"}},\"colorscale\":{\"sequential\":[[0.0,\"#0d0887\"],[0.1111111111111111,\"#46039f\"],[0.2222222222222222,\"#7201a8\"],[0.3333333333333333,\"#9c179e\"],[0.4444444444444444,\"#bd3786\"],[0.5555555555555556,\"#d8576b\"],[0.6666666666666666,\"#ed7953\"],[0.7777777777777778,\"#fb9f3a\"],[0.8888888888888888,\"#fdca26\"],[1.0,\"#f0f921\"]],\"sequentialminus\":[[0.0,\"#0d0887\"],[0.1111111111111111,\"#46039f\"],[0.2222222222222222,\"#7201a8\"],[0.3333333333333333,\"#9c179e\"],[0.4444444444444444,\"#bd3786\"],[0.5555555555555556,\"#d8576b\"],[0.6666666666666666,\"#ed7953\"],[0.7777777777777778,\"#fb9f3a\"],[0.8888888888888888,\"#fdca26\"],[1.0,\"#f0f921\"]],\"diverging\":[[0,\"#8e0152\"],[0.1,\"#c51b7d\"],[0.2,\"#de77ae\"],[0.3,\"#f1b6da\"],[0.4,\"#fde0ef\"],[0.5,\"#f7f7f7\"],[0.6,\"#e6f5d0\"],[0.7,\"#b8e186\"],[0.8,\"#7fbc41\"],[0.9,\"#4d9221\"],[1,\"#276419\"]]},\"xaxis\":{\"gridcolor\":\"white\",\"linecolor\":\"white\",\"ticks\":\"\",\"title\":{\"standoff\":15},\"zerolinecolor\":\"white\",\"automargin\":true,\"zerolinewidth\":2},\"yaxis\":{\"gridcolor\":\"white\",\"linecolor\":\"white\",\"ticks\":\"\",\"title\":{\"standoff\":15},\"zerolinecolor\":\"white\",\"automargin\":true,\"zerolinewidth\":2},\"scene\":{\"xaxis\":{\"backgroundcolor\":\"#E5ECF6\",\"gridcolor\":\"white\",\"linecolor\":\"white\",\"showbackground\":true,\"ticks\":\"\",\"zerolinecolor\":\"white\",\"gridwidth\":2},\"yaxis\":{\"backgroundcolor\":\"#E5ECF6\",\"gridcolor\":\"white\",\"linecolor\":\"white\",\"showbackground\":true,\"ticks\":\"\",\"zerolinecolor\":\"white\",\"gridwidth\":2},\"zaxis\":{\"backgroundcolor\":\"#E5ECF6\",\"gridcolor\":\"white\",\"linecolor\":\"white\",\"showbackground\":true,\"ticks\":\"\",\"zerolinecolor\":\"white\",\"gridwidth\":2}},\"shapedefaults\":{\"line\":{\"color\":\"#2a3f5f\"}},\"annotationdefaults\":{\"arrowcolor\":\"#2a3f5f\",\"arrowhead\":0,\"arrowwidth\":1},\"geo\":{\"bgcolor\":\"white\",\"landcolor\":\"#E5ECF6\",\"subunitcolor\":\"white\",\"showland\":true,\"showlakes\":true,\"lakecolor\":\"white\"},\"title\":{\"x\":0.05},\"mapbox\":{\"style\":\"light\"}}},\"xaxis\":{\"anchor\":\"y\",\"domain\":[0.0,1.0],\"title\":{\"text\":\"Absolute Mean Difference\"}},\"yaxis\":{\"anchor\":\"x\",\"domain\":[0.0,1.0],\"title\":{\"text\":\"index\"}},\"legend\":{\"title\":{\"text\":\"Sample\"},\"tracegroupgap\":0},\"title\":{\"text\":\"\\u91cd\\u307f\\u4ed8\\u3051\\u3057\\u305f\\u30c7\\u30fc\\u30bf\\u3067\\u306e\\u5171\\u5909\\u91cf\\u306e\\u30d0\\u30e9\\u30f3\\u30b9\"}},                        {\"responsive\": true}                    ).then(function(){\n",
              "                            \n",
              "var gd = document.getElementById('73ab5fe5-6c47-417d-8c47-6800248e5e94');\n",
              "var x = new MutationObserver(function (mutations, observer) {{\n",
              "        var display = window.getComputedStyle(gd).display;\n",
              "        if (!display || display === 'none') {{\n",
              "            console.log([gd, 'removed!']);\n",
              "            Plotly.purge(gd);\n",
              "            observer.disconnect();\n",
              "        }}\n",
              "}});\n",
              "\n",
              "// Listen for the removal of the full notebook cells\n",
              "var notebookContainer = gd.closest('#notebook-container');\n",
              "if (notebookContainer) {{\n",
              "    x.observe(notebookContainer, {childList: true});\n",
              "}}\n",
              "\n",
              "// Listen for the clearing of the current output cell\n",
              "var outputEl = gd.closest('.output');\n",
              "if (outputEl) {{\n",
              "    x.observe(outputEl, {childList: true});\n",
              "}}\n",
              "\n",
              "                        })                };                            </script>        </div>\n",
              "</body>\n",
              "</html>"
            ]
          },
          "metadata": {}
        }
      ],
      "source": [
        "balance_df = pd.concat([\n",
        "    pd.DataFrame({'Absolute Mean Difference': unadjusted_amd, 'Sample': 'Unadjusted'}),\n",
        "    pd.DataFrame({'Absolute Mean Difference': after_weighted_amd, 'Sample': 'Adjusted'})\n",
        "])\n",
        "fig = px.scatter(balance_df, x='Absolute Mean Difference', y=balance_df.index, color='Sample',\n",
        "                title='重み付けしたデータでの共変量のバランス')\n",
        "fig.show()"
      ]
    },
    {
      "cell_type": "code",
      "execution_count": 31,
      "metadata": {
        "ExecuteTime": {
          "end_time": "2021-09-11T08:35:17.726466Z",
          "start_time": "2021-09-11T08:35:17.720150Z"
        },
        "id": "Qx9q2Gvj04xr"
      },
      "outputs": [],
      "source": [
        "fig.write_html('ch3_plot2.html', auto_open=False)"
      ]
    },
    {
      "cell_type": "markdown",
      "metadata": {
        "id": "PvnpEu2m04xr"
      },
      "source": [
        "## (10) 統計モデルを用いたメールの配信のログを分析"
      ]
    },
    {
      "cell_type": "code",
      "execution_count": 32,
      "metadata": {
        "ExecuteTime": {
          "end_time": "2021-09-11T08:35:17.740337Z",
          "start_time": "2021-09-11T08:35:17.727461Z"
        },
        "id": "iUd7RW_T04xr"
      },
      "outputs": [],
      "source": [
        "random_state = 0"
      ]
    },
    {
      "cell_type": "code",
      "execution_count": 33,
      "metadata": {
        "ExecuteTime": {
          "end_time": "2021-09-11T08:35:17.770553Z",
          "start_time": "2021-09-11T08:35:17.741201Z"
        },
        "id": "Edv_-bsU04xr"
      },
      "outputs": [],
      "source": [
        "## 学習データと配信ログを作るデータに分割\n",
        "male_df_train, male_df_test = train_test_split(male_df, test_size=0.5, random_state=random_state)\n",
        "male_df_train = male_df_train[male_df_train.treatment == 0]"
      ]
    },
    {
      "cell_type": "code",
      "execution_count": 34,
      "metadata": {
        "ExecuteTime": {
          "end_time": "2021-09-11T08:35:17.955110Z",
          "start_time": "2021-09-11T08:35:17.773100Z"
        },
        "id": "Z_j4wwsM04xr"
      },
      "outputs": [],
      "source": [
        "## 売上が発生する確率を予測するモデルを作成\n",
        "model = LogisticRegression(random_state=random_state)\n",
        "y_train = male_df_train['conversion']\n",
        "X_train = pd.get_dummies(\n",
        "    male_df_train[['recency', 'history_segment', 'channel', 'zip_code']], columns=['history_segment', 'channel', 'zip_code'], drop_first=True\n",
        ")\n",
        "X_test = pd.get_dummies(\n",
        "    male_df_test[['recency', 'history_segment', 'channel', 'zip_code']], columns=['history_segment', 'channel', 'zip_code'], drop_first=True\n",
        ")\n",
        "model.fit(X_train, y_train)\n",
        "## 売上の発生確率からメールの配信確率を決める\n",
        "pred_cv = model.predict_proba(X_test)[:, 1]\n",
        "pred_cv_rank = pd.Series(pred_cv, name='proba').rank(pct=True)\n",
        "## 配信確率を元にメールの配信を決める\n",
        "mail_assign = pred_cv_rank.apply(lambda x: np.random.binomial(n=1, p=x))"
      ]
    },
    {
      "cell_type": "code",
      "execution_count": 35,
      "metadata": {
        "ExecuteTime": {
          "end_time": "2021-09-11T08:35:17.962396Z",
          "start_time": "2021-09-11T08:35:17.956131Z"
        },
        "scrolled": true,
        "id": "5S9me0Cd04xr"
      },
      "outputs": [],
      "source": [
        "## 配信ログを作成\n",
        "male_df_test['mail_assign'] = mail_assign\n",
        "male_df_test['ps'] = pred_cv_rank\n",
        "\n",
        "ml_male_df = male_df_test[\n",
        "    ((male_df_test.treatment == 1) & (male_df_test.mail_assign == 1)) |\n",
        "    ((male_df_test.treatment == 0) & (male_df_test.mail_assign == 0))\n",
        "].copy()"
      ]
    },
    {
      "cell_type": "code",
      "execution_count": 36,
      "metadata": {
        "ExecuteTime": {
          "end_time": "2021-09-11T08:35:17.978908Z",
          "start_time": "2021-09-11T08:35:17.963394Z"
        },
        "colab": {
          "base_uri": "https://localhost:8080/",
          "height": 83
        },
        "id": "RnfISFPx04xr",
        "outputId": "f3599cad-3b20-40be-fe04-64f11d2e6843"
      },
      "outputs": [
        {
          "output_type": "execute_result",
          "data": {
            "text/plain": [
              "<class 'statsmodels.iolib.table.SimpleTable'>"
            ],
            "text/html": [
              "<table class=\"simpletable\">\n",
              "<tr>\n",
              "      <td></td>         <th>coef</th>     <th>std err</th>      <th>t</th>      <th>P>|t|</th>  <th>[0.025</th>    <th>0.975]</th>  \n",
              "</tr>\n",
              "<tr>\n",
              "  <th>const</th>     <td>    0.5585</td> <td>    0.149</td> <td>    3.752</td> <td> 0.000</td> <td>    0.267</td> <td>    0.850</td>\n",
              "</tr>\n",
              "<tr>\n",
              "  <th>treatment</th> <td>    0.9251</td> <td>    0.211</td> <td>    4.389</td> <td> 0.000</td> <td>    0.512</td> <td>    1.338</td>\n",
              "</tr>\n",
              "</table>"
            ],
            "text/latex": "\\begin{center}\n\\begin{tabular}{lcccccc}\n\\toprule\n                   & \\textbf{coef} & \\textbf{std err} & \\textbf{t} & \\textbf{P$> |$t$|$} & \\textbf{[0.025} & \\textbf{0.975]}  \\\\\n\\midrule\n\\textbf{const}     &       0.5585  &        0.149     &     3.752  &         0.000        &        0.267    &        0.850     \\\\\n\\textbf{treatment} &       0.9251  &        0.211     &     4.389  &         0.000        &        0.512    &        1.338     \\\\\n\\bottomrule\n\\end{tabular}\n\\end{center}"
          },
          "metadata": {},
          "execution_count": 36
        }
      ],
      "source": [
        "## 平均の比較\n",
        "## 実験をしていた場合の平均の差を確認\n",
        "y = male_df_test.spend\n",
        "X = male_df_test.treatment\n",
        "X = sm.add_constant(X)\n",
        "results = sm.OLS(y, X).fit()\n",
        "coef = results.summary().tables[1]\n",
        "coef"
      ]
    },
    {
      "cell_type": "markdown",
      "metadata": {
        "id": "CoOGUviJ04xr"
      },
      "source": [
        "RCTを行っていた場合は$0.925の売上増加が期待できる"
      ]
    },
    {
      "cell_type": "code",
      "execution_count": 37,
      "metadata": {
        "ExecuteTime": {
          "end_time": "2021-09-11T08:35:17.993428Z",
          "start_time": "2021-09-11T08:35:17.980686Z"
        },
        "colab": {
          "base_uri": "https://localhost:8080/",
          "height": 83
        },
        "id": "Eyv86ujP04xr",
        "outputId": "c79e98fd-8163-426a-d88d-d3c8cf08290c"
      },
      "outputs": [
        {
          "output_type": "execute_result",
          "data": {
            "text/plain": [
              "<class 'statsmodels.iolib.table.SimpleTable'>"
            ],
            "text/html": [
              "<table class=\"simpletable\">\n",
              "<tr>\n",
              "      <td></td>         <th>coef</th>     <th>std err</th>      <th>t</th>      <th>P>|t|</th>  <th>[0.025</th>    <th>0.975]</th>  \n",
              "</tr>\n",
              "<tr>\n",
              "  <th>const</th>     <td>    0.4850</td> <td>    0.337</td> <td>    1.440</td> <td> 0.150</td> <td>   -0.175</td> <td>    1.145</td>\n",
              "</tr>\n",
              "<tr>\n",
              "  <th>treatment</th> <td>    0.9733</td> <td>    0.480</td> <td>    2.026</td> <td> 0.043</td> <td>    0.031</td> <td>    1.915</td>\n",
              "</tr>\n",
              "</table>"
            ],
            "text/latex": "\\begin{center}\n\\begin{tabular}{lcccccc}\n\\toprule\n                   & \\textbf{coef} & \\textbf{std err} & \\textbf{t} & \\textbf{P$> |$t$|$} & \\textbf{[0.025} & \\textbf{0.975]}  \\\\\n\\midrule\n\\textbf{const}     &       0.4850  &        0.337     &     1.440  &         0.150        &       -0.175    &        1.145     \\\\\n\\textbf{treatment} &       0.9733  &        0.480     &     2.026  &         0.043        &        0.031    &        1.915     \\\\\n\\bottomrule\n\\end{tabular}\n\\end{center}"
          },
          "metadata": {},
          "execution_count": 37
        }
      ],
      "source": [
        "## セレクションバイアスの影響を受けている平均の比較\n",
        "y = ml_male_df.spend\n",
        "X = ml_male_df.treatment\n",
        "X = sm.add_constant(X)\n",
        "results = sm.OLS(y, X).fit()\n",
        "coef = results.summary().tables[1]\n",
        "coef"
      ]
    },
    {
      "cell_type": "markdown",
      "metadata": {
        "id": "sQJZ0Eed04xr"
      },
      "source": [
        "### 傾向スコアマッチングの推定(TPS)"
      ]
    },
    {
      "cell_type": "code",
      "execution_count": 38,
      "metadata": {
        "ExecuteTime": {
          "end_time": "2021-09-11T08:35:18.007530Z",
          "start_time": "2021-09-11T08:35:17.995151Z"
        },
        "id": "des5RnHd04xr"
      },
      "outputs": [],
      "source": [
        "def get_matched_dfs_using_obtained_propensity_score(X, y, ps_score, random_state=0):\n",
        "    all_df = pd.DataFrame({'treatment': y, 'ps_score': ps_score})\n",
        "    treatments = all_df.treatment.unique()\n",
        "    if len(treatments) != 2:\n",
        "        print('2群のマッチングしかできません。2群は必ず[0, 1]で表現してください。')\n",
        "        raise ValueError\n",
        "    # treatment == 1をgroup1, treatment == 0をgroup2とする。group1にマッチするgroup2を抽出するのでATTの推定になるはず\n",
        "    group1_df = all_df[all_df.treatment==1].copy()\n",
        "    group1_indices = group1_df.index\n",
        "    group1_df = group1_df.reset_index(drop=True)\n",
        "    group2_df = all_df[all_df.treatment==0].copy()\n",
        "    group2_indices = group2_df.index\n",
        "    group2_df = group2_df.reset_index(drop=True)\n",
        "\n",
        "    # 全体の傾向スコアの標準偏差 * 0.2をしきい値とする\n",
        "    threshold = all_df.ps_score.std() * 0.2\n",
        "\n",
        "    matched_group1_dfs = []\n",
        "    matched_group2_dfs = []\n",
        "    _group1_df = group1_df.copy()\n",
        "    _group2_df = group2_df.copy()\n",
        "\n",
        "    while True:\n",
        "        # NearestNeighborsで最近傍点1点を見つけ、マッチングする\n",
        "        neigh = NearestNeighbors(n_neighbors=1)\n",
        "        neigh.fit(_group1_df.ps_score.values.reshape(-1, 1))\n",
        "        distances, indices = neigh.kneighbors(_group2_df.ps_score.values.reshape(-1, 1))\n",
        "        # 重複点を削除する\n",
        "        distance_df = pd.DataFrame({'distance': distances.reshape(-1), 'indices': indices.reshape(-1)})\n",
        "        distance_df.index = _group2_df.index\n",
        "        distance_df = distance_df.drop_duplicates(subset='indices')\n",
        "        # しきい値を超えたレコードを削除する\n",
        "        distance_df = distance_df[distance_df.distance < threshold]\n",
        "        if len(distance_df) == 0:\n",
        "            break\n",
        "        # マッチングしたレコードを抽出、削除する\n",
        "        group1_matched_indices = _group1_df.iloc[distance_df['indices']].index.tolist()\n",
        "        group2_matched_indices = distance_df.index\n",
        "        matched_group1_dfs.append(_group1_df.loc[group1_matched_indices])\n",
        "        matched_group2_dfs.append(_group2_df.loc[group2_matched_indices])\n",
        "        _group1_df = _group1_df.drop(group1_matched_indices)\n",
        "        _group2_df = _group2_df.drop(group2_matched_indices)\n",
        "\n",
        "    # マッチしたレコードを返す\n",
        "    group1_df.index = group1_indices\n",
        "    group2_df.index = group2_indices\n",
        "    matched_df = pd.concat([\n",
        "        group1_df.iloc[pd.concat(matched_group1_dfs).index],\n",
        "        group2_df.iloc[pd.concat(matched_group2_dfs).index]\n",
        "    ]).sort_index()\n",
        "    matched_indices = matched_df.index\n",
        "\n",
        "    return X.loc[matched_indices], y.loc[matched_indices]"
      ]
    },
    {
      "cell_type": "code",
      "execution_count": 39,
      "metadata": {
        "ExecuteTime": {
          "end_time": "2021-09-11T08:35:18.110462Z",
          "start_time": "2021-09-11T08:35:18.009082Z"
        },
        "id": "UuTYIvRA04xs"
      },
      "outputs": [],
      "source": [
        "matchX, matchy = get_matched_dfs_using_obtained_propensity_score(ml_male_df, ml_male_df.treatment, ps_score=ml_male_df.ps)"
      ]
    },
    {
      "cell_type": "code",
      "execution_count": 40,
      "metadata": {
        "ExecuteTime": {
          "end_time": "2021-09-11T08:35:18.118887Z",
          "start_time": "2021-09-11T08:35:18.111537Z"
        },
        "colab": {
          "base_uri": "https://localhost:8080/",
          "height": 83
        },
        "id": "aBnXqm6o04xs",
        "outputId": "1796dea8-009f-4f6f-e53b-9f33054334dd"
      },
      "outputs": [
        {
          "output_type": "execute_result",
          "data": {
            "text/plain": [
              "<class 'statsmodels.iolib.table.SimpleTable'>"
            ],
            "text/html": [
              "<table class=\"simpletable\">\n",
              "<tr>\n",
              "      <td></td>         <th>coef</th>     <th>std err</th>      <th>t</th>      <th>P>|t|</th>  <th>[0.025</th>    <th>0.975]</th>  \n",
              "</tr>\n",
              "<tr>\n",
              "  <th>const</th>     <td>    0.3307</td> <td>    0.413</td> <td>    0.800</td> <td> 0.424</td> <td>   -0.479</td> <td>    1.141</td>\n",
              "</tr>\n",
              "<tr>\n",
              "  <th>treatment</th> <td>    1.4101</td> <td>    0.584</td> <td>    2.414</td> <td> 0.016</td> <td>    0.264</td> <td>    2.556</td>\n",
              "</tr>\n",
              "</table>"
            ],
            "text/latex": "\\begin{center}\n\\begin{tabular}{lcccccc}\n\\toprule\n                   & \\textbf{coef} & \\textbf{std err} & \\textbf{t} & \\textbf{P$> |$t$|$} & \\textbf{[0.025} & \\textbf{0.975]}  \\\\\n\\midrule\n\\textbf{const}     &       0.3307  &        0.413     &     0.800  &         0.424        &       -0.479    &        1.141     \\\\\n\\textbf{treatment} &       1.4101  &        0.584     &     2.414  &         0.016        &        0.264    &        2.556     \\\\\n\\bottomrule\n\\end{tabular}\n\\end{center}"
          },
          "metadata": {},
          "execution_count": 40
        }
      ],
      "source": [
        "## マッチング後のデータで効果の推定\n",
        "y = matchX.spend\n",
        "X = matchy\n",
        "X = sm.add_constant(X)\n",
        "results = sm.OLS(y, X).fit()\n",
        "coef = results.summary().tables[1]\n",
        "coef"
      ]
    },
    {
      "cell_type": "markdown",
      "metadata": {
        "id": "ObUkOhhb04xs"
      },
      "source": [
        "### IPWの推定"
      ]
    },
    {
      "cell_type": "code",
      "execution_count": 41,
      "metadata": {
        "ExecuteTime": {
          "end_time": "2021-09-11T08:35:18.128580Z",
          "start_time": "2021-09-11T08:35:18.119699Z"
        },
        "id": "RrMxwyzJ04xs"
      },
      "outputs": [],
      "source": [
        "def get_ipw_obtained_ps(X, y, ps_score, random_state=0):\n",
        "    all_df = pd.DataFrame({'treatment': y, 'ps_score': ps_score})\n",
        "    treatments = all_df.treatment.unique()\n",
        "    if len(treatments) != 2:\n",
        "        print('2群のマッチングしかできません。2群は必ず[0, 1]で表現してください。')\n",
        "        raise ValueError\n",
        "    # treatment == 1をgroup1, treatment == 0をgroup2とする。\n",
        "    group1_df = all_df[all_df.treatment==1].copy()\n",
        "    group2_df = all_df[all_df.treatment==0].copy()\n",
        "    group1_df['weight'] = 1 / group1_df.ps_score\n",
        "    group2_df['weight'] = 1 / (1 - group2_df.ps_score)\n",
        "    weights = pd.concat([group1_df, group2_df]).sort_index()['weight'].values\n",
        "    return weights"
      ]
    },
    {
      "cell_type": "code",
      "execution_count": 42,
      "metadata": {
        "ExecuteTime": {
          "end_time": "2021-09-11T08:35:18.146424Z",
          "start_time": "2021-09-11T08:35:18.129384Z"
        },
        "colab": {
          "base_uri": "https://localhost:8080/",
          "height": 83
        },
        "id": "dK5Tc-YK04xs",
        "outputId": "4fad01bc-d8bd-4999-f425-d8ed4a6eb710"
      },
      "outputs": [
        {
          "output_type": "execute_result",
          "data": {
            "text/plain": [
              "<class 'statsmodels.iolib.table.SimpleTable'>"
            ],
            "text/html": [
              "<table class=\"simpletable\">\n",
              "<tr>\n",
              "      <td></td>         <th>coef</th>     <th>std err</th>      <th>t</th>      <th>P>|t|</th>  <th>[0.025</th>    <th>0.975]</th>  \n",
              "</tr>\n",
              "<tr>\n",
              "  <th>const</th>     <td>    0.5067</td> <td>    0.319</td> <td>    1.588</td> <td> 0.112</td> <td>   -0.119</td> <td>    1.132</td>\n",
              "</tr>\n",
              "<tr>\n",
              "  <th>treatment</th> <td>    0.7484</td> <td>    0.454</td> <td>    1.650</td> <td> 0.099</td> <td>   -0.141</td> <td>    1.638</td>\n",
              "</tr>\n",
              "</table>"
            ],
            "text/latex": "\\begin{center}\n\\begin{tabular}{lcccccc}\n\\toprule\n                   & \\textbf{coef} & \\textbf{std err} & \\textbf{t} & \\textbf{P$> |$t$|$} & \\textbf{[0.025} & \\textbf{0.975]}  \\\\\n\\midrule\n\\textbf{const}     &       0.5067  &        0.319     &     1.588  &         0.112        &       -0.119    &        1.132     \\\\\n\\textbf{treatment} &       0.7484  &        0.454     &     1.650  &         0.099        &       -0.141    &        1.638     \\\\\n\\bottomrule\n\\end{tabular}\n\\end{center}"
          },
          "metadata": {},
          "execution_count": 42
        }
      ],
      "source": [
        "weights = get_ipw_obtained_ps(ml_male_df, ml_male_df.treatment, ps_score=ml_male_df.ps)\n",
        "## 重み付きデータでの効果の推定\n",
        "y = ml_male_df.spend\n",
        "X = ml_male_df.treatment\n",
        "X = sm.add_constant(X)\n",
        "results = sm.WLS(y, X, weights=weights).fit()\n",
        "coef = results.summary().tables[1]\n",
        "coef"
      ]
    },
    {
      "cell_type": "code",
      "execution_count": 43,
      "metadata": {
        "ExecuteTime": {
          "end_time": "2021-09-11T08:36:04.830370Z",
          "start_time": "2021-09-11T08:36:04.824659Z"
        },
        "colab": {
          "base_uri": "https://localhost:8080/"
        },
        "id": "Lp0LEwHi04xs",
        "outputId": "54016491-0f0f-43e4-bdb1-725f9c042b6a"
      },
      "outputs": [
        {
          "output_type": "execute_result",
          "data": {
            "text/plain": [
              "-0.1519999999999999"
            ]
          },
          "metadata": {},
          "execution_count": 43
        }
      ],
      "source": [
        "# RCTの効果と傾向スコアマッチング後の効果の差分\n",
        "0.9251 -1.0771"
      ]
    },
    {
      "cell_type": "code",
      "execution_count": 44,
      "metadata": {
        "ExecuteTime": {
          "end_time": "2021-09-11T08:36:15.201354Z",
          "start_time": "2021-09-11T08:36:15.191840Z"
        },
        "colab": {
          "base_uri": "https://localhost:8080/"
        },
        "id": "A_ZmaZeQ04xs",
        "outputId": "849bd94f-e56b-4af1-86f6-95d4fa3b0329"
      },
      "outputs": [
        {
          "output_type": "execute_result",
          "data": {
            "text/plain": [
              "0.17670000000000008"
            ]
          },
          "metadata": {},
          "execution_count": 44
        }
      ],
      "source": [
        "# RCTの効果とIPW重み付け後の効果の差分\n",
        "0.9251 - 0.7484"
      ]
    },
    {
      "cell_type": "markdown",
      "metadata": {
        "id": "9DPzVo1404xs"
      },
      "source": [
        "書籍の記載より大きい。傾向スコアマッチング後の推定された効果よりはRCTで推定された効果に近く、p-valueも小さい"
      ]
    },
    {
      "cell_type": "markdown",
      "metadata": {
        "id": "dzOG-Kad04xs"
      },
      "source": [
        "### 重み付きデータの共変量のバランス"
      ]
    },
    {
      "cell_type": "code",
      "execution_count": 45,
      "metadata": {
        "ExecuteTime": {
          "end_time": "2021-09-11T08:36:22.721558Z",
          "start_time": "2021-09-11T08:36:22.555414Z"
        },
        "id": "0f5Kdgf304xs"
      },
      "outputs": [],
      "source": [
        "## 調整前のAbsolute Mean Difference\n",
        "unadjusted_df = pd.get_dummies(\n",
        "    ml_male_df[['treatment', 'recency', 'history_segment', 'channel', 'zip_code']], columns=['history_segment', 'channel', 'zip_code']\n",
        ")\n",
        "unadjusted_amd = calc_absolute_mean_difference(unadjusted_df)\n",
        "\n",
        "# IPWで重み付け後のAbusolute Mean Difference\n",
        "# 重みのぶんレコードを増やして計算する（もっといいやり方を知りたい）\n",
        "after_weighted_df = pd.get_dummies(\n",
        "    ml_male_df[['treatment', 'recency', 'history_segment', 'channel', 'zip_code']], columns=['history_segment', 'channel', 'zip_code']\n",
        ")\n",
        "weights_int = (weights * 100).astype(int)\n",
        "weighted_df = []\n",
        "for i, value in enumerate(after_weighted_df.values):\n",
        "    weighted_df.append(np.tile(value, (weights_int[i], 1)))\n",
        "weighted_df = np.concatenate(weighted_df).reshape(-1, 15)\n",
        "weighted_df = pd.DataFrame(weighted_df)\n",
        "weighted_df.columns = after_weighted_df.columns\n",
        "after_weighted_amd = calc_absolute_mean_difference(weighted_df)"
      ]
    },
    {
      "cell_type": "code",
      "execution_count": 46,
      "metadata": {
        "ExecuteTime": {
          "end_time": "2021-09-11T08:36:23.523077Z",
          "start_time": "2021-09-11T08:36:23.483530Z"
        },
        "colab": {
          "base_uri": "https://localhost:8080/",
          "height": 542
        },
        "id": "gLbhIgSl04xt",
        "outputId": "a442f5a7-80b1-4e1d-8290-62e9effd295b"
      },
      "outputs": [
        {
          "output_type": "display_data",
          "data": {
            "text/html": [
              "<html>\n",
              "<head><meta charset=\"utf-8\" /></head>\n",
              "<body>\n",
              "    <div>            <script src=\"https://cdnjs.cloudflare.com/ajax/libs/mathjax/2.7.5/MathJax.js?config=TeX-AMS-MML_SVG\"></script><script type=\"text/javascript\">if (window.MathJax && window.MathJax.Hub && window.MathJax.Hub.Config) {window.MathJax.Hub.Config({SVG: {font: \"STIX-Web\"}});}</script>                <script type=\"text/javascript\">window.PlotlyConfig = {MathJaxConfig: 'local'};</script>\n",
              "        <script charset=\"utf-8\" src=\"https://cdn.plot.ly/plotly-2.24.1.min.js\"></script>                <div id=\"eebd1269-6015-43c1-a7ed-0475b7691b51\" class=\"plotly-graph-div\" style=\"height:525px; width:100%;\"></div>            <script type=\"text/javascript\">                                    window.PLOTLYENV=window.PLOTLYENV || {};                                    if (document.getElementById(\"eebd1269-6015-43c1-a7ed-0475b7691b51\")) {                    Plotly.newPlot(                        \"eebd1269-6015-43c1-a7ed-0475b7691b51\",                        [{\"hovertemplate\":\"Sample=Unadjusted\\u003cbr\\u003eAbsolute Mean Difference=%{x}\\u003cbr\\u003eindex=%{y}\\u003cextra\\u003e\\u003c\\u002fextra\\u003e\",\"legendgroup\":\"Unadjusted\",\"marker\":{\"color\":\"#636efa\",\"symbol\":\"circle\"},\"mode\":\"markers\",\"name\":\"Unadjusted\",\"orientation\":\"h\",\"showlegend\":true,\"x\":[0.008204609482098994,0.057269382854471515,0.000525737382525679,0.02816185144701651,0.03405284110025851,0.037479922295439706,0.012643364921803702,0.012923380826912753,0.039178722069329645,0.021556435429058614,0.0038923020275957653,0.01279030108698714,0.04178790958371414,0.03330380171653547],\"xaxis\":\"x\",\"y\":[\"recency\",\"history_segment_1) $0 - $100\",\"history_segment_2) $100 - $200\",\"history_segment_3) $200 - $350\",\"history_segment_4) $350 - $500\",\"history_segment_5) $500 - $750\",\"history_segment_6) $750 - $1,000\",\"history_segment_7) $1,000 +\",\"channel_Multichannel\",\"channel_Phone\",\"channel_Web\",\"zip_code_Rural\",\"zip_code_Surburban\",\"zip_code_Urban\"],\"yaxis\":\"y\",\"type\":\"scatter\"},{\"hovertemplate\":\"Sample=Adjusted\\u003cbr\\u003eAbsolute Mean Difference=%{x}\\u003cbr\\u003eindex=%{y}\\u003cextra\\u003e\\u003c\\u002fextra\\u003e\",\"legendgroup\":\"Adjusted\",\"marker\":{\"color\":\"#EF553B\",\"symbol\":\"circle\"},\"mode\":\"markers\",\"name\":\"Adjusted\",\"orientation\":\"h\",\"showlegend\":true,\"x\":[0.012464409849678653,0.03292489079973553,0.037578489495391665,0.06431368684939132,0.004276346663046438,0.03974859591188673,0.023121595818040564,0.015329769076602457,0.026305633642905953,0.05478897593607254,0.03758166702720015,0.0022460567789063836,0.005848017253355867,0.004357153051771843],\"xaxis\":\"x\",\"y\":[\"recency\",\"history_segment_1) $0 - $100\",\"history_segment_2) $100 - $200\",\"history_segment_3) $200 - $350\",\"history_segment_4) $350 - $500\",\"history_segment_5) $500 - $750\",\"history_segment_6) $750 - $1,000\",\"history_segment_7) $1,000 +\",\"channel_Multichannel\",\"channel_Phone\",\"channel_Web\",\"zip_code_Rural\",\"zip_code_Surburban\",\"zip_code_Urban\"],\"yaxis\":\"y\",\"type\":\"scatter\"}],                        {\"template\":{\"data\":{\"histogram2dcontour\":[{\"type\":\"histogram2dcontour\",\"colorbar\":{\"outlinewidth\":0,\"ticks\":\"\"},\"colorscale\":[[0.0,\"#0d0887\"],[0.1111111111111111,\"#46039f\"],[0.2222222222222222,\"#7201a8\"],[0.3333333333333333,\"#9c179e\"],[0.4444444444444444,\"#bd3786\"],[0.5555555555555556,\"#d8576b\"],[0.6666666666666666,\"#ed7953\"],[0.7777777777777778,\"#fb9f3a\"],[0.8888888888888888,\"#fdca26\"],[1.0,\"#f0f921\"]]}],\"choropleth\":[{\"type\":\"choropleth\",\"colorbar\":{\"outlinewidth\":0,\"ticks\":\"\"}}],\"histogram2d\":[{\"type\":\"histogram2d\",\"colorbar\":{\"outlinewidth\":0,\"ticks\":\"\"},\"colorscale\":[[0.0,\"#0d0887\"],[0.1111111111111111,\"#46039f\"],[0.2222222222222222,\"#7201a8\"],[0.3333333333333333,\"#9c179e\"],[0.4444444444444444,\"#bd3786\"],[0.5555555555555556,\"#d8576b\"],[0.6666666666666666,\"#ed7953\"],[0.7777777777777778,\"#fb9f3a\"],[0.8888888888888888,\"#fdca26\"],[1.0,\"#f0f921\"]]}],\"heatmap\":[{\"type\":\"heatmap\",\"colorbar\":{\"outlinewidth\":0,\"ticks\":\"\"},\"colorscale\":[[0.0,\"#0d0887\"],[0.1111111111111111,\"#46039f\"],[0.2222222222222222,\"#7201a8\"],[0.3333333333333333,\"#9c179e\"],[0.4444444444444444,\"#bd3786\"],[0.5555555555555556,\"#d8576b\"],[0.6666666666666666,\"#ed7953\"],[0.7777777777777778,\"#fb9f3a\"],[0.8888888888888888,\"#fdca26\"],[1.0,\"#f0f921\"]]}],\"heatmapgl\":[{\"type\":\"heatmapgl\",\"colorbar\":{\"outlinewidth\":0,\"ticks\":\"\"},\"colorscale\":[[0.0,\"#0d0887\"],[0.1111111111111111,\"#46039f\"],[0.2222222222222222,\"#7201a8\"],[0.3333333333333333,\"#9c179e\"],[0.4444444444444444,\"#bd3786\"],[0.5555555555555556,\"#d8576b\"],[0.6666666666666666,\"#ed7953\"],[0.7777777777777778,\"#fb9f3a\"],[0.8888888888888888,\"#fdca26\"],[1.0,\"#f0f921\"]]}],\"contourcarpet\":[{\"type\":\"contourcarpet\",\"colorbar\":{\"outlinewidth\":0,\"ticks\":\"\"}}],\"contour\":[{\"type\":\"contour\",\"colorbar\":{\"outlinewidth\":0,\"ticks\":\"\"},\"colorscale\":[[0.0,\"#0d0887\"],[0.1111111111111111,\"#46039f\"],[0.2222222222222222,\"#7201a8\"],[0.3333333333333333,\"#9c179e\"],[0.4444444444444444,\"#bd3786\"],[0.5555555555555556,\"#d8576b\"],[0.6666666666666666,\"#ed7953\"],[0.7777777777777778,\"#fb9f3a\"],[0.8888888888888888,\"#fdca26\"],[1.0,\"#f0f921\"]]}],\"surface\":[{\"type\":\"surface\",\"colorbar\":{\"outlinewidth\":0,\"ticks\":\"\"},\"colorscale\":[[0.0,\"#0d0887\"],[0.1111111111111111,\"#46039f\"],[0.2222222222222222,\"#7201a8\"],[0.3333333333333333,\"#9c179e\"],[0.4444444444444444,\"#bd3786\"],[0.5555555555555556,\"#d8576b\"],[0.6666666666666666,\"#ed7953\"],[0.7777777777777778,\"#fb9f3a\"],[0.8888888888888888,\"#fdca26\"],[1.0,\"#f0f921\"]]}],\"mesh3d\":[{\"type\":\"mesh3d\",\"colorbar\":{\"outlinewidth\":0,\"ticks\":\"\"}}],\"scatter\":[{\"fillpattern\":{\"fillmode\":\"overlay\",\"size\":10,\"solidity\":0.2},\"type\":\"scatter\"}],\"parcoords\":[{\"type\":\"parcoords\",\"line\":{\"colorbar\":{\"outlinewidth\":0,\"ticks\":\"\"}}}],\"scatterpolargl\":[{\"type\":\"scatterpolargl\",\"marker\":{\"colorbar\":{\"outlinewidth\":0,\"ticks\":\"\"}}}],\"bar\":[{\"error_x\":{\"color\":\"#2a3f5f\"},\"error_y\":{\"color\":\"#2a3f5f\"},\"marker\":{\"line\":{\"color\":\"#E5ECF6\",\"width\":0.5},\"pattern\":{\"fillmode\":\"overlay\",\"size\":10,\"solidity\":0.2}},\"type\":\"bar\"}],\"scattergeo\":[{\"type\":\"scattergeo\",\"marker\":{\"colorbar\":{\"outlinewidth\":0,\"ticks\":\"\"}}}],\"scatterpolar\":[{\"type\":\"scatterpolar\",\"marker\":{\"colorbar\":{\"outlinewidth\":0,\"ticks\":\"\"}}}],\"histogram\":[{\"marker\":{\"pattern\":{\"fillmode\":\"overlay\",\"size\":10,\"solidity\":0.2}},\"type\":\"histogram\"}],\"scattergl\":[{\"type\":\"scattergl\",\"marker\":{\"colorbar\":{\"outlinewidth\":0,\"ticks\":\"\"}}}],\"scatter3d\":[{\"type\":\"scatter3d\",\"line\":{\"colorbar\":{\"outlinewidth\":0,\"ticks\":\"\"}},\"marker\":{\"colorbar\":{\"outlinewidth\":0,\"ticks\":\"\"}}}],\"scattermapbox\":[{\"type\":\"scattermapbox\",\"marker\":{\"colorbar\":{\"outlinewidth\":0,\"ticks\":\"\"}}}],\"scatterternary\":[{\"type\":\"scatterternary\",\"marker\":{\"colorbar\":{\"outlinewidth\":0,\"ticks\":\"\"}}}],\"scattercarpet\":[{\"type\":\"scattercarpet\",\"marker\":{\"colorbar\":{\"outlinewidth\":0,\"ticks\":\"\"}}}],\"carpet\":[{\"aaxis\":{\"endlinecolor\":\"#2a3f5f\",\"gridcolor\":\"white\",\"linecolor\":\"white\",\"minorgridcolor\":\"white\",\"startlinecolor\":\"#2a3f5f\"},\"baxis\":{\"endlinecolor\":\"#2a3f5f\",\"gridcolor\":\"white\",\"linecolor\":\"white\",\"minorgridcolor\":\"white\",\"startlinecolor\":\"#2a3f5f\"},\"type\":\"carpet\"}],\"table\":[{\"cells\":{\"fill\":{\"color\":\"#EBF0F8\"},\"line\":{\"color\":\"white\"}},\"header\":{\"fill\":{\"color\":\"#C8D4E3\"},\"line\":{\"color\":\"white\"}},\"type\":\"table\"}],\"barpolar\":[{\"marker\":{\"line\":{\"color\":\"#E5ECF6\",\"width\":0.5},\"pattern\":{\"fillmode\":\"overlay\",\"size\":10,\"solidity\":0.2}},\"type\":\"barpolar\"}],\"pie\":[{\"automargin\":true,\"type\":\"pie\"}]},\"layout\":{\"autotypenumbers\":\"strict\",\"colorway\":[\"#636efa\",\"#EF553B\",\"#00cc96\",\"#ab63fa\",\"#FFA15A\",\"#19d3f3\",\"#FF6692\",\"#B6E880\",\"#FF97FF\",\"#FECB52\"],\"font\":{\"color\":\"#2a3f5f\"},\"hovermode\":\"closest\",\"hoverlabel\":{\"align\":\"left\"},\"paper_bgcolor\":\"white\",\"plot_bgcolor\":\"#E5ECF6\",\"polar\":{\"bgcolor\":\"#E5ECF6\",\"angularaxis\":{\"gridcolor\":\"white\",\"linecolor\":\"white\",\"ticks\":\"\"},\"radialaxis\":{\"gridcolor\":\"white\",\"linecolor\":\"white\",\"ticks\":\"\"}},\"ternary\":{\"bgcolor\":\"#E5ECF6\",\"aaxis\":{\"gridcolor\":\"white\",\"linecolor\":\"white\",\"ticks\":\"\"},\"baxis\":{\"gridcolor\":\"white\",\"linecolor\":\"white\",\"ticks\":\"\"},\"caxis\":{\"gridcolor\":\"white\",\"linecolor\":\"white\",\"ticks\":\"\"}},\"coloraxis\":{\"colorbar\":{\"outlinewidth\":0,\"ticks\":\"\"}},\"colorscale\":{\"sequential\":[[0.0,\"#0d0887\"],[0.1111111111111111,\"#46039f\"],[0.2222222222222222,\"#7201a8\"],[0.3333333333333333,\"#9c179e\"],[0.4444444444444444,\"#bd3786\"],[0.5555555555555556,\"#d8576b\"],[0.6666666666666666,\"#ed7953\"],[0.7777777777777778,\"#fb9f3a\"],[0.8888888888888888,\"#fdca26\"],[1.0,\"#f0f921\"]],\"sequentialminus\":[[0.0,\"#0d0887\"],[0.1111111111111111,\"#46039f\"],[0.2222222222222222,\"#7201a8\"],[0.3333333333333333,\"#9c179e\"],[0.4444444444444444,\"#bd3786\"],[0.5555555555555556,\"#d8576b\"],[0.6666666666666666,\"#ed7953\"],[0.7777777777777778,\"#fb9f3a\"],[0.8888888888888888,\"#fdca26\"],[1.0,\"#f0f921\"]],\"diverging\":[[0,\"#8e0152\"],[0.1,\"#c51b7d\"],[0.2,\"#de77ae\"],[0.3,\"#f1b6da\"],[0.4,\"#fde0ef\"],[0.5,\"#f7f7f7\"],[0.6,\"#e6f5d0\"],[0.7,\"#b8e186\"],[0.8,\"#7fbc41\"],[0.9,\"#4d9221\"],[1,\"#276419\"]]},\"xaxis\":{\"gridcolor\":\"white\",\"linecolor\":\"white\",\"ticks\":\"\",\"title\":{\"standoff\":15},\"zerolinecolor\":\"white\",\"automargin\":true,\"zerolinewidth\":2},\"yaxis\":{\"gridcolor\":\"white\",\"linecolor\":\"white\",\"ticks\":\"\",\"title\":{\"standoff\":15},\"zerolinecolor\":\"white\",\"automargin\":true,\"zerolinewidth\":2},\"scene\":{\"xaxis\":{\"backgroundcolor\":\"#E5ECF6\",\"gridcolor\":\"white\",\"linecolor\":\"white\",\"showbackground\":true,\"ticks\":\"\",\"zerolinecolor\":\"white\",\"gridwidth\":2},\"yaxis\":{\"backgroundcolor\":\"#E5ECF6\",\"gridcolor\":\"white\",\"linecolor\":\"white\",\"showbackground\":true,\"ticks\":\"\",\"zerolinecolor\":\"white\",\"gridwidth\":2},\"zaxis\":{\"backgroundcolor\":\"#E5ECF6\",\"gridcolor\":\"white\",\"linecolor\":\"white\",\"showbackground\":true,\"ticks\":\"\",\"zerolinecolor\":\"white\",\"gridwidth\":2}},\"shapedefaults\":{\"line\":{\"color\":\"#2a3f5f\"}},\"annotationdefaults\":{\"arrowcolor\":\"#2a3f5f\",\"arrowhead\":0,\"arrowwidth\":1},\"geo\":{\"bgcolor\":\"white\",\"landcolor\":\"#E5ECF6\",\"subunitcolor\":\"white\",\"showland\":true,\"showlakes\":true,\"lakecolor\":\"white\"},\"title\":{\"x\":0.05},\"mapbox\":{\"style\":\"light\"}}},\"xaxis\":{\"anchor\":\"y\",\"domain\":[0.0,1.0],\"title\":{\"text\":\"Absolute Mean Difference\"}},\"yaxis\":{\"anchor\":\"x\",\"domain\":[0.0,1.0],\"title\":{\"text\":\"index\"}},\"legend\":{\"title\":{\"text\":\"Sample\"},\"tracegroupgap\":0},\"title\":{\"text\":\"\\u91cd\\u307f\\u4ed8\\u3051\\u3057\\u305f\\u30c7\\u30fc\\u30bf\\u3067\\u306e\\u5171\\u5909\\u91cf\\u306e\\u30d0\\u30e9\\u30f3\\u30b9\"}},                        {\"responsive\": true}                    ).then(function(){\n",
              "                            \n",
              "var gd = document.getElementById('eebd1269-6015-43c1-a7ed-0475b7691b51');\n",
              "var x = new MutationObserver(function (mutations, observer) {{\n",
              "        var display = window.getComputedStyle(gd).display;\n",
              "        if (!display || display === 'none') {{\n",
              "            console.log([gd, 'removed!']);\n",
              "            Plotly.purge(gd);\n",
              "            observer.disconnect();\n",
              "        }}\n",
              "}});\n",
              "\n",
              "// Listen for the removal of the full notebook cells\n",
              "var notebookContainer = gd.closest('#notebook-container');\n",
              "if (notebookContainer) {{\n",
              "    x.observe(notebookContainer, {childList: true});\n",
              "}}\n",
              "\n",
              "// Listen for the clearing of the current output cell\n",
              "var outputEl = gd.closest('.output');\n",
              "if (outputEl) {{\n",
              "    x.observe(outputEl, {childList: true});\n",
              "}}\n",
              "\n",
              "                        })                };                            </script>        </div>\n",
              "</body>\n",
              "</html>"
            ]
          },
          "metadata": {}
        }
      ],
      "source": [
        "balance_df = pd.concat([\n",
        "    pd.DataFrame({'Absolute Mean Difference': unadjusted_amd, 'Sample': 'Unadjusted'}),\n",
        "    pd.DataFrame({'Absolute Mean Difference': after_weighted_amd, 'Sample': 'Adjusted'})\n",
        "])\n",
        "fig = px.scatter(balance_df, x='Absolute Mean Difference', y=balance_df.index, color='Sample',\n",
        "                title='重み付けしたデータでの共変量のバランス')\n",
        "fig.show()"
      ]
    },
    {
      "cell_type": "code",
      "execution_count": 47,
      "metadata": {
        "ExecuteTime": {
          "end_time": "2021-09-11T08:36:24.816771Z",
          "start_time": "2021-09-11T08:36:24.807084Z"
        },
        "id": "weWf5f2K04xt"
      },
      "outputs": [],
      "source": [
        "fig.write_html('ch3_plot3.html', auto_open=False)"
      ]
    },
    {
      "cell_type": "code",
      "execution_count": 47,
      "metadata": {
        "id": "cObqyI_Q04xt"
      },
      "outputs": [],
      "source": []
    }
  ],
  "metadata": {
    "kernelspec": {
      "display_name": "Python 3 (ipykernel)",
      "language": "python",
      "name": "python3"
    },
    "language_info": {
      "codemirror_mode": {
        "name": "ipython",
        "version": 3
      },
      "file_extension": ".py",
      "mimetype": "text/x-python",
      "name": "python",
      "nbconvert_exporter": "python",
      "pygments_lexer": "ipython3",
      "version": "3.7.4"
    },
    "colab": {
      "provenance": []
    },
    "widgets": {
      "application/vnd.jupyter.widget-state+json": {
        "8da876014f014eb2b07a6e8efb4714ee": {
          "model_module": "@jupyter-widgets/controls",
          "model_name": "HBoxModel",
          "model_module_version": "1.5.0",
          "state": {
            "_dom_classes": [],
            "_model_module": "@jupyter-widgets/controls",
            "_model_module_version": "1.5.0",
            "_model_name": "HBoxModel",
            "_view_count": null,
            "_view_module": "@jupyter-widgets/controls",
            "_view_module_version": "1.5.0",
            "_view_name": "HBoxView",
            "box_style": "",
            "children": [
              "IPY_MODEL_157694c1199f429ebd2a7cb04108edd0",
              "IPY_MODEL_8350e64c3ec64bcb9e8712aba8890e5f",
              "IPY_MODEL_7589939df7ba44fa8c66b387aa3d9348"
            ],
            "layout": "IPY_MODEL_b893ff65c2d340f49cea6e0bcde7d8f5"
          }
        },
        "157694c1199f429ebd2a7cb04108edd0": {
          "model_module": "@jupyter-widgets/controls",
          "model_name": "HTMLModel",
          "model_module_version": "1.5.0",
          "state": {
            "_dom_classes": [],
            "_model_module": "@jupyter-widgets/controls",
            "_model_module_version": "1.5.0",
            "_model_name": "HTMLModel",
            "_view_count": null,
            "_view_module": "@jupyter-widgets/controls",
            "_view_module_version": "1.5.0",
            "_view_name": "HTMLView",
            "description": "",
            "description_tooltip": null,
            "layout": "IPY_MODEL_aac1250a4d414f91b5ac1700e41a79aa",
            "placeholder": "​",
            "style": "IPY_MODEL_faaf73b031644851a51c02bb192f7301",
            "value": "100%"
          }
        },
        "8350e64c3ec64bcb9e8712aba8890e5f": {
          "model_module": "@jupyter-widgets/controls",
          "model_name": "FloatProgressModel",
          "model_module_version": "1.5.0",
          "state": {
            "_dom_classes": [],
            "_model_module": "@jupyter-widgets/controls",
            "_model_module_version": "1.5.0",
            "_model_name": "FloatProgressModel",
            "_view_count": null,
            "_view_module": "@jupyter-widgets/controls",
            "_view_module_version": "1.5.0",
            "_view_name": "ProgressView",
            "bar_style": "success",
            "description": "",
            "description_tooltip": null,
            "layout": "IPY_MODEL_7d57c09297ca4d108aaa7dbc4ac9d249",
            "max": 10,
            "min": 0,
            "orientation": "horizontal",
            "style": "IPY_MODEL_4a97e65c6e834395a470c0ef3fe36300",
            "value": 10
          }
        },
        "7589939df7ba44fa8c66b387aa3d9348": {
          "model_module": "@jupyter-widgets/controls",
          "model_name": "HTMLModel",
          "model_module_version": "1.5.0",
          "state": {
            "_dom_classes": [],
            "_model_module": "@jupyter-widgets/controls",
            "_model_module_version": "1.5.0",
            "_model_name": "HTMLModel",
            "_view_count": null,
            "_view_module": "@jupyter-widgets/controls",
            "_view_module_version": "1.5.0",
            "_view_name": "HTMLView",
            "description": "",
            "description_tooltip": null,
            "layout": "IPY_MODEL_4c3771cd7490463bbdb6e71a46b18f83",
            "placeholder": "​",
            "style": "IPY_MODEL_e7153347ec634f25bd620e2bc397e758",
            "value": " 10/10 [00:23&lt;00:00,  2.11s/it]"
          }
        },
        "b893ff65c2d340f49cea6e0bcde7d8f5": {
          "model_module": "@jupyter-widgets/base",
          "model_name": "LayoutModel",
          "model_module_version": "1.2.0",
          "state": {
            "_model_module": "@jupyter-widgets/base",
            "_model_module_version": "1.2.0",
            "_model_name": "LayoutModel",
            "_view_count": null,
            "_view_module": "@jupyter-widgets/base",
            "_view_module_version": "1.2.0",
            "_view_name": "LayoutView",
            "align_content": null,
            "align_items": null,
            "align_self": null,
            "border": null,
            "bottom": null,
            "display": null,
            "flex": null,
            "flex_flow": null,
            "grid_area": null,
            "grid_auto_columns": null,
            "grid_auto_flow": null,
            "grid_auto_rows": null,
            "grid_column": null,
            "grid_gap": null,
            "grid_row": null,
            "grid_template_areas": null,
            "grid_template_columns": null,
            "grid_template_rows": null,
            "height": null,
            "justify_content": null,
            "justify_items": null,
            "left": null,
            "margin": null,
            "max_height": null,
            "max_width": null,
            "min_height": null,
            "min_width": null,
            "object_fit": null,
            "object_position": null,
            "order": null,
            "overflow": null,
            "overflow_x": null,
            "overflow_y": null,
            "padding": null,
            "right": null,
            "top": null,
            "visibility": null,
            "width": null
          }
        },
        "aac1250a4d414f91b5ac1700e41a79aa": {
          "model_module": "@jupyter-widgets/base",
          "model_name": "LayoutModel",
          "model_module_version": "1.2.0",
          "state": {
            "_model_module": "@jupyter-widgets/base",
            "_model_module_version": "1.2.0",
            "_model_name": "LayoutModel",
            "_view_count": null,
            "_view_module": "@jupyter-widgets/base",
            "_view_module_version": "1.2.0",
            "_view_name": "LayoutView",
            "align_content": null,
            "align_items": null,
            "align_self": null,
            "border": null,
            "bottom": null,
            "display": null,
            "flex": null,
            "flex_flow": null,
            "grid_area": null,
            "grid_auto_columns": null,
            "grid_auto_flow": null,
            "grid_auto_rows": null,
            "grid_column": null,
            "grid_gap": null,
            "grid_row": null,
            "grid_template_areas": null,
            "grid_template_columns": null,
            "grid_template_rows": null,
            "height": null,
            "justify_content": null,
            "justify_items": null,
            "left": null,
            "margin": null,
            "max_height": null,
            "max_width": null,
            "min_height": null,
            "min_width": null,
            "object_fit": null,
            "object_position": null,
            "order": null,
            "overflow": null,
            "overflow_x": null,
            "overflow_y": null,
            "padding": null,
            "right": null,
            "top": null,
            "visibility": null,
            "width": null
          }
        },
        "faaf73b031644851a51c02bb192f7301": {
          "model_module": "@jupyter-widgets/controls",
          "model_name": "DescriptionStyleModel",
          "model_module_version": "1.5.0",
          "state": {
            "_model_module": "@jupyter-widgets/controls",
            "_model_module_version": "1.5.0",
            "_model_name": "DescriptionStyleModel",
            "_view_count": null,
            "_view_module": "@jupyter-widgets/base",
            "_view_module_version": "1.2.0",
            "_view_name": "StyleView",
            "description_width": ""
          }
        },
        "7d57c09297ca4d108aaa7dbc4ac9d249": {
          "model_module": "@jupyter-widgets/base",
          "model_name": "LayoutModel",
          "model_module_version": "1.2.0",
          "state": {
            "_model_module": "@jupyter-widgets/base",
            "_model_module_version": "1.2.0",
            "_model_name": "LayoutModel",
            "_view_count": null,
            "_view_module": "@jupyter-widgets/base",
            "_view_module_version": "1.2.0",
            "_view_name": "LayoutView",
            "align_content": null,
            "align_items": null,
            "align_self": null,
            "border": null,
            "bottom": null,
            "display": null,
            "flex": null,
            "flex_flow": null,
            "grid_area": null,
            "grid_auto_columns": null,
            "grid_auto_flow": null,
            "grid_auto_rows": null,
            "grid_column": null,
            "grid_gap": null,
            "grid_row": null,
            "grid_template_areas": null,
            "grid_template_columns": null,
            "grid_template_rows": null,
            "height": null,
            "justify_content": null,
            "justify_items": null,
            "left": null,
            "margin": null,
            "max_height": null,
            "max_width": null,
            "min_height": null,
            "min_width": null,
            "object_fit": null,
            "object_position": null,
            "order": null,
            "overflow": null,
            "overflow_x": null,
            "overflow_y": null,
            "padding": null,
            "right": null,
            "top": null,
            "visibility": null,
            "width": null
          }
        },
        "4a97e65c6e834395a470c0ef3fe36300": {
          "model_module": "@jupyter-widgets/controls",
          "model_name": "ProgressStyleModel",
          "model_module_version": "1.5.0",
          "state": {
            "_model_module": "@jupyter-widgets/controls",
            "_model_module_version": "1.5.0",
            "_model_name": "ProgressStyleModel",
            "_view_count": null,
            "_view_module": "@jupyter-widgets/base",
            "_view_module_version": "1.2.0",
            "_view_name": "StyleView",
            "bar_color": null,
            "description_width": ""
          }
        },
        "4c3771cd7490463bbdb6e71a46b18f83": {
          "model_module": "@jupyter-widgets/base",
          "model_name": "LayoutModel",
          "model_module_version": "1.2.0",
          "state": {
            "_model_module": "@jupyter-widgets/base",
            "_model_module_version": "1.2.0",
            "_model_name": "LayoutModel",
            "_view_count": null,
            "_view_module": "@jupyter-widgets/base",
            "_view_module_version": "1.2.0",
            "_view_name": "LayoutView",
            "align_content": null,
            "align_items": null,
            "align_self": null,
            "border": null,
            "bottom": null,
            "display": null,
            "flex": null,
            "flex_flow": null,
            "grid_area": null,
            "grid_auto_columns": null,
            "grid_auto_flow": null,
            "grid_auto_rows": null,
            "grid_column": null,
            "grid_gap": null,
            "grid_row": null,
            "grid_template_areas": null,
            "grid_template_columns": null,
            "grid_template_rows": null,
            "height": null,
            "justify_content": null,
            "justify_items": null,
            "left": null,
            "margin": null,
            "max_height": null,
            "max_width": null,
            "min_height": null,
            "min_width": null,
            "object_fit": null,
            "object_position": null,
            "order": null,
            "overflow": null,
            "overflow_x": null,
            "overflow_y": null,
            "padding": null,
            "right": null,
            "top": null,
            "visibility": null,
            "width": null
          }
        },
        "e7153347ec634f25bd620e2bc397e758": {
          "model_module": "@jupyter-widgets/controls",
          "model_name": "DescriptionStyleModel",
          "model_module_version": "1.5.0",
          "state": {
            "_model_module": "@jupyter-widgets/controls",
            "_model_module_version": "1.5.0",
            "_model_name": "DescriptionStyleModel",
            "_view_count": null,
            "_view_module": "@jupyter-widgets/base",
            "_view_module_version": "1.2.0",
            "_view_name": "StyleView",
            "description_width": ""
          }
        }
      }
    }
  },
  "nbformat": 4,
  "nbformat_minor": 0
}