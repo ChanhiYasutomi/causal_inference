{
  "cells": [
    {
      "cell_type": "markdown",
      "source": [
        "# url: https://qiita.com/nekoumei/items/648726e89d05cba6f432"
      ],
      "metadata": {
        "id": "dRkV8U9O9P6L"
      }
    },
    {
      "cell_type": "code",
      "execution_count": 1,
      "metadata": {
        "ExecuteTime": {
          "end_time": "2021-09-11T07:56:40.768047Z",
          "start_time": "2021-09-11T07:56:40.241769Z"
        },
        "id": "ufLsaoyFu2K0"
      },
      "outputs": [],
      "source": [
        "import pandas as pd\n",
        "import statsmodels.api as sm\n",
        "import joblib\n",
        "import os\n",
        "\n",
        "import warnings\n",
        "warnings.filterwarnings('ignore')"
      ]
    },
    {
      "cell_type": "markdown",
      "metadata": {
        "id": "2KPXccxtu2K3"
      },
      "source": [
        "## セレクションバイアスのあるデータの作成"
      ]
    },
    {
      "cell_type": "code",
      "execution_count": 2,
      "metadata": {
        "ExecuteTime": {
          "end_time": "2021-09-11T07:56:40.782505Z",
          "start_time": "2021-09-11T07:56:40.769286Z"
        },
        "id": "A3CMmY4Qu2K5"
      },
      "outputs": [],
      "source": [
        "dumped_male_df_path = '/content/male_df.joblib'\n",
        "dumped_biased_df_path = '/content/biased_df.joblib'\n",
        "\n",
        "if os.path.exists(dumped_male_df_path):\n",
        "    male_df = joblib.load(dumped_male_df_path)\n",
        "    biased_df = joblib.load(dumped_biased_df_path)\n",
        "else:\n",
        "    # セレクションバイアスのあるデータの作成\n",
        "    mail_df = pd.read_csv('http://www.minethatdata.com/Kevin_Hillstrom_MineThatData_E-MailAnalytics_DataMiningChallenge_2008.03.20.csv')\n",
        "    ### 女性向けメールが配信されたデータを削除したデータを作成\n",
        "    male_df = mail_df[mail_df.segment != 'Womens E-Mail'].copy() # 女性向けメールが配信されたデータを削除\n",
        "    male_df['treatment'] = male_df.segment.apply(lambda x: 1 if x == 'Mens E-Mail' else 0) #介入を表すtreatment変数を追加\n",
        "    ## バイアスのあるデータの作成\n",
        "    sample_rules = (male_df.history > 300) | (male_df.recency < 6) | (male_df.channel=='Multichannel')\n",
        "    biased_df = pd.concat([\n",
        "        male_df[(sample_rules) & (male_df.treatment == 0)].sample(frac=0.5, random_state=1),\n",
        "        male_df[(sample_rules) & (male_df.treatment == 1)],\n",
        "        male_df[(~sample_rules) & (male_df.treatment == 0)],\n",
        "        male_df[(~sample_rules) & (male_df.treatment == 1)].sample(frac=0.5, random_state=1)\n",
        "    ], axis=0, ignore_index=True)"
      ]
    },
    {
      "cell_type": "markdown",
      "metadata": {
        "id": "Lbc3sLsou2K6"
      },
      "source": [
        "## (6) バイアスのあるデータでの回帰分析"
      ]
    },
    {
      "cell_type": "code",
      "execution_count": 3,
      "metadata": {
        "ExecuteTime": {
          "end_time": "2021-09-11T07:56:40.792254Z",
          "start_time": "2021-09-11T07:56:40.783479Z"
        },
        "id": "grO6BIhWu2K6"
      },
      "outputs": [],
      "source": [
        "## 回帰分析の実行\n",
        "y = biased_df.spend\n",
        "X = biased_df[['treatment', 'history']]\n",
        "X = sm.add_constant(X) # statsmodelsではβ0を明示的に入れてあげる必要がある\n",
        "model = sm.OLS(y, X)\n",
        "results = model.fit()"
      ]
    },
    {
      "cell_type": "code",
      "execution_count": 4,
      "metadata": {
        "ExecuteTime": {
          "end_time": "2021-09-11T07:56:40.825251Z",
          "start_time": "2021-09-11T07:56:40.796412Z"
        },
        "colab": {
          "base_uri": "https://localhost:8080/",
          "height": 473
        },
        "id": "XieJHf1gu2K6",
        "outputId": "51edac3f-cd1f-401c-a022-e9714560151a"
      },
      "outputs": [
        {
          "output_type": "execute_result",
          "data": {
            "text/plain": [
              "<class 'statsmodels.iolib.summary.Summary'>\n",
              "\"\"\"\n",
              "                            OLS Regression Results                            \n",
              "==============================================================================\n",
              "Dep. Variable:                  spend   R-squared:                       0.001\n",
              "Model:                            OLS   Adj. R-squared:                  0.001\n",
              "Method:                 Least Squares   F-statistic:                     20.45\n",
              "Date:                Fri, 15 Dec 2023   Prob (F-statistic):           1.32e-09\n",
              "Time:                        12:53:26   Log-Likelihood:            -1.3312e+05\n",
              "No. Observations:               31925   AIC:                         2.663e+05\n",
              "Df Residuals:                   31922   BIC:                         2.663e+05\n",
              "Df Model:                           2                                         \n",
              "Covariance Type:            nonrobust                                         \n",
              "==============================================================================\n",
              "                 coef    std err          t      P>|t|      [0.025      0.975]\n",
              "------------------------------------------------------------------------------\n",
              "const          0.3413      0.147      2.327      0.020       0.054       0.629\n",
              "treatment      0.9088      0.177      5.122      0.000       0.561       1.257\n",
              "history        0.0011      0.000      3.096      0.002       0.000       0.002\n",
              "==============================================================================\n",
              "Omnibus:                    70760.532   Durbin-Watson:                   2.002\n",
              "Prob(Omnibus):                  0.000   Jarque-Bera (JB):        352134568.791\n",
              "Skew:                          20.807   Prob(JB):                         0.00\n",
              "Kurtosis:                     515.825   Cond. No.                         833.\n",
              "==============================================================================\n",
              "\n",
              "Notes:\n",
              "[1] Standard Errors assume that the covariance matrix of the errors is correctly specified.\n",
              "\"\"\""
            ],
            "text/html": [
              "<table class=\"simpletable\">\n",
              "<caption>OLS Regression Results</caption>\n",
              "<tr>\n",
              "  <th>Dep. Variable:</th>          <td>spend</td>      <th>  R-squared:         </th>  <td>   0.001</td>  \n",
              "</tr>\n",
              "<tr>\n",
              "  <th>Model:</th>                   <td>OLS</td>       <th>  Adj. R-squared:    </th>  <td>   0.001</td>  \n",
              "</tr>\n",
              "<tr>\n",
              "  <th>Method:</th>             <td>Least Squares</td>  <th>  F-statistic:       </th>  <td>   20.45</td>  \n",
              "</tr>\n",
              "<tr>\n",
              "  <th>Date:</th>             <td>Fri, 15 Dec 2023</td> <th>  Prob (F-statistic):</th>  <td>1.32e-09</td>  \n",
              "</tr>\n",
              "<tr>\n",
              "  <th>Time:</th>                 <td>12:53:26</td>     <th>  Log-Likelihood:    </th> <td>-1.3312e+05</td>\n",
              "</tr>\n",
              "<tr>\n",
              "  <th>No. Observations:</th>      <td> 31925</td>      <th>  AIC:               </th>  <td>2.663e+05</td> \n",
              "</tr>\n",
              "<tr>\n",
              "  <th>Df Residuals:</th>          <td> 31922</td>      <th>  BIC:               </th>  <td>2.663e+05</td> \n",
              "</tr>\n",
              "<tr>\n",
              "  <th>Df Model:</th>              <td>     2</td>      <th>                     </th>      <td> </td>     \n",
              "</tr>\n",
              "<tr>\n",
              "  <th>Covariance Type:</th>      <td>nonrobust</td>    <th>                     </th>      <td> </td>     \n",
              "</tr>\n",
              "</table>\n",
              "<table class=\"simpletable\">\n",
              "<tr>\n",
              "      <td></td>         <th>coef</th>     <th>std err</th>      <th>t</th>      <th>P>|t|</th>  <th>[0.025</th>    <th>0.975]</th>  \n",
              "</tr>\n",
              "<tr>\n",
              "  <th>const</th>     <td>    0.3413</td> <td>    0.147</td> <td>    2.327</td> <td> 0.020</td> <td>    0.054</td> <td>    0.629</td>\n",
              "</tr>\n",
              "<tr>\n",
              "  <th>treatment</th> <td>    0.9088</td> <td>    0.177</td> <td>    5.122</td> <td> 0.000</td> <td>    0.561</td> <td>    1.257</td>\n",
              "</tr>\n",
              "<tr>\n",
              "  <th>history</th>   <td>    0.0011</td> <td>    0.000</td> <td>    3.096</td> <td> 0.002</td> <td>    0.000</td> <td>    0.002</td>\n",
              "</tr>\n",
              "</table>\n",
              "<table class=\"simpletable\">\n",
              "<tr>\n",
              "  <th>Omnibus:</th>       <td>70760.532</td> <th>  Durbin-Watson:     </th>   <td>   2.002</td>   \n",
              "</tr>\n",
              "<tr>\n",
              "  <th>Prob(Omnibus):</th>  <td> 0.000</td>   <th>  Jarque-Bera (JB):  </th> <td>352134568.791</td>\n",
              "</tr>\n",
              "<tr>\n",
              "  <th>Skew:</th>           <td>20.807</td>   <th>  Prob(JB):          </th>   <td>    0.00</td>   \n",
              "</tr>\n",
              "<tr>\n",
              "  <th>Kurtosis:</th>       <td>515.825</td>  <th>  Cond. No.          </th>   <td>    833.</td>   \n",
              "</tr>\n",
              "</table><br/><br/>Notes:<br/>[1] Standard Errors assume that the covariance matrix of the errors is correctly specified."
            ],
            "text/latex": "\\begin{center}\n\\begin{tabular}{lclc}\n\\toprule\n\\textbf{Dep. Variable:}    &      spend       & \\textbf{  R-squared:         } &       0.001    \\\\\n\\textbf{Model:}            &       OLS        & \\textbf{  Adj. R-squared:    } &       0.001    \\\\\n\\textbf{Method:}           &  Least Squares   & \\textbf{  F-statistic:       } &       20.45    \\\\\n\\textbf{Date:}             & Fri, 15 Dec 2023 & \\textbf{  Prob (F-statistic):} &    1.32e-09    \\\\\n\\textbf{Time:}             &     12:53:26     & \\textbf{  Log-Likelihood:    } &  -1.3312e+05   \\\\\n\\textbf{No. Observations:} &       31925      & \\textbf{  AIC:               } &   2.663e+05    \\\\\n\\textbf{Df Residuals:}     &       31922      & \\textbf{  BIC:               } &   2.663e+05    \\\\\n\\textbf{Df Model:}         &           2      & \\textbf{                     } &                \\\\\n\\textbf{Covariance Type:}  &    nonrobust     & \\textbf{                     } &                \\\\\n\\bottomrule\n\\end{tabular}\n\\begin{tabular}{lcccccc}\n                   & \\textbf{coef} & \\textbf{std err} & \\textbf{t} & \\textbf{P$> |$t$|$} & \\textbf{[0.025} & \\textbf{0.975]}  \\\\\n\\midrule\n\\textbf{const}     &       0.3413  &        0.147     &     2.327  &         0.020        &        0.054    &        0.629     \\\\\n\\textbf{treatment} &       0.9088  &        0.177     &     5.122  &         0.000        &        0.561    &        1.257     \\\\\n\\textbf{history}   &       0.0011  &        0.000     &     3.096  &         0.002        &        0.000    &        0.002     \\\\\n\\bottomrule\n\\end{tabular}\n\\begin{tabular}{lclc}\n\\textbf{Omnibus:}       & 70760.532 & \\textbf{  Durbin-Watson:     } &       2.002    \\\\\n\\textbf{Prob(Omnibus):} &    0.000  & \\textbf{  Jarque-Bera (JB):  } & 352134568.791  \\\\\n\\textbf{Skew:}          &   20.807  & \\textbf{  Prob(JB):          } &        0.00    \\\\\n\\textbf{Kurtosis:}      &  515.825  & \\textbf{  Cond. No.          } &        833.    \\\\\n\\bottomrule\n\\end{tabular}\n%\\caption{OLS Regression Results}\n\\end{center}\n\nNotes: \\newline\n [1] Standard Errors assume that the covariance matrix of the errors is correctly specified."
          },
          "metadata": {},
          "execution_count": 4
        }
      ],
      "source": [
        "## 分析結果のレポート\n",
        "summary = results.summary()\n",
        "summary"
      ]
    },
    {
      "cell_type": "code",
      "execution_count": 5,
      "metadata": {
        "ExecuteTime": {
          "end_time": "2021-09-11T07:56:40.836611Z",
          "start_time": "2021-09-11T07:56:40.828565Z"
        },
        "colab": {
          "base_uri": "https://localhost:8080/",
          "height": 104
        },
        "id": "ykfpR38yu2K7",
        "outputId": "ac33ef0c-38a9-4e6c-d8fe-b264411d38e4"
      },
      "outputs": [
        {
          "output_type": "execute_result",
          "data": {
            "text/plain": [
              "<class 'statsmodels.iolib.table.SimpleTable'>"
            ],
            "text/html": [
              "<table class=\"simpletable\">\n",
              "<tr>\n",
              "      <td></td>         <th>coef</th>     <th>std err</th>      <th>t</th>      <th>P>|t|</th>  <th>[0.025</th>    <th>0.975]</th>  \n",
              "</tr>\n",
              "<tr>\n",
              "  <th>const</th>     <td>    0.3413</td> <td>    0.147</td> <td>    2.327</td> <td> 0.020</td> <td>    0.054</td> <td>    0.629</td>\n",
              "</tr>\n",
              "<tr>\n",
              "  <th>treatment</th> <td>    0.9088</td> <td>    0.177</td> <td>    5.122</td> <td> 0.000</td> <td>    0.561</td> <td>    1.257</td>\n",
              "</tr>\n",
              "<tr>\n",
              "  <th>history</th>   <td>    0.0011</td> <td>    0.000</td> <td>    3.096</td> <td> 0.002</td> <td>    0.000</td> <td>    0.002</td>\n",
              "</tr>\n",
              "</table>"
            ],
            "text/latex": "\\begin{center}\n\\begin{tabular}{lcccccc}\n\\toprule\n                   & \\textbf{coef} & \\textbf{std err} & \\textbf{t} & \\textbf{P$> |$t$|$} & \\textbf{[0.025} & \\textbf{0.975]}  \\\\\n\\midrule\n\\textbf{const}     &       0.3413  &        0.147     &     2.327  &         0.020        &        0.054    &        0.629     \\\\\n\\textbf{treatment} &       0.9088  &        0.177     &     5.122  &         0.000        &        0.561    &        1.257     \\\\\n\\textbf{history}   &       0.0011  &        0.000     &     3.096  &         0.002        &        0.000    &        0.002     \\\\\n\\bottomrule\n\\end{tabular}\n\\end{center}"
          },
          "metadata": {},
          "execution_count": 5
        }
      ],
      "source": [
        "## 推定されたパラメーターの取り出し\n",
        "biased_reg_coef = summary.tables[1]\n",
        "biased_reg_coef"
      ]
    },
    {
      "cell_type": "markdown",
      "metadata": {
        "id": "NX1Z3cx6u2K8"
      },
      "source": [
        "## (7) RCTデータでの回帰分析とバイアスのあるデータでの回帰分析の比較"
      ]
    },
    {
      "cell_type": "code",
      "execution_count": 6,
      "metadata": {
        "ExecuteTime": {
          "end_time": "2021-09-11T07:56:40.862393Z",
          "start_time": "2021-09-11T07:56:40.840092Z"
        },
        "colab": {
          "base_uri": "https://localhost:8080/",
          "height": 83
        },
        "id": "vVcwTGvou2K8",
        "outputId": "66adbee2-7e18-4172-aad3-f8d46dc0c5f3"
      },
      "outputs": [
        {
          "output_type": "execute_result",
          "data": {
            "text/plain": [
              "<class 'statsmodels.iolib.table.SimpleTable'>"
            ],
            "text/html": [
              "<table class=\"simpletable\">\n",
              "<tr>\n",
              "      <td></td>         <th>coef</th>     <th>std err</th>      <th>t</th>      <th>P>|t|</th>  <th>[0.025</th>    <th>0.975]</th>  \n",
              "</tr>\n",
              "<tr>\n",
              "  <th>const</th>     <td>    0.6528</td> <td>    0.103</td> <td>    6.356</td> <td> 0.000</td> <td>    0.451</td> <td>    0.854</td>\n",
              "</tr>\n",
              "<tr>\n",
              "  <th>treatment</th> <td>    0.7698</td> <td>    0.145</td> <td>    5.300</td> <td> 0.000</td> <td>    0.485</td> <td>    1.055</td>\n",
              "</tr>\n",
              "</table>"
            ],
            "text/latex": "\\begin{center}\n\\begin{tabular}{lcccccc}\n\\toprule\n                   & \\textbf{coef} & \\textbf{std err} & \\textbf{t} & \\textbf{P$> |$t$|$} & \\textbf{[0.025} & \\textbf{0.975]}  \\\\\n\\midrule\n\\textbf{const}     &       0.6528  &        0.103     &     6.356  &         0.000        &        0.451    &        0.854     \\\\\n\\textbf{treatment} &       0.7698  &        0.145     &     5.300  &         0.000        &        0.485    &        1.055     \\\\\n\\bottomrule\n\\end{tabular}\n\\end{center}"
          },
          "metadata": {},
          "execution_count": 6
        }
      ],
      "source": [
        "## RCTデータでの単回帰\n",
        "y = male_df.spend\n",
        "X = male_df[['treatment']]\n",
        "X = sm.add_constant(X)\n",
        "results = sm.OLS(y, X).fit()\n",
        "rct_reg_coef = results.summary().tables[1]\n",
        "rct_reg_coef"
      ]
    },
    {
      "cell_type": "code",
      "execution_count": 7,
      "metadata": {
        "ExecuteTime": {
          "end_time": "2021-09-11T07:56:40.885424Z",
          "start_time": "2021-09-11T07:56:40.865902Z"
        },
        "colab": {
          "base_uri": "https://localhost:8080/",
          "height": 83
        },
        "id": "oBpn26TPu2K8",
        "outputId": "8b5ed316-db7c-46ac-a205-dde216c01184"
      },
      "outputs": [
        {
          "output_type": "execute_result",
          "data": {
            "text/plain": [
              "<class 'statsmodels.iolib.table.SimpleTable'>"
            ],
            "text/html": [
              "<table class=\"simpletable\">\n",
              "<tr>\n",
              "      <td></td>         <th>coef</th>     <th>std err</th>      <th>t</th>      <th>P>|t|</th>  <th>[0.025</th>    <th>0.975]</th>  \n",
              "</tr>\n",
              "<tr>\n",
              "  <th>const</th>     <td>    0.5580</td> <td>    0.129</td> <td>    4.328</td> <td> 0.000</td> <td>    0.305</td> <td>    0.811</td>\n",
              "</tr>\n",
              "<tr>\n",
              "  <th>treatment</th> <td>    0.9837</td> <td>    0.176</td> <td>    5.596</td> <td> 0.000</td> <td>    0.639</td> <td>    1.328</td>\n",
              "</tr>\n",
              "</table>"
            ],
            "text/latex": "\\begin{center}\n\\begin{tabular}{lcccccc}\n\\toprule\n                   & \\textbf{coef} & \\textbf{std err} & \\textbf{t} & \\textbf{P$> |$t$|$} & \\textbf{[0.025} & \\textbf{0.975]}  \\\\\n\\midrule\n\\textbf{const}     &       0.5580  &        0.129     &     4.328  &         0.000        &        0.305    &        0.811     \\\\\n\\textbf{treatment} &       0.9837  &        0.176     &     5.596  &         0.000        &        0.639    &        1.328     \\\\\n\\bottomrule\n\\end{tabular}\n\\end{center}"
          },
          "metadata": {},
          "execution_count": 7
        }
      ],
      "source": [
        "## バイアスのあるデータでの単回帰\n",
        "y = biased_df.spend\n",
        "X = biased_df[['treatment']]\n",
        "X = sm.add_constant(X)\n",
        "results = sm.OLS(y, X).fit()\n",
        "nonrct_reg_coef = results.summary().tables[1]\n",
        "nonrct_reg_coef"
      ]
    },
    {
      "cell_type": "code",
      "execution_count": 8,
      "metadata": {
        "ExecuteTime": {
          "end_time": "2021-09-11T07:56:40.925121Z",
          "start_time": "2021-09-11T07:56:40.889005Z"
        },
        "scrolled": true,
        "colab": {
          "base_uri": "https://localhost:8080/",
          "height": 169
        },
        "id": "W4d99Mp7u2K9",
        "outputId": "0a5ed847-1433-41e5-d7e1-95000fa02764"
      },
      "outputs": [
        {
          "output_type": "execute_result",
          "data": {
            "text/plain": [
              "<class 'statsmodels.iolib.table.SimpleTable'>"
            ],
            "text/html": [
              "<table class=\"simpletable\">\n",
              "<tr>\n",
              "        <td></td>           <th>coef</th>     <th>std err</th>      <th>t</th>      <th>P>|t|</th>  <th>[0.025</th>    <th>0.975]</th>  \n",
              "</tr>\n",
              "<tr>\n",
              "  <th>const</th>         <td>    0.4761</td> <td>    0.386</td> <td>    1.233</td> <td> 0.218</td> <td>   -0.281</td> <td>    1.233</td>\n",
              "</tr>\n",
              "<tr>\n",
              "  <th>treatment</th>     <td>    0.8617</td> <td>    0.181</td> <td>    4.750</td> <td> 0.000</td> <td>    0.506</td> <td>    1.217</td>\n",
              "</tr>\n",
              "<tr>\n",
              "  <th>recency</th>       <td>   -0.0361</td> <td>    0.026</td> <td>   -1.372</td> <td> 0.170</td> <td>   -0.088</td> <td>    0.015</td>\n",
              "</tr>\n",
              "<tr>\n",
              "  <th>history</th>       <td>    0.0010</td> <td>    0.000</td> <td>    2.655</td> <td> 0.008</td> <td>    0.000</td> <td>    0.002</td>\n",
              "</tr>\n",
              "<tr>\n",
              "  <th>channel_Phone</th> <td>   -0.0079</td> <td>    0.310</td> <td>   -0.025</td> <td> 0.980</td> <td>   -0.616</td> <td>    0.600</td>\n",
              "</tr>\n",
              "<tr>\n",
              "  <th>channel_Web</th>   <td>    0.2540</td> <td>    0.310</td> <td>    0.820</td> <td> 0.412</td> <td>   -0.353</td> <td>    0.861</td>\n",
              "</tr>\n",
              "</table>"
            ],
            "text/latex": "\\begin{center}\n\\begin{tabular}{lcccccc}\n\\toprule\n                        & \\textbf{coef} & \\textbf{std err} & \\textbf{t} & \\textbf{P$> |$t$|$} & \\textbf{[0.025} & \\textbf{0.975]}  \\\\\n\\midrule\n\\textbf{const}          &       0.4761  &        0.386     &     1.233  &         0.218        &       -0.281    &        1.233     \\\\\n\\textbf{treatment}      &       0.8617  &        0.181     &     4.750  &         0.000        &        0.506    &        1.217     \\\\\n\\textbf{recency}        &      -0.0361  &        0.026     &    -1.372  &         0.170        &       -0.088    &        0.015     \\\\\n\\textbf{history}        &       0.0010  &        0.000     &     2.655  &         0.008        &        0.000    &        0.002     \\\\\n\\textbf{channel\\_Phone} &      -0.0079  &        0.310     &    -0.025  &         0.980        &       -0.616    &        0.600     \\\\\n\\textbf{channel\\_Web}   &       0.2540  &        0.310     &     0.820  &         0.412        &       -0.353    &        0.861     \\\\\n\\bottomrule\n\\end{tabular}\n\\end{center}"
          },
          "metadata": {},
          "execution_count": 8
        }
      ],
      "source": [
        "## バイアスのあるデータでの重回帰\n",
        "y = biased_df.spend\n",
        "# R lmではカテゴリ変数は自動的にダミー変数化されているのでそれを再現\n",
        "X = pd.get_dummies(biased_df[['treatment', 'recency', 'channel', 'history']], columns=['channel'], drop_first=True)\n",
        "X = sm.add_constant(X)\n",
        "results = sm.OLS(y, X).fit()\n",
        "nonrct_mreg_coef = results.summary().tables[1]\n",
        "nonrct_mreg_coef"
      ]
    },
    {
      "cell_type": "markdown",
      "metadata": {
        "id": "fGNJtHBEu2K9"
      },
      "source": [
        "## (8) OVBの確認"
      ]
    },
    {
      "cell_type": "code",
      "execution_count": 9,
      "metadata": {
        "ExecuteTime": {
          "end_time": "2021-09-11T07:56:40.976432Z",
          "start_time": "2021-09-11T07:56:40.930135Z"
        },
        "id": "wZodBMZju2K9"
      },
      "outputs": [],
      "source": [
        "## (a) history抜きの回帰分析とパラメーターの取り出し\n",
        "y = biased_df.spend\n",
        "X = pd.get_dummies(biased_df[['treatment', 'recency', 'channel']], columns=['channel'], drop_first=True)\n",
        "X = sm.add_constant(X)\n",
        "results = sm.OLS(y, X).fit()\n",
        "short_coef = results.summary().tables[1]\n",
        "short_coef_df = pd.read_html(short_coef.as_html(), header=0, index_col=0)[0] #SimpleTableは扱いなれてないのでpandas DataFrameにする\n",
        "\n",
        "## aの結果から介入効果に関するパラメーターのみを取り出す\n",
        "alpha_1 = results.params['treatment'] # summaryのデータは小数点が四捨五入されているため、正確な値をとってくる\n"
      ]
    },
    {
      "cell_type": "code",
      "execution_count": 10,
      "metadata": {
        "ExecuteTime": {
          "end_time": "2021-09-11T07:56:41.018240Z",
          "start_time": "2021-09-11T07:56:40.982827Z"
        },
        "id": "k6GdwMOFu2K9"
      },
      "outputs": [],
      "source": [
        "## (b) historyを追加した回帰分析とパラメーターの取り出し\n",
        "y = biased_df.spend\n",
        "X = pd.get_dummies(biased_df[['treatment', 'recency', 'channel', 'history']], columns=['channel'], drop_first=True)\n",
        "X = sm.add_constant(X)\n",
        "results = sm.OLS(y, X).fit()\n",
        "long_coef = results.summary().tables[1]\n",
        "long_coef_df = pd.read_html(long_coef.as_html(), header=0, index_col=0)[0] #SimpleTableは扱いなれてないのでpandas DataFrameにする\n",
        "\n",
        "## bの結果から介入とhistoryに関するパラメーターを取り出す\n",
        "beta_1 = results.params['treatment']\n",
        "beta_2 = results.params['history']"
      ]
    },
    {
      "cell_type": "code",
      "execution_count": 11,
      "metadata": {
        "ExecuteTime": {
          "end_time": "2021-09-11T07:56:41.055593Z",
          "start_time": "2021-09-11T07:56:41.023618Z"
        },
        "id": "BHeTLeF2u2K9"
      },
      "outputs": [],
      "source": [
        "## (c) 脱落した変数と介入変数での回帰分析\n",
        "y = biased_df.history\n",
        "X = pd.get_dummies(biased_df[['treatment', 'recency', 'channel']], columns=['channel'], drop_first=True)\n",
        "X = sm.add_constant(X)\n",
        "results = sm.OLS(y, X).fit()\n",
        "omitted_coef = results.summary().tables[1]\n",
        "omitted_coef_df = pd.read_html(omitted_coef.as_html(), header=0, index_col=0)[0] #SimpleTableは扱いなれてないのでpandas DataFrameにする\n",
        "gamma_1 = results.params['treatment']"
      ]
    },
    {
      "cell_type": "code",
      "execution_count": 12,
      "metadata": {
        "ExecuteTime": {
          "end_time": "2021-09-11T07:56:41.067240Z",
          "start_time": "2021-09-11T07:56:41.061048Z"
        },
        "colab": {
          "base_uri": "https://localhost:8080/"
        },
        "id": "cPTYmMKEu2K9",
        "outputId": "1f3a4d52-47eb-453e-a652-8dcf6a146624"
      },
      "outputs": [
        {
          "output_type": "stream",
          "name": "stdout",
          "text": [
            "0.028816423676830048\n",
            "0.028816423676825798\n"
          ]
        }
      ],
      "source": [
        "## OVBの確認\n",
        "print(beta_2 * gamma_1)\n",
        "print(alpha_1 - beta_1)"
      ]
    },
    {
      "cell_type": "markdown",
      "metadata": {
        "id": "TrKebPEuu2K-"
      },
      "source": [
        "## (10) 入れてはいけない変数を入れてみる"
      ]
    },
    {
      "cell_type": "code",
      "execution_count": 13,
      "metadata": {
        "ExecuteTime": {
          "end_time": "2021-09-11T07:56:41.104470Z",
          "start_time": "2021-09-11T07:56:41.072126Z"
        },
        "colab": {
          "base_uri": "https://localhost:8080/",
          "height": 169
        },
        "id": "71mK4zCVu2K-",
        "outputId": "43b9a07b-25cc-45b7-8326-030af577b919"
      },
      "outputs": [
        {
          "output_type": "execute_result",
          "data": {
            "text/plain": [
              "<class 'statsmodels.iolib.table.SimpleTable'>"
            ],
            "text/html": [
              "<table class=\"simpletable\">\n",
              "<tr>\n",
              "        <td></td>           <th>coef</th>     <th>std err</th>      <th>t</th>      <th>P>|t|</th>  <th>[0.025</th>    <th>0.975]</th>  \n",
              "</tr>\n",
              "<tr>\n",
              "  <th>const</th>         <td>    0.7153</td> <td>    0.011</td> <td>   63.968</td> <td> 0.000</td> <td>    0.693</td> <td>    0.737</td>\n",
              "</tr>\n",
              "<tr>\n",
              "  <th>visit</th>         <td>    0.1509</td> <td>    0.008</td> <td>   19.820</td> <td> 0.000</td> <td>    0.136</td> <td>    0.166</td>\n",
              "</tr>\n",
              "<tr>\n",
              "  <th>recency</th>       <td>   -0.0282</td> <td>    0.001</td> <td>  -35.621</td> <td> 0.000</td> <td>   -0.030</td> <td>   -0.027</td>\n",
              "</tr>\n",
              "<tr>\n",
              "  <th>history</th>       <td>    0.0001</td> <td> 1.17e-05</td> <td>    9.705</td> <td> 0.000</td> <td> 9.06e-05</td> <td>    0.000</td>\n",
              "</tr>\n",
              "<tr>\n",
              "  <th>channel_Phone</th> <td>   -0.0708</td> <td>    0.009</td> <td>   -7.453</td> <td> 0.000</td> <td>   -0.089</td> <td>   -0.052</td>\n",
              "</tr>\n",
              "<tr>\n",
              "  <th>channel_Web</th>   <td>   -0.0771</td> <td>    0.009</td> <td>   -8.131</td> <td> 0.000</td> <td>   -0.096</td> <td>   -0.059</td>\n",
              "</tr>\n",
              "</table>"
            ],
            "text/latex": "\\begin{center}\n\\begin{tabular}{lcccccc}\n\\toprule\n                        & \\textbf{coef} & \\textbf{std err} & \\textbf{t} & \\textbf{P$> |$t$|$} & \\textbf{[0.025} & \\textbf{0.975]}  \\\\\n\\midrule\n\\textbf{const}          &       0.7153  &        0.011     &    63.968  &         0.000        &        0.693    &        0.737     \\\\\n\\textbf{visit}          &       0.1509  &        0.008     &    19.820  &         0.000        &        0.136    &        0.166     \\\\\n\\textbf{recency}        &      -0.0282  &        0.001     &   -35.621  &         0.000        &       -0.030    &       -0.027     \\\\\n\\textbf{history}        &       0.0001  &     1.17e-05     &     9.705  &         0.000        &     9.06e-05    &        0.000     \\\\\n\\textbf{channel\\_Phone} &      -0.0708  &        0.009     &    -7.453  &         0.000        &       -0.089    &       -0.052     \\\\\n\\textbf{channel\\_Web}   &      -0.0771  &        0.009     &    -8.131  &         0.000        &       -0.096    &       -0.059     \\\\\n\\bottomrule\n\\end{tabular}\n\\end{center}"
          },
          "metadata": {},
          "execution_count": 13
        }
      ],
      "source": [
        "## visitとtreatmentの相関\n",
        "y = biased_df.treatment\n",
        "X = pd.get_dummies(biased_df[['visit', 'channel', 'recency', 'history']], columns=['channel'], drop_first=True)\n",
        "X = sm.add_constant(X)\n",
        "results = sm.OLS(y, X).fit()\n",
        "results.summary().tables[1]"
      ]
    },
    {
      "cell_type": "code",
      "execution_count": 14,
      "metadata": {
        "ExecuteTime": {
          "end_time": "2021-09-11T07:56:41.147546Z",
          "start_time": "2021-09-11T07:56:41.109560Z"
        },
        "colab": {
          "base_uri": "https://localhost:8080/",
          "height": 190
        },
        "id": "10lj3x86u2K-",
        "outputId": "ad199e6c-b2f9-43b7-fcaf-8e7778d1d5bd"
      },
      "outputs": [
        {
          "output_type": "execute_result",
          "data": {
            "text/plain": [
              "<class 'statsmodels.iolib.table.SimpleTable'>"
            ],
            "text/html": [
              "<table class=\"simpletable\">\n",
              "<tr>\n",
              "        <td></td>           <th>coef</th>     <th>std err</th>      <th>t</th>      <th>P>|t|</th>  <th>[0.025</th>    <th>0.975]</th>  \n",
              "</tr>\n",
              "<tr>\n",
              "  <th>const</th>         <td>   -0.4057</td> <td>    0.382</td> <td>   -1.062</td> <td> 0.288</td> <td>   -1.155</td> <td>    0.343</td>\n",
              "</tr>\n",
              "<tr>\n",
              "  <th>treatment</th>     <td>    0.2784</td> <td>    0.180</td> <td>    1.546</td> <td> 0.122</td> <td>   -0.075</td> <td>    0.631</td>\n",
              "</tr>\n",
              "<tr>\n",
              "  <th>recency</th>       <td>    0.0090</td> <td>    0.026</td> <td>    0.346</td> <td> 0.729</td> <td>   -0.042</td> <td>    0.060</td>\n",
              "</tr>\n",
              "<tr>\n",
              "  <th>history</th>       <td>    0.0005</td> <td>    0.000</td> <td>    1.316</td> <td> 0.188</td> <td>   -0.000</td> <td>    0.001</td>\n",
              "</tr>\n",
              "<tr>\n",
              "  <th>visit</th>         <td>    7.2368</td> <td>    0.246</td> <td>   29.368</td> <td> 0.000</td> <td>    6.754</td> <td>    7.720</td>\n",
              "</tr>\n",
              "<tr>\n",
              "  <th>channel_Phone</th> <td>    0.0978</td> <td>    0.306</td> <td>    0.320</td> <td> 0.749</td> <td>   -0.502</td> <td>    0.697</td>\n",
              "</tr>\n",
              "<tr>\n",
              "  <th>channel_Web</th>   <td>    0.1160</td> <td>    0.306</td> <td>    0.380</td> <td> 0.704</td> <td>   -0.483</td> <td>    0.715</td>\n",
              "</tr>\n",
              "</table>"
            ],
            "text/latex": "\\begin{center}\n\\begin{tabular}{lcccccc}\n\\toprule\n                        & \\textbf{coef} & \\textbf{std err} & \\textbf{t} & \\textbf{P$> |$t$|$} & \\textbf{[0.025} & \\textbf{0.975]}  \\\\\n\\midrule\n\\textbf{const}          &      -0.4057  &        0.382     &    -1.062  &         0.288        &       -1.155    &        0.343     \\\\\n\\textbf{treatment}      &       0.2784  &        0.180     &     1.546  &         0.122        &       -0.075    &        0.631     \\\\\n\\textbf{recency}        &       0.0090  &        0.026     &     0.346  &         0.729        &       -0.042    &        0.060     \\\\\n\\textbf{history}        &       0.0005  &        0.000     &     1.316  &         0.188        &       -0.000    &        0.001     \\\\\n\\textbf{visit}          &       7.2368  &        0.246     &    29.368  &         0.000        &        6.754    &        7.720     \\\\\n\\textbf{channel\\_Phone} &       0.0978  &        0.306     &     0.320  &         0.749        &       -0.502    &        0.697     \\\\\n\\textbf{channel\\_Web}   &       0.1160  &        0.306     &     0.380  &         0.704        &       -0.483    &        0.715     \\\\\n\\bottomrule\n\\end{tabular}\n\\end{center}"
          },
          "metadata": {},
          "execution_count": 14
        }
      ],
      "source": [
        "# visitを入れた回帰分析を実行\n",
        "y = biased_df.spend\n",
        "X = pd.get_dummies(biased_df[['treatment', 'channel', 'recency', 'history', 'visit']], columns=['channel'], drop_first=True)\n",
        "X = sm.add_constant(X)\n",
        "results = sm.OLS(y, X).fit()\n",
        "results.summary().tables[1]"
      ]
    },
    {
      "cell_type": "code",
      "source": [],
      "metadata": {
        "id": "a7SiFcD6v3HX"
      },
      "execution_count": 14,
      "outputs": []
    }
  ],
  "metadata": {
    "kernelspec": {
      "display_name": "Python 3 (ipykernel)",
      "language": "python",
      "name": "python3"
    },
    "language_info": {
      "codemirror_mode": {
        "name": "ipython",
        "version": 3
      },
      "file_extension": ".py",
      "mimetype": "text/x-python",
      "name": "python",
      "nbconvert_exporter": "python",
      "pygments_lexer": "ipython3",
      "version": "3.7.4"
    },
    "colab": {
      "provenance": []
    }
  },
  "nbformat": 4,
  "nbformat_minor": 0
}