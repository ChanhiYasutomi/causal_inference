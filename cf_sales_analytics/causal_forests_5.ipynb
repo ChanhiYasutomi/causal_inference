{
  "nbformat": 4,
  "nbformat_minor": 0,
  "metadata": {
    "colab": {
      "provenance": []
    },
    "kernelspec": {
      "name": "python3",
      "display_name": "Python 3"
    },
    "language_info": {
      "name": "python"
    }
  },
  "cells": [
    {
      "cell_type": "markdown",
      "source": [
        "# 因果フォレスト（Causal Forests）をPythonで実践的に学ぶ（その５） 因果フォレストのチューニングと最適化（後半）\n",
        "\n",
        "url: https://www.salesanalytics.co.jp/datascience/datascience189/"
      ],
      "metadata": {
        "id": "dwCOOzqbzT77"
      }
    },
    {
      "cell_type": "markdown",
      "source": [
        "    因果推論は、ビジネスや研究の多くの分野での意思決定を支える重要な手法となっています。\n",
        "\n",
        "    特に因果フォレストは、複雑なデータ構造の中から因果関係を明らかにするのに非常に効果的です。\n",
        "\n",
        "    ただ、適切なモデルを構築するためには、ハイパーパラメータがある場合には、そのチューニングによる最適化が欠かせません。\n",
        "\n",
        "    今まで、PythonのEconMLライブラリを用いて紹介してきました\n",
        "\n",
        "    このEconMLのCausalForestDMLには、3種類のハイパーパラメータが登場します。\n",
        "\n",
        "    ・因果フォレストそのものののハイパーパラメータ\n",
        "    ・アウトカムモデルのハイパーパラメータ\n",
        "    ・トリートメントモデルのハイパーパラメータ"
      ],
      "metadata": {
        "id": "msQHjfYJTPWl"
      }
    },
    {
      "cell_type": "markdown",
      "source": [
        "    前回は、因果フォレストそのもののハイパーパラメータをチューニングし最適化する方法について説明しました。\n",
        "\n",
        "    url: https://www.salesanalytics.co.jp/datascience/datascience188/"
      ],
      "metadata": {
        "id": "_tSh7baJb6cl"
      }
    },
    {
      "cell_type": "markdown",
      "source": [
        "    今回は、トリートメントモデルとアウトカムモデルのハイパーパラメータのチューニングも組み込んだ、因果フォレスト全体のハイパーパラメータをチューニングし最適化する方法について説明します。\n",
        "\n",
        "    要するに、前回の続きになりますので、前回の記事をまだ読まれていない方は、前回の記事を一読しておくことをお勧めします。"
      ],
      "metadata": {
        "id": "BX6x2Q4aQ6Z0"
      }
    },
    {
      "cell_type": "markdown",
      "source": [
        "## 2つの方略\n",
        "    2つの方略があります。\n",
        "    ・一度にハイパーパラメータチューニング\n",
        "    ・個別にハイパーパラメータチューニング"
      ],
      "metadata": {
        "id": "BszFJ3a2Q-ir"
      }
    },
    {
      "cell_type": "markdown",
      "source": [
        "## 一度にハイパーパラメータチューニング\n",
        "    「一度にハイパーパラメータチューニング」とは、以下の3種類のハイパーパラメータを、一度に実施するという王道なやり方です。\n",
        "    ・因果フォレストそのものののハイパーパラメータ\n",
        "    ・アウトカムモデルのハイパーパラメータ\n",
        "    ・トリートメントモデルのハイパーパラメータ\n",
        "\n",
        "    ただし、非常に時間がかかることが予想されます。"
      ],
      "metadata": {
        "id": "zxjhgI-tRE9p"
      }
    },
    {
      "cell_type": "markdown",
      "source": [
        "## 個別にハイパーパラメータチューニング\n",
        "    「個別にハイパーパラメータチューニング」とは、先程の3種類のハイパーパラメータを、順番にハイパーパラメータチューニングするということです。\n",
        "\n",
        "    例えば、次のようになります。\n",
        "    ・アウトカムモデルとトリートメントモデルのハイパーパラメータをチューニング\n",
        "    ・因果フォレストそのものののハイパーパラメータのハイパーパラメータをチューニング\n",
        "    \n",
        "    先ず、以下の2種類のハイパーパラメータをチューニングします。\n",
        "    ・アウトカムモデルのハイパーパラメータ\n",
        "    ・トリートメントモデルのハイパーパラメータ\n",
        "\n",
        "    このチューニングで、トリートメントモデルとアウトカムモデルのハイパーパラメータを手にできます。\n",
        "\n",
        "    次に、このハイパーパラメータを固定し、以下の残りのハイパーパラメータをチューニングします。\n",
        "\n",
        "    ・因果フォレストそのものののハイパーパラメータ\n",
        "\n",
        "    一度にハイパーパラメータをチューニングするより、計算時間が短くなります。ちょっとではなく、かなり短くなります。"
      ],
      "metadata": {
        "id": "GuxCXa9OxwGj"
      }
    },
    {
      "cell_type": "markdown",
      "source": [
        "## サンプルデータで実施\n",
        "    以下の2つのサンプルデータを使います。\n",
        "    不動産業: cf_sampledata_1.csv (https://www.salesanalytics.co.jp/yehi)\n",
        "    製薬業: cf_sampledata_2.csv (https://www.salesanalytics.co.jp/xnlp)\n",
        "    \n",
        "    それぞれのサンプルデータで、3種類の因果フォレストを構築し、因果効果をプロットします。\n",
        "\n",
        "    ・ハイパーパラメータチューニングしない\n",
        "    ・一度にパイパーパラメータチューニングする\n",
        "    ・個別にパイパーパラメータチューニングする\n",
        "    \n",
        "    今回は、単に因果効果をプロットするだけでなく、その信頼区間も一緒にグラフに表示します。\n",
        "\n"
      ],
      "metadata": {
        "id": "wLCcVDcnSFFx"
      }
    },
    {
      "cell_type": "markdown",
      "source": [
        "##共通して利用するモジュール\n",
        "    共通して利用するモジュールを読み込みます。\n",
        "\n",
        "    以下、コードです。"
      ],
      "metadata": {
        "id": "Rq9bUUrMSLtc"
      }
    },
    {
      "cell_type": "code",
      "source": [
        "pip install econml"
      ],
      "metadata": {
        "colab": {
          "base_uri": "https://localhost:8080/"
        },
        "id": "VDnl6iB4SV86",
        "outputId": "1fd8ff20-2ab2-4c65-f465-23c3fc5453ee"
      },
      "execution_count": 1,
      "outputs": [
        {
          "output_type": "stream",
          "name": "stdout",
          "text": [
            "Collecting econml\n",
            "  Downloading econml-0.14.1-cp310-cp310-manylinux_2_17_x86_64.manylinux2014_x86_64.whl (3.5 MB)\n",
            "\u001b[?25l     \u001b[90m━━━━━━━━━━━━━━━━━━━━━━━━━━━━━━━━━━━━━━━━\u001b[0m \u001b[32m0.0/3.5 MB\u001b[0m \u001b[31m?\u001b[0m eta \u001b[36m-:--:--\u001b[0m\r\u001b[2K     \u001b[91m━━━━━━\u001b[0m\u001b[91m╸\u001b[0m\u001b[90m━━━━━━━━━━━━━━━━━━━━━━━━━━━━━━━━━\u001b[0m \u001b[32m0.6/3.5 MB\u001b[0m \u001b[31m17.1 MB/s\u001b[0m eta \u001b[36m0:00:01\u001b[0m\r\u001b[2K     \u001b[91m━━━━━━━━━━━━━━━━━━━━━━━━━━━━━━━━━━━━━━━\u001b[0m\u001b[91m╸\u001b[0m \u001b[32m3.5/3.5 MB\u001b[0m \u001b[31m60.0 MB/s\u001b[0m eta \u001b[36m0:00:01\u001b[0m\r\u001b[2K     \u001b[90m━━━━━━━━━━━━━━━━━━━━━━━━━━━━━━━━━━━━━━━━\u001b[0m \u001b[32m3.5/3.5 MB\u001b[0m \u001b[31m43.0 MB/s\u001b[0m eta \u001b[36m0:00:00\u001b[0m\n",
            "\u001b[?25hRequirement already satisfied: numpy in /usr/local/lib/python3.10/dist-packages (from econml) (1.23.5)\n",
            "Requirement already satisfied: scipy>1.4.0 in /usr/local/lib/python3.10/dist-packages (from econml) (1.11.4)\n",
            "Requirement already satisfied: scikit-learn<1.3,>0.22.0 in /usr/local/lib/python3.10/dist-packages (from econml) (1.2.2)\n",
            "Collecting sparse (from econml)\n",
            "  Downloading sparse-0.15.1-py2.py3-none-any.whl (116 kB)\n",
            "\u001b[2K     \u001b[90m━━━━━━━━━━━━━━━━━━━━━━━━━━━━━━━━━━━━━━━━\u001b[0m \u001b[32m116.3/116.3 kB\u001b[0m \u001b[31m14.4 MB/s\u001b[0m eta \u001b[36m0:00:00\u001b[0m\n",
            "\u001b[?25hRequirement already satisfied: joblib>=0.13.0 in /usr/local/lib/python3.10/dist-packages (from econml) (1.3.2)\n",
            "Requirement already satisfied: statsmodels>=0.10 in /usr/local/lib/python3.10/dist-packages (from econml) (0.14.1)\n",
            "Requirement already satisfied: pandas in /usr/local/lib/python3.10/dist-packages (from econml) (1.5.3)\n",
            "Collecting shap<0.42.0,>=0.38.1 (from econml)\n",
            "  Downloading shap-0.41.0-cp310-cp310-manylinux_2_12_x86_64.manylinux2010_x86_64.whl (572 kB)\n",
            "\u001b[2K     \u001b[90m━━━━━━━━━━━━━━━━━━━━━━━━━━━━━━━━━━━━━━━━\u001b[0m \u001b[32m572.6/572.6 kB\u001b[0m \u001b[31m46.7 MB/s\u001b[0m eta \u001b[36m0:00:00\u001b[0m\n",
            "\u001b[?25hRequirement already satisfied: lightgbm in /usr/local/lib/python3.10/dist-packages (from econml) (4.1.0)\n",
            "Requirement already satisfied: threadpoolctl>=2.0.0 in /usr/local/lib/python3.10/dist-packages (from scikit-learn<1.3,>0.22.0->econml) (3.2.0)\n",
            "Requirement already satisfied: tqdm>4.25.0 in /usr/local/lib/python3.10/dist-packages (from shap<0.42.0,>=0.38.1->econml) (4.66.1)\n",
            "Requirement already satisfied: packaging>20.9 in /usr/local/lib/python3.10/dist-packages (from shap<0.42.0,>=0.38.1->econml) (23.2)\n",
            "Collecting slicer==0.0.7 (from shap<0.42.0,>=0.38.1->econml)\n",
            "  Downloading slicer-0.0.7-py3-none-any.whl (14 kB)\n",
            "Requirement already satisfied: numba in /usr/local/lib/python3.10/dist-packages (from shap<0.42.0,>=0.38.1->econml) (0.58.1)\n",
            "Requirement already satisfied: cloudpickle in /usr/local/lib/python3.10/dist-packages (from shap<0.42.0,>=0.38.1->econml) (2.2.1)\n",
            "Requirement already satisfied: patsy>=0.5.4 in /usr/local/lib/python3.10/dist-packages (from statsmodels>=0.10->econml) (0.5.6)\n",
            "Requirement already satisfied: python-dateutil>=2.8.1 in /usr/local/lib/python3.10/dist-packages (from pandas->econml) (2.8.2)\n",
            "Requirement already satisfied: pytz>=2020.1 in /usr/local/lib/python3.10/dist-packages (from pandas->econml) (2023.3.post1)\n",
            "Requirement already satisfied: llvmlite<0.42,>=0.41.0dev0 in /usr/local/lib/python3.10/dist-packages (from numba->shap<0.42.0,>=0.38.1->econml) (0.41.1)\n",
            "Requirement already satisfied: six in /usr/local/lib/python3.10/dist-packages (from patsy>=0.5.4->statsmodels>=0.10->econml) (1.16.0)\n",
            "Installing collected packages: slicer, sparse, shap, econml\n",
            "Successfully installed econml-0.14.1 shap-0.41.0 slicer-0.0.7 sparse-0.15.1\n"
          ]
        }
      ]
    },
    {
      "cell_type": "code",
      "source": [
        "import numpy as np\n",
        "import pandas as pd\n",
        "\n",
        "from sklearn.ensemble import RandomForestRegressor\n",
        "from sklearn.ensemble import RandomForestClassifier\n",
        "from sklearn.model_selection import GridSearchCV\n",
        "from sklearn.model_selection import ParameterGrid\n",
        "from sklearn.model_selection import KFold\n",
        "\n",
        "from econml.dml import CausalForestDML\n",
        "\n",
        "from statsmodels.nonparametric.kernel_regression import KernelReg\n",
        "\n",
        "import matplotlib.pyplot as plt\n",
        "plt.style.use('ggplot')\n",
        "plt.rcParams['figure.figsize'] = [12, 9]"
      ],
      "metadata": {
        "colab": {
          "base_uri": "https://localhost:8080/"
        },
        "id": "Lfod8wn-SPVv",
        "outputId": "a9696067-5756-4515-822b-991e2ceb485c"
      },
      "execution_count": 2,
      "outputs": [
        {
          "output_type": "stream",
          "name": "stderr",
          "text": [
            "/usr/local/lib/python3.10/dist-packages/shap/utils/_clustering.py:35: NumbaDeprecationWarning: The 'nopython' keyword argument was not supplied to the 'numba.jit' decorator. The implicit default value for this argument is currently False, but it will be changed to True in Numba 0.59.0. See https://numba.readthedocs.io/en/stable/reference/deprecation.html#deprecation-of-object-mode-fall-back-behaviour-when-using-jit for details.\n",
            "  def _pt_shuffle_rec(i, indexes, index_mask, partition_tree, M, pos):\n",
            "/usr/local/lib/python3.10/dist-packages/shap/utils/_clustering.py:54: NumbaDeprecationWarning: The 'nopython' keyword argument was not supplied to the 'numba.jit' decorator. The implicit default value for this argument is currently False, but it will be changed to True in Numba 0.59.0. See https://numba.readthedocs.io/en/stable/reference/deprecation.html#deprecation-of-object-mode-fall-back-behaviour-when-using-jit for details.\n",
            "  def delta_minimization_order(all_masks, max_swap_size=100, num_passes=2):\n",
            "/usr/local/lib/python3.10/dist-packages/shap/utils/_clustering.py:63: NumbaDeprecationWarning: The 'nopython' keyword argument was not supplied to the 'numba.jit' decorator. The implicit default value for this argument is currently False, but it will be changed to True in Numba 0.59.0. See https://numba.readthedocs.io/en/stable/reference/deprecation.html#deprecation-of-object-mode-fall-back-behaviour-when-using-jit for details.\n",
            "  def _reverse_window(order, start, length):\n",
            "/usr/local/lib/python3.10/dist-packages/shap/utils/_clustering.py:69: NumbaDeprecationWarning: The 'nopython' keyword argument was not supplied to the 'numba.jit' decorator. The implicit default value for this argument is currently False, but it will be changed to True in Numba 0.59.0. See https://numba.readthedocs.io/en/stable/reference/deprecation.html#deprecation-of-object-mode-fall-back-behaviour-when-using-jit for details.\n",
            "  def _reverse_window_score_gain(masks, order, start, length):\n",
            "/usr/local/lib/python3.10/dist-packages/shap/utils/_clustering.py:77: NumbaDeprecationWarning: The 'nopython' keyword argument was not supplied to the 'numba.jit' decorator. The implicit default value for this argument is currently False, but it will be changed to True in Numba 0.59.0. See https://numba.readthedocs.io/en/stable/reference/deprecation.html#deprecation-of-object-mode-fall-back-behaviour-when-using-jit for details.\n",
            "  def _mask_delta_score(m1, m2):\n",
            "/usr/local/lib/python3.10/dist-packages/shap/links.py:5: NumbaDeprecationWarning: The 'nopython' keyword argument was not supplied to the 'numba.jit' decorator. The implicit default value for this argument is currently False, but it will be changed to True in Numba 0.59.0. See https://numba.readthedocs.io/en/stable/reference/deprecation.html#deprecation-of-object-mode-fall-back-behaviour-when-using-jit for details.\n",
            "  def identity(x):\n",
            "/usr/local/lib/python3.10/dist-packages/shap/links.py:10: NumbaDeprecationWarning: The 'nopython' keyword argument was not supplied to the 'numba.jit' decorator. The implicit default value for this argument is currently False, but it will be changed to True in Numba 0.59.0. See https://numba.readthedocs.io/en/stable/reference/deprecation.html#deprecation-of-object-mode-fall-back-behaviour-when-using-jit for details.\n",
            "  def _identity_inverse(x):\n",
            "/usr/local/lib/python3.10/dist-packages/shap/links.py:15: NumbaDeprecationWarning: The 'nopython' keyword argument was not supplied to the 'numba.jit' decorator. The implicit default value for this argument is currently False, but it will be changed to True in Numba 0.59.0. See https://numba.readthedocs.io/en/stable/reference/deprecation.html#deprecation-of-object-mode-fall-back-behaviour-when-using-jit for details.\n",
            "  def logit(x):\n",
            "/usr/local/lib/python3.10/dist-packages/shap/links.py:20: NumbaDeprecationWarning: The 'nopython' keyword argument was not supplied to the 'numba.jit' decorator. The implicit default value for this argument is currently False, but it will be changed to True in Numba 0.59.0. See https://numba.readthedocs.io/en/stable/reference/deprecation.html#deprecation-of-object-mode-fall-back-behaviour-when-using-jit for details.\n",
            "  def _logit_inverse(x):\n",
            "/usr/local/lib/python3.10/dist-packages/shap/utils/_masked_model.py:363: NumbaDeprecationWarning: The 'nopython' keyword argument was not supplied to the 'numba.jit' decorator. The implicit default value for this argument is currently False, but it will be changed to True in Numba 0.59.0. See https://numba.readthedocs.io/en/stable/reference/deprecation.html#deprecation-of-object-mode-fall-back-behaviour-when-using-jit for details.\n",
            "  def _build_fixed_single_output(averaged_outs, last_outs, outputs, batch_positions, varying_rows, num_varying_rows, link, linearizing_weights):\n",
            "/usr/local/lib/python3.10/dist-packages/shap/utils/_masked_model.py:385: NumbaDeprecationWarning: The 'nopython' keyword argument was not supplied to the 'numba.jit' decorator. The implicit default value for this argument is currently False, but it will be changed to True in Numba 0.59.0. See https://numba.readthedocs.io/en/stable/reference/deprecation.html#deprecation-of-object-mode-fall-back-behaviour-when-using-jit for details.\n",
            "  def _build_fixed_multi_output(averaged_outs, last_outs, outputs, batch_positions, varying_rows, num_varying_rows, link, linearizing_weights):\n",
            "/usr/local/lib/python3.10/dist-packages/shap/utils/_masked_model.py:428: NumbaDeprecationWarning: The 'nopython' keyword argument was not supplied to the 'numba.jit' decorator. The implicit default value for this argument is currently False, but it will be changed to True in Numba 0.59.0. See https://numba.readthedocs.io/en/stable/reference/deprecation.html#deprecation-of-object-mode-fall-back-behaviour-when-using-jit for details.\n",
            "  def _init_masks(cluster_matrix, M, indices_row_pos, indptr):\n",
            "/usr/local/lib/python3.10/dist-packages/shap/utils/_masked_model.py:439: NumbaDeprecationWarning: The 'nopython' keyword argument was not supplied to the 'numba.jit' decorator. The implicit default value for this argument is currently False, but it will be changed to True in Numba 0.59.0. See https://numba.readthedocs.io/en/stable/reference/deprecation.html#deprecation-of-object-mode-fall-back-behaviour-when-using-jit for details.\n",
            "  def _rec_fill_masks(cluster_matrix, indices_row_pos, indptr, indices, M, ind):\n",
            "/usr/local/lib/python3.10/dist-packages/shap/maskers/_tabular.py:186: NumbaDeprecationWarning: The 'nopython' keyword argument was not supplied to the 'numba.jit' decorator. The implicit default value for this argument is currently False, but it will be changed to True in Numba 0.59.0. See https://numba.readthedocs.io/en/stable/reference/deprecation.html#deprecation-of-object-mode-fall-back-behaviour-when-using-jit for details.\n",
            "  def _single_delta_mask(dind, masked_inputs, last_mask, data, x, noop_code):\n",
            "/usr/local/lib/python3.10/dist-packages/shap/maskers/_tabular.py:197: NumbaDeprecationWarning: The 'nopython' keyword argument was not supplied to the 'numba.jit' decorator. The implicit default value for this argument is currently False, but it will be changed to True in Numba 0.59.0. See https://numba.readthedocs.io/en/stable/reference/deprecation.html#deprecation-of-object-mode-fall-back-behaviour-when-using-jit for details.\n",
            "  def _delta_masking(masks, x, curr_delta_inds, varying_rows_out,\n",
            "/usr/local/lib/python3.10/dist-packages/shap/maskers/_image.py:175: NumbaDeprecationWarning: The 'nopython' keyword argument was not supplied to the 'numba.jit' decorator. The implicit default value for this argument is currently False, but it will be changed to True in Numba 0.59.0. See https://numba.readthedocs.io/en/stable/reference/deprecation.html#deprecation-of-object-mode-fall-back-behaviour-when-using-jit for details.\n",
            "  def _jit_build_partition_tree(xmin, xmax, ymin, ymax, zmin, zmax, total_ywidth, total_zwidth, M, clustering, q):\n",
            "/usr/local/lib/python3.10/dist-packages/shap/explainers/_partition.py:676: NumbaDeprecationWarning: The 'nopython' keyword argument was not supplied to the 'numba.jit' decorator. The implicit default value for this argument is currently False, but it will be changed to True in Numba 0.59.0. See https://numba.readthedocs.io/en/stable/reference/deprecation.html#deprecation-of-object-mode-fall-back-behaviour-when-using-jit for details.\n",
            "  def lower_credit(i, value, M, values, clustering):\n",
            "The 'nopython' keyword argument was not supplied to the 'numba.jit' decorator. The implicit default value for this argument is currently False, but it will be changed to True in Numba 0.59.0. See https://numba.readthedocs.io/en/stable/reference/deprecation.html#deprecation-of-object-mode-fall-back-behaviour-when-using-jit for details.\n",
            "The 'nopython' keyword argument was not supplied to the 'numba.jit' decorator. The implicit default value for this argument is currently False, but it will be changed to True in Numba 0.59.0. See https://numba.readthedocs.io/en/stable/reference/deprecation.html#deprecation-of-object-mode-fall-back-behaviour-when-using-jit for details.\n"
          ]
        }
      ]
    },
    {
      "cell_type": "markdown",
      "source": [
        "    numpy as np: NumPy（Numerical Python）は、Pythonで数値計算を効率的に行うためのライブラリです。多次元配列のサポートや線形代数の操作などが可能です。\n",
        "    pandas as pd: Pandasは、データ解析とデータ操作のための高度なデータ構造（DataFrameなど）とメソッドを提供するPythonライブラリです。\n",
        "\n",
        "    scikit-learn（sklearn）のモジュールなど\n",
        "    ・RandomForestRegressor: scikit-learn（sklearn）のensembleモジュールからRandomForestRegressorをインポートしています。これはランダムフォレストを用いた回帰問題の解法に使われます。\n",
        "    ・RandomForestClassifier: RandomForestClassifierも同じくランダムフォレストを使いますが、こちらは分類問題に用いられます。\n",
        "    ・GridSearchCV: グリッドサーチと交差検証（Cross-Validation）を組み合わせて、ハイパーパラメータの最適な組み合わせを探します。\n",
        "    ・ParameterGrid: ハイパーパラメータの全ての組み合わせを生成するためのユーティリティです。\n",
        "    ・KFold: K-Fold交差検証を行うためのクラスです。データセットをK個のサブセット（”fold”）に分割し、交差検証を行います。\n",
        "    \n",
        "    ・CausalForestDML: EconMLライブラリのdml（Double Machine Learning）モジュールからCausalForestDMLをインポートしています。これは因果推論（Causal Inference）のための機械学習モデルです。\n",
        "    ・KernelReg: Statsmodelsライブラリのnonparametric.kernel_regressionモジュールからKernelRegをインポートしています。これは非線形回帰のためのカーネル回帰モデルです。\n",
        "    ・matplotlib.pyplot as plt: Matplotlibのpyplotモジュールは、プロットや可視化を行うためのインターフェースです。\n",
        "    ・plt.style.use(‘ggplot’): ggplotスタイルをMatplotlibのプロットに適用しています。これはR言語のggplot2パッケージに似たビジュアルスタイルです。\n",
        "    ・plt.rcParams[‘figure.figsize’] = [12, 9]: プロットのデフォルトのサイズを12×9インチに設定しています。"
      ],
      "metadata": {
        "id": "MhfMS0kTSa5l"
      }
    },
    {
      "cell_type": "markdown",
      "source": [
        "## ハイパーパラメータチューニング関数の生成\n",
        "    PythonのEconMLライブラリに、因果フォレストそのもののハイパーパラメータをチューニングする機能が、現在（2023年8月23日現在）実装されていないので、そのための関数を作ります。\n",
        "\n",
        "    以下、コードです。"
      ],
      "metadata": {
        "id": "3RtdHpEIuiZZ"
      }
    },
    {
      "cell_type": "code",
      "source": [
        "def cs_grid_search(Y, T, X, W, estimator_class, param_grid, cv=10):\n",
        "    # パラメータの組み合わせを全て生成する\n",
        "    grid = ParameterGrid(param_grid)\n",
        "\n",
        "    # K-fold交差検証のための分割器を生成\n",
        "    kf = KFold(n_splits=cv)\n",
        "\n",
        "    # 最適なスコアとそのときのパラメータを初期化\n",
        "    best_score = float('inf')\n",
        "    best_params = None\n",
        "\n",
        "    # すべてのパラメータの組み合わせに対してループ\n",
        "    for params in grid:\n",
        "        # エスティメータのインスタンスを生成\n",
        "        estimator = estimator_class(**params)\n",
        "        scores = []\n",
        "\n",
        "        # 学習データと検証データのインデックスを取得するループ\n",
        "        for train_idx, test_idx in kf.split(X):\n",
        "            # 学習データと検証データに分割\n",
        "            X_train, X_test = X[train_idx], X[test_idx]\n",
        "            Y_train, Y_test = Y[train_idx], Y[test_idx]\n",
        "            T_train, T_test = T[train_idx], T[test_idx]\n",
        "            W_train, W_test = W[train_idx], W[test_idx]\n",
        "\n",
        "            # モデルを学習\n",
        "            estimator.fit(Y_train, T_train, X=X_train, W=W_train)\n",
        "            # 検証データでのスコアを計算\n",
        "            score = estimator.score(Y_test, T_test, X_test, W_test)\n",
        "            scores.append(score)\n",
        "\n",
        "        # 平均スコアを計算\n",
        "        avg_score = sum(scores) / cv\n",
        "        # 今までの最適なスコアよりも良ければ、更新する\n",
        "        if avg_score < best_score:\n",
        "            best_score = avg_score\n",
        "            best_params = params\n",
        "            best_model = estimator\n",
        "\n",
        "    # 最適なモデル、その時のパラメータ、そしてスコアを返す\n",
        "    return best_model, best_params, best_score"
      ],
      "metadata": {
        "id": "VtTFiHGVS07e"
      },
      "execution_count": 3,
      "outputs": []
    },
    {
      "cell_type": "markdown",
      "source": [
        "    この関数cs_grid_searchの説明は以下の通りです。\n",
        "\n",
        "    入力:\n",
        "    ・Y: アウトカム（目的変数）\n",
        "    ・T: トリートメント（介入変数）\n",
        "    ・X: 特徴量\n",
        "    ・W: 制御変数\n",
        "    ・estimator_class: グリッドサーチを行いたいエスティメータ（推定器）のクラス\n",
        "    ・param_grid: 探索するパラメータの組み合わせの辞書\n",
        "    ・cv: クロスバリデーション（交差検証）の分割数（デフォルトは10）\n",
        "\n",
        "1. ParameterGridを使用して、提供されたparam_gridから全てのパラメータの組み合わせを生成します。\n",
        "2. KFoldを使用して、データをcv回のクロスバリデーション（交差検証）用に分割します。\n",
        "3. すべてのパラメータの組み合わせに対して、モデルを学習し、テストデータでのスコアを計算します。\n",
        "4. 各パラメータの組み合わせにおける平均スコアを計算し、これまでの最良のスコアよりも良ければ、スコアとパラメータを更新します。\n",
        "5. 最も良いスコアを持つモデル、そのときのパラメータ、およびスコアを返します。\n"
      ],
      "metadata": {
        "id": "zsMxUGub98eY"
      }
    },
    {
      "cell_type": "markdown",
      "source": [
        "## データセットの読み込みと設定\n",
        "    では、データセットを読み込みます。\n",
        "\n",
        "    以下、コードです。"
      ],
      "metadata": {
        "id": "l4Y4dZ5QTO_f"
      }
    },
    {
      "cell_type": "code",
      "source": [
        "# データセットのロード\n",
        "df = pd.read_csv(\"https://www.salesanalytics.co.jp/yehi\")\n",
        "\n",
        "display(df) #確認"
      ],
      "metadata": {
        "colab": {
          "base_uri": "https://localhost:8080/",
          "height": 424
        },
        "id": "hWrpnyujGTgv",
        "outputId": "bcaa8f64-e60e-4f9b-a42e-240263df50c4"
      },
      "execution_count": 4,
      "outputs": [
        {
          "output_type": "display_data",
          "data": {
            "text/plain": [
              "        House_Price  Is_Park_Opened  Distance_to_Park  House_Area  Year_Built  \\\n",
              "0     360290.080492               1          2.744068  105.017033        2008   \n",
              "1     385180.305950               0          3.575947   94.643627        2020   \n",
              "2     329468.964585               1          3.013817   60.289939        2008   \n",
              "3     378124.682277               0          2.724416  102.879130        1981   \n",
              "4     359181.496039               0          2.118274   84.829407        1982   \n",
              "...             ...             ...               ...         ...         ...   \n",
              "4995  340872.676505               0          1.090779  132.567023        2007   \n",
              "4996  390448.842140               1          1.177267  109.572700        2015   \n",
              "4997  407786.862894               1          0.986941  163.764428        1992   \n",
              "4998  393211.462527               0          1.993436   53.568114        1986   \n",
              "4999  411665.332158               0          4.792966  172.036262        1996   \n",
              "\n",
              "      Average_Income  \n",
              "0       40149.842780  \n",
              "1       24032.202540  \n",
              "2       21737.611179  \n",
              "3       73571.036967  \n",
              "4       99219.893824  \n",
              "...              ...  \n",
              "4995    48753.051134  \n",
              "4996    84686.048189  \n",
              "4997    45547.429229  \n",
              "4998    72746.100909  \n",
              "4999    67122.483094  \n",
              "\n",
              "[5000 rows x 6 columns]"
            ],
            "text/html": [
              "\n",
              "  <div id=\"df-b3174235-eacd-49d2-ade1-5950c37dfc27\" class=\"colab-df-container\">\n",
              "    <div>\n",
              "<style scoped>\n",
              "    .dataframe tbody tr th:only-of-type {\n",
              "        vertical-align: middle;\n",
              "    }\n",
              "\n",
              "    .dataframe tbody tr th {\n",
              "        vertical-align: top;\n",
              "    }\n",
              "\n",
              "    .dataframe thead th {\n",
              "        text-align: right;\n",
              "    }\n",
              "</style>\n",
              "<table border=\"1\" class=\"dataframe\">\n",
              "  <thead>\n",
              "    <tr style=\"text-align: right;\">\n",
              "      <th></th>\n",
              "      <th>House_Price</th>\n",
              "      <th>Is_Park_Opened</th>\n",
              "      <th>Distance_to_Park</th>\n",
              "      <th>House_Area</th>\n",
              "      <th>Year_Built</th>\n",
              "      <th>Average_Income</th>\n",
              "    </tr>\n",
              "  </thead>\n",
              "  <tbody>\n",
              "    <tr>\n",
              "      <th>0</th>\n",
              "      <td>360290.080492</td>\n",
              "      <td>1</td>\n",
              "      <td>2.744068</td>\n",
              "      <td>105.017033</td>\n",
              "      <td>2008</td>\n",
              "      <td>40149.842780</td>\n",
              "    </tr>\n",
              "    <tr>\n",
              "      <th>1</th>\n",
              "      <td>385180.305950</td>\n",
              "      <td>0</td>\n",
              "      <td>3.575947</td>\n",
              "      <td>94.643627</td>\n",
              "      <td>2020</td>\n",
              "      <td>24032.202540</td>\n",
              "    </tr>\n",
              "    <tr>\n",
              "      <th>2</th>\n",
              "      <td>329468.964585</td>\n",
              "      <td>1</td>\n",
              "      <td>3.013817</td>\n",
              "      <td>60.289939</td>\n",
              "      <td>2008</td>\n",
              "      <td>21737.611179</td>\n",
              "    </tr>\n",
              "    <tr>\n",
              "      <th>3</th>\n",
              "      <td>378124.682277</td>\n",
              "      <td>0</td>\n",
              "      <td>2.724416</td>\n",
              "      <td>102.879130</td>\n",
              "      <td>1981</td>\n",
              "      <td>73571.036967</td>\n",
              "    </tr>\n",
              "    <tr>\n",
              "      <th>4</th>\n",
              "      <td>359181.496039</td>\n",
              "      <td>0</td>\n",
              "      <td>2.118274</td>\n",
              "      <td>84.829407</td>\n",
              "      <td>1982</td>\n",
              "      <td>99219.893824</td>\n",
              "    </tr>\n",
              "    <tr>\n",
              "      <th>...</th>\n",
              "      <td>...</td>\n",
              "      <td>...</td>\n",
              "      <td>...</td>\n",
              "      <td>...</td>\n",
              "      <td>...</td>\n",
              "      <td>...</td>\n",
              "    </tr>\n",
              "    <tr>\n",
              "      <th>4995</th>\n",
              "      <td>340872.676505</td>\n",
              "      <td>0</td>\n",
              "      <td>1.090779</td>\n",
              "      <td>132.567023</td>\n",
              "      <td>2007</td>\n",
              "      <td>48753.051134</td>\n",
              "    </tr>\n",
              "    <tr>\n",
              "      <th>4996</th>\n",
              "      <td>390448.842140</td>\n",
              "      <td>1</td>\n",
              "      <td>1.177267</td>\n",
              "      <td>109.572700</td>\n",
              "      <td>2015</td>\n",
              "      <td>84686.048189</td>\n",
              "    </tr>\n",
              "    <tr>\n",
              "      <th>4997</th>\n",
              "      <td>407786.862894</td>\n",
              "      <td>1</td>\n",
              "      <td>0.986941</td>\n",
              "      <td>163.764428</td>\n",
              "      <td>1992</td>\n",
              "      <td>45547.429229</td>\n",
              "    </tr>\n",
              "    <tr>\n",
              "      <th>4998</th>\n",
              "      <td>393211.462527</td>\n",
              "      <td>0</td>\n",
              "      <td>1.993436</td>\n",
              "      <td>53.568114</td>\n",
              "      <td>1986</td>\n",
              "      <td>72746.100909</td>\n",
              "    </tr>\n",
              "    <tr>\n",
              "      <th>4999</th>\n",
              "      <td>411665.332158</td>\n",
              "      <td>0</td>\n",
              "      <td>4.792966</td>\n",
              "      <td>172.036262</td>\n",
              "      <td>1996</td>\n",
              "      <td>67122.483094</td>\n",
              "    </tr>\n",
              "  </tbody>\n",
              "</table>\n",
              "<p>5000 rows × 6 columns</p>\n",
              "</div>\n",
              "    <div class=\"colab-df-buttons\">\n",
              "\n",
              "  <div class=\"colab-df-container\">\n",
              "    <button class=\"colab-df-convert\" onclick=\"convertToInteractive('df-b3174235-eacd-49d2-ade1-5950c37dfc27')\"\n",
              "            title=\"Convert this dataframe to an interactive table.\"\n",
              "            style=\"display:none;\">\n",
              "\n",
              "  <svg xmlns=\"http://www.w3.org/2000/svg\" height=\"24px\" viewBox=\"0 -960 960 960\">\n",
              "    <path d=\"M120-120v-720h720v720H120Zm60-500h600v-160H180v160Zm220 220h160v-160H400v160Zm0 220h160v-160H400v160ZM180-400h160v-160H180v160Zm440 0h160v-160H620v160ZM180-180h160v-160H180v160Zm440 0h160v-160H620v160Z\"/>\n",
              "  </svg>\n",
              "    </button>\n",
              "\n",
              "  <style>\n",
              "    .colab-df-container {\n",
              "      display:flex;\n",
              "      gap: 12px;\n",
              "    }\n",
              "\n",
              "    .colab-df-convert {\n",
              "      background-color: #E8F0FE;\n",
              "      border: none;\n",
              "      border-radius: 50%;\n",
              "      cursor: pointer;\n",
              "      display: none;\n",
              "      fill: #1967D2;\n",
              "      height: 32px;\n",
              "      padding: 0 0 0 0;\n",
              "      width: 32px;\n",
              "    }\n",
              "\n",
              "    .colab-df-convert:hover {\n",
              "      background-color: #E2EBFA;\n",
              "      box-shadow: 0px 1px 2px rgba(60, 64, 67, 0.3), 0px 1px 3px 1px rgba(60, 64, 67, 0.15);\n",
              "      fill: #174EA6;\n",
              "    }\n",
              "\n",
              "    .colab-df-buttons div {\n",
              "      margin-bottom: 4px;\n",
              "    }\n",
              "\n",
              "    [theme=dark] .colab-df-convert {\n",
              "      background-color: #3B4455;\n",
              "      fill: #D2E3FC;\n",
              "    }\n",
              "\n",
              "    [theme=dark] .colab-df-convert:hover {\n",
              "      background-color: #434B5C;\n",
              "      box-shadow: 0px 1px 3px 1px rgba(0, 0, 0, 0.15);\n",
              "      filter: drop-shadow(0px 1px 2px rgba(0, 0, 0, 0.3));\n",
              "      fill: #FFFFFF;\n",
              "    }\n",
              "  </style>\n",
              "\n",
              "    <script>\n",
              "      const buttonEl =\n",
              "        document.querySelector('#df-b3174235-eacd-49d2-ade1-5950c37dfc27 button.colab-df-convert');\n",
              "      buttonEl.style.display =\n",
              "        google.colab.kernel.accessAllowed ? 'block' : 'none';\n",
              "\n",
              "      async function convertToInteractive(key) {\n",
              "        const element = document.querySelector('#df-b3174235-eacd-49d2-ade1-5950c37dfc27');\n",
              "        const dataTable =\n",
              "          await google.colab.kernel.invokeFunction('convertToInteractive',\n",
              "                                                    [key], {});\n",
              "        if (!dataTable) return;\n",
              "\n",
              "        const docLinkHtml = 'Like what you see? Visit the ' +\n",
              "          '<a target=\"_blank\" href=https://colab.research.google.com/notebooks/data_table.ipynb>data table notebook</a>'\n",
              "          + ' to learn more about interactive tables.';\n",
              "        element.innerHTML = '';\n",
              "        dataTable['output_type'] = 'display_data';\n",
              "        await google.colab.output.renderOutput(dataTable, element);\n",
              "        const docLink = document.createElement('div');\n",
              "        docLink.innerHTML = docLinkHtml;\n",
              "        element.appendChild(docLink);\n",
              "      }\n",
              "    </script>\n",
              "  </div>\n",
              "\n",
              "\n",
              "<div id=\"df-d800fffe-a5c5-4974-af2a-be7ae42445ac\">\n",
              "  <button class=\"colab-df-quickchart\" onclick=\"quickchart('df-d800fffe-a5c5-4974-af2a-be7ae42445ac')\"\n",
              "            title=\"Suggest charts\"\n",
              "            style=\"display:none;\">\n",
              "\n",
              "<svg xmlns=\"http://www.w3.org/2000/svg\" height=\"24px\"viewBox=\"0 0 24 24\"\n",
              "     width=\"24px\">\n",
              "    <g>\n",
              "        <path d=\"M19 3H5c-1.1 0-2 .9-2 2v14c0 1.1.9 2 2 2h14c1.1 0 2-.9 2-2V5c0-1.1-.9-2-2-2zM9 17H7v-7h2v7zm4 0h-2V7h2v10zm4 0h-2v-4h2v4z\"/>\n",
              "    </g>\n",
              "</svg>\n",
              "  </button>\n",
              "\n",
              "<style>\n",
              "  .colab-df-quickchart {\n",
              "      --bg-color: #E8F0FE;\n",
              "      --fill-color: #1967D2;\n",
              "      --hover-bg-color: #E2EBFA;\n",
              "      --hover-fill-color: #174EA6;\n",
              "      --disabled-fill-color: #AAA;\n",
              "      --disabled-bg-color: #DDD;\n",
              "  }\n",
              "\n",
              "  [theme=dark] .colab-df-quickchart {\n",
              "      --bg-color: #3B4455;\n",
              "      --fill-color: #D2E3FC;\n",
              "      --hover-bg-color: #434B5C;\n",
              "      --hover-fill-color: #FFFFFF;\n",
              "      --disabled-bg-color: #3B4455;\n",
              "      --disabled-fill-color: #666;\n",
              "  }\n",
              "\n",
              "  .colab-df-quickchart {\n",
              "    background-color: var(--bg-color);\n",
              "    border: none;\n",
              "    border-radius: 50%;\n",
              "    cursor: pointer;\n",
              "    display: none;\n",
              "    fill: var(--fill-color);\n",
              "    height: 32px;\n",
              "    padding: 0;\n",
              "    width: 32px;\n",
              "  }\n",
              "\n",
              "  .colab-df-quickchart:hover {\n",
              "    background-color: var(--hover-bg-color);\n",
              "    box-shadow: 0 1px 2px rgba(60, 64, 67, 0.3), 0 1px 3px 1px rgba(60, 64, 67, 0.15);\n",
              "    fill: var(--button-hover-fill-color);\n",
              "  }\n",
              "\n",
              "  .colab-df-quickchart-complete:disabled,\n",
              "  .colab-df-quickchart-complete:disabled:hover {\n",
              "    background-color: var(--disabled-bg-color);\n",
              "    fill: var(--disabled-fill-color);\n",
              "    box-shadow: none;\n",
              "  }\n",
              "\n",
              "  .colab-df-spinner {\n",
              "    border: 2px solid var(--fill-color);\n",
              "    border-color: transparent;\n",
              "    border-bottom-color: var(--fill-color);\n",
              "    animation:\n",
              "      spin 1s steps(1) infinite;\n",
              "  }\n",
              "\n",
              "  @keyframes spin {\n",
              "    0% {\n",
              "      border-color: transparent;\n",
              "      border-bottom-color: var(--fill-color);\n",
              "      border-left-color: var(--fill-color);\n",
              "    }\n",
              "    20% {\n",
              "      border-color: transparent;\n",
              "      border-left-color: var(--fill-color);\n",
              "      border-top-color: var(--fill-color);\n",
              "    }\n",
              "    30% {\n",
              "      border-color: transparent;\n",
              "      border-left-color: var(--fill-color);\n",
              "      border-top-color: var(--fill-color);\n",
              "      border-right-color: var(--fill-color);\n",
              "    }\n",
              "    40% {\n",
              "      border-color: transparent;\n",
              "      border-right-color: var(--fill-color);\n",
              "      border-top-color: var(--fill-color);\n",
              "    }\n",
              "    60% {\n",
              "      border-color: transparent;\n",
              "      border-right-color: var(--fill-color);\n",
              "    }\n",
              "    80% {\n",
              "      border-color: transparent;\n",
              "      border-right-color: var(--fill-color);\n",
              "      border-bottom-color: var(--fill-color);\n",
              "    }\n",
              "    90% {\n",
              "      border-color: transparent;\n",
              "      border-bottom-color: var(--fill-color);\n",
              "    }\n",
              "  }\n",
              "</style>\n",
              "\n",
              "  <script>\n",
              "    async function quickchart(key) {\n",
              "      const quickchartButtonEl =\n",
              "        document.querySelector('#' + key + ' button');\n",
              "      quickchartButtonEl.disabled = true;  // To prevent multiple clicks.\n",
              "      quickchartButtonEl.classList.add('colab-df-spinner');\n",
              "      try {\n",
              "        const charts = await google.colab.kernel.invokeFunction(\n",
              "            'suggestCharts', [key], {});\n",
              "      } catch (error) {\n",
              "        console.error('Error during call to suggestCharts:', error);\n",
              "      }\n",
              "      quickchartButtonEl.classList.remove('colab-df-spinner');\n",
              "      quickchartButtonEl.classList.add('colab-df-quickchart-complete');\n",
              "    }\n",
              "    (() => {\n",
              "      let quickchartButtonEl =\n",
              "        document.querySelector('#df-d800fffe-a5c5-4974-af2a-be7ae42445ac button');\n",
              "      quickchartButtonEl.style.display =\n",
              "        google.colab.kernel.accessAllowed ? 'block' : 'none';\n",
              "    })();\n",
              "  </script>\n",
              "</div>\n",
              "\n",
              "  <div id=\"id_2e0cc3d4-4041-4551-a050-cd80405fb9f0\">\n",
              "    <style>\n",
              "      .colab-df-generate {\n",
              "        background-color: #E8F0FE;\n",
              "        border: none;\n",
              "        border-radius: 50%;\n",
              "        cursor: pointer;\n",
              "        display: none;\n",
              "        fill: #1967D2;\n",
              "        height: 32px;\n",
              "        padding: 0 0 0 0;\n",
              "        width: 32px;\n",
              "      }\n",
              "\n",
              "      .colab-df-generate:hover {\n",
              "        background-color: #E2EBFA;\n",
              "        box-shadow: 0px 1px 2px rgba(60, 64, 67, 0.3), 0px 1px 3px 1px rgba(60, 64, 67, 0.15);\n",
              "        fill: #174EA6;\n",
              "      }\n",
              "\n",
              "      [theme=dark] .colab-df-generate {\n",
              "        background-color: #3B4455;\n",
              "        fill: #D2E3FC;\n",
              "      }\n",
              "\n",
              "      [theme=dark] .colab-df-generate:hover {\n",
              "        background-color: #434B5C;\n",
              "        box-shadow: 0px 1px 3px 1px rgba(0, 0, 0, 0.15);\n",
              "        filter: drop-shadow(0px 1px 2px rgba(0, 0, 0, 0.3));\n",
              "        fill: #FFFFFF;\n",
              "      }\n",
              "    </style>\n",
              "    <button class=\"colab-df-generate\" onclick=\"generateWithVariable('df')\"\n",
              "            title=\"Generate code using this dataframe.\"\n",
              "            style=\"display:none;\">\n",
              "\n",
              "  <svg xmlns=\"http://www.w3.org/2000/svg\" height=\"24px\"viewBox=\"0 0 24 24\"\n",
              "       width=\"24px\">\n",
              "    <path d=\"M7,19H8.4L18.45,9,17,7.55,7,17.6ZM5,21V16.75L18.45,3.32a2,2,0,0,1,2.83,0l1.4,1.43a1.91,1.91,0,0,1,.58,1.4,1.91,1.91,0,0,1-.58,1.4L9.25,21ZM18.45,9,17,7.55Zm-12,3A5.31,5.31,0,0,0,4.9,8.1,5.31,5.31,0,0,0,1,6.5,5.31,5.31,0,0,0,4.9,4.9,5.31,5.31,0,0,0,6.5,1,5.31,5.31,0,0,0,8.1,4.9,5.31,5.31,0,0,0,12,6.5,5.46,5.46,0,0,0,6.5,12Z\"/>\n",
              "  </svg>\n",
              "    </button>\n",
              "    <script>\n",
              "      (() => {\n",
              "      const buttonEl =\n",
              "        document.querySelector('#id_2e0cc3d4-4041-4551-a050-cd80405fb9f0 button.colab-df-generate');\n",
              "      buttonEl.style.display =\n",
              "        google.colab.kernel.accessAllowed ? 'block' : 'none';\n",
              "\n",
              "      buttonEl.onclick = () => {\n",
              "        google.colab.notebook.generateWithVariable('df');\n",
              "      }\n",
              "      })();\n",
              "    </script>\n",
              "  </div>\n",
              "\n",
              "    </div>\n",
              "  </div>\n"
            ]
          },
          "metadata": {}
        }
      ]
    },
    {
      "cell_type": "markdown",
      "source": [
        "    House_Price: 家の価格を示す数値です。Yです。\n",
        "    Is_Park_Opened: 公園が開かれているかどうかを示すバイナリ変数です（0 = 開かれていない, 1 = 開かれている）。Tです。\n",
        "    Distance_to_Park: 家から公園までの距離を示す数値です。Xです。\n",
        "    House_Area: 家の面積を示す数値です。Wです。\n",
        "    Year_Built: 家が建てられた年を示す数値です。Wです。\n",
        "    Average_Income: 地域の平均所得を示す数値です。Wです。"
      ],
      "metadata": {
        "id": "IO2Zv1U0G2Vm"
      }
    },
    {
      "cell_type": "markdown",
      "source": [
        "    Y,T,X,Wを設定していきます。\n",
        "\n",
        "    以下、コードです。"
      ],
      "metadata": {
        "id": "mHifdTW8G5l8"
      }
    },
    {
      "cell_type": "code",
      "source": [
        "# 変数設定\n",
        "Y_col = \"House_Price\"\n",
        "T_col = \"Is_Park_Opened\"\n",
        "X_list = [\"Distance_to_Park\"]\n",
        "W_list = [\"House_Area\",\"Year_Built\",\"Average_Income\"]\n",
        "\n",
        "# データ設定\n",
        "Y = df[Y_col]\n",
        "T = df[T_col]\n",
        "X = df[X_list]\n",
        "W = df[W_list]"
      ],
      "metadata": {
        "id": "LGkQW1J1GTil"
      },
      "execution_count": 5,
      "outputs": []
    },
    {
      "cell_type": "markdown",
      "source": [
        "## ハイパーパラメータをチューニングしない\n",
        "    因果フォレストを学習します。\n",
        "\n",
        "    以下、コードです。"
      ],
      "metadata": {
        "id": "VfJetp5-TZms"
      }
    },
    {
      "cell_type": "code",
      "source": [
        "# CausalForestDMLのインスタンスを作成\n",
        "model = CausalForestDML(\n",
        "    model_y=RandomForestRegressor(),\n",
        "    model_t=RandomForestClassifier(),\n",
        "    discrete_treatment=True\n",
        ")\n",
        "\n",
        "# 学習\n",
        "model.fit(Y, T, X=X, W=W)"
      ],
      "metadata": {
        "colab": {
          "base_uri": "https://localhost:8080/"
        },
        "id": "pNayOeyaTgoM",
        "outputId": "ee072ae2-7c9d-4f9b-8cd3-8b1a05e865b6"
      },
      "execution_count": 6,
      "outputs": [
        {
          "output_type": "stream",
          "name": "stderr",
          "text": [
            "`sparse` was renamed to `sparse_output` in version 1.2 and will be removed in 1.4. `sparse_output` is ignored unless you leave `sparse` to its default value.\n"
          ]
        },
        {
          "output_type": "execute_result",
          "data": {
            "text/plain": [
              "<econml.dml.causal_forest.CausalForestDML at 0x7c2551610f70>"
            ]
          },
          "metadata": {},
          "execution_count": 6
        }
      ]
    },
    {
      "cell_type": "markdown",
      "source": [
        "    CausalForestDMLのインスタンス作成:\n",
        "    ・model_y=RandomForestRegressor(): アウトカムモデル としてRandomForestRegressor（ランダムフォレスト回帰モデル）を指定しています。\n",
        "    ・model_t=RandomForestClassifier(): トリートメントモデルとしてRandomForestClassifier（ランダムフォレスト分類モデル）を指定しています。\n",
        "    ・discrete_treatment=True: トリートメントが離散的（例: 0または1）であることを示します。\n",
        "    ・学習:model.fit(Y, T, X=X, W=W): モデルをデータにフィット（学習）させます。\n",
        "    ・Y: アウトカム（目的変数）\n",
        "    ・T: トリートメント（介入変数）\n",
        "    ・X: 特徴量\n",
        "    ・W: 制御変数"
      ],
      "metadata": {
        "id": "jUDAIX9aG-Zv"
      }
    },
    {
      "cell_type": "markdown",
      "source": [
        "    共変量Xの特定の値の因果効果であるCATE（Conditional Average Treatment Effect）を推定します。\n",
        "\n",
        "    以下、コードです。"
      ],
      "metadata": {
        "id": "CLz6ba0pTx9G"
      }
    },
    {
      "cell_type": "code",
      "source": [
        "# 距離ごとの因果効果の推定\n",
        "X_test = np.linspace(0, 5, 100).reshape(-1, 1)\n",
        "treatment_effects = model.effect(X_test)\n",
        "treatment_confs = model.effect_interval(X_test, T0=0, T1=1, alpha=0.05)"
      ],
      "metadata": {
        "id": "SH7IwYqqGTkp"
      },
      "execution_count": 7,
      "outputs": []
    },
    {
      "cell_type": "markdown",
      "source": [
        "    因果効果の推定を行うテストデータの準備:\n",
        "    ・X_test = np.linspace(0, 5, 100).reshape(-1, 1): 0から5までの範囲で100個の等間隔な点を生成し、それを縦ベクトル（列ベクトル）としてX_testに格納しています。\n",
        "    これは、距離が0から5までの範囲での因果効果を評価するためのテストデータとなります。\n",
        "\n",
        "    因果効果の推定:\n",
        "    ・treatment_effects = model.effect(X_test): 与えられたX_test（距離の各値）に対する因果効果を推定します。\n",
        "    ・結果はtreatment_effectsに格納されます。\n",
        "\n",
        "    因果効果の信頼区間の計算:\n",
        "    ・treatment_confs = model.effect_interval(X_test, T0=0, T1=1, alpha=0.05): 各X_testの値（距離の各値）に対する因果効果の信頼区間を計算します。\n",
        "    ・ここで、T0=0およびT1=1は、トリートメントの二値（0または1）を指定しています。\n",
        "    ・alpha=0.05は、95%信頼区間を求めるためのパラメータです。結果はtreatment_confsに格納され、これには下限値と上限値の2つの配列が含まれます。"
      ],
      "metadata": {
        "id": "V1-taT2tHGiE"
      }
    },
    {
      "cell_type": "markdown",
      "source": [
        "    結果をプロットします。推定した因果効果とその信頼区間を表示しています。さらに、推定した因果効果をカーネル回帰を使用して平滑化しています。\n",
        "\n",
        "    以下、コードです。"
      ],
      "metadata": {
        "id": "AVzBU1CSHSzt"
      }
    },
    {
      "cell_type": "markdown",
      "source": [
        "    共変量Xの特定の値の因果効果であるCATE（Conditional Average Treatment Effect）を推定します。\n",
        "\n",
        "    以下、コードです。"
      ],
      "metadata": {
        "id": "9LT06EVVHWGa"
      }
    },
    {
      "cell_type": "code",
      "source": [
        "# 結果のプロット\n",
        "\n",
        "# カーネル回帰でE[Y|X]を算出\n",
        "kr = KernelReg(treatment_effects,X_test,'c',bw=[0.5])\n",
        "y_pred, _ = kr.fit(X_test)\n",
        "\n",
        "# グラフ化\n",
        "plt.plot(X_test, treatment_effects,'+')\n",
        "plt.fill_between(X_test.ravel(), treatment_confs[0], treatment_confs[1], alpha=0.2)\n",
        "plt.plot(X_test, y_pred)\n",
        "plt.ylim(-20000,50000)\n",
        "plt.xlabel(\"Distance to the Park (km)\")\n",
        "plt.ylabel(\"Treatment Effect on House Price\")\n",
        "plt.title(\"Estimated Treatment Effect by Distance to the Park\")\n",
        "plt.grid(True)\n",
        "plt.show()\n",
        "\n",
        "# ＋が因果効果の推定結果（点推定）、薄い赤の部分が信頼区間（区間推定）、青い実線が因果効果の推定結果を平滑化したもの（傾向線）です。\n",
        "# 信頼区間の幅が、結構大きなことが分かります。"
      ],
      "metadata": {
        "id": "fOP32iOqGTmw",
        "colab": {
          "base_uri": "https://localhost:8080/",
          "height": 783
        },
        "outputId": "1f39a35f-5bda-464e-80cd-7642ba52d826"
      },
      "execution_count": 8,
      "outputs": [
        {
          "output_type": "display_data",
          "data": {
            "text/plain": [
              "<Figure size 1200x900 with 1 Axes>"
            ],
            "image/png": "[encoded data removed]"
          },
          "metadata": {}
        }
      ]
    },
    {
      "cell_type": "markdown",
      "source": [
        "    カーネル回帰の設定:\n",
        "    ・kr = KernelReg(treatment_effects,X_test,'c',bw=[0.5]): カーネル回帰モデルを設定します。\n",
        "    ここで、treatment_effectsは従属変数、X_testは独立変数となります。'c'は連続変数を意味し、bw=[0.5]はバンド幅を0.5として設定しています。\n",
        "\n",
        "    カーネル回帰による平滑化の実施:\n",
        "    ・y_pred, _ = kr.fit(X_test): カーネル回帰モデルを用いてX_testの値に基づく平滑化された因果効果を計算します。\n",
        "\n",
        "    グラフのプロット:\n",
        "    ・plt.plot(X_test, treatment_effects,'+'): X_testに対する因果効果treatment_effectsをプロットします。各点は+マークで表示されます。\n",
        "    ・plt.fill_between(X_test.ravel(), treatment_confs[0], treatment_confs[1], alpha=0.2): 信頼区間を塗りつぶしでプロットします。alpha=0.2は透明度を指定しています。\n",
        "    ・plt.plot(X_test, y_pred): 平滑化された因果効果y_predをプロットします。\n",
        "    ・その他のplt関数は、グラフの各種設定やラベル、タイトルの追加を行っています。\n",
        "    ・plt.show(): 上記の設定に基づき、グラフを表示します。\n"
      ],
      "metadata": {
        "id": "s49KesGLHZS2"
      }
    },
    {
      "cell_type": "markdown",
      "source": [
        "## 一度にハイパーパラメータをチューニングする\n",
        "    以下のハイパーパラメータを一度にチューニングします。\n",
        "    ・因果フォレストそのものののハイパーパラメータ\n",
        "    ・アウトカムモデルのハイパーパラメータ\n",
        "    ・トリートメントモデルのハイパーパラメータ\n",
        "\n",
        "    ただし、非常に時間がかかることが予想されます。\n",
        "\n",
        "    先ず、以下の2つのハイパーパラメータの探索範囲などを設定します。\n",
        "    ・トリートメントモデルのハイパーパラメータ\n",
        "    ・アウトカムモデルのハイパーパラメータ\n",
        "    \n",
        "    以下、コードです。"
      ],
      "metadata": {
        "id": "m7AF0FMJUmWW"
      }
    },
    {
      "cell_type": "code",
      "source": [
        "# ハイパーパラメータの探索範囲の設定\n",
        "params={\n",
        "    'max_depth': [3, 5, 10, None],\n",
        "    'n_estimators': [10, 30, 50, 100, 200],\n",
        "    'max_features': [1,2,3]\n",
        "}\n",
        "# アウトカムモデル\n",
        "GS_model_y = lambda: GridSearchCV(\n",
        "    estimator=RandomForestRegressor(),\n",
        "    param_grid=params,\n",
        "    cv=10,\n",
        "    n_jobs=-1,\n",
        "    scoring='neg_mean_squared_error'\n",
        ")\n",
        "\n",
        "# トリートメントモデル\n",
        "GS_model_t = lambda: GridSearchCV(\n",
        "    estimator=RandomForestClassifier(),\n",
        "    param_grid=params,\n",
        "    cv=10,\n",
        "    n_jobs=-1,\n",
        "    scoring='f1'\n",
        ")"
      ],
      "metadata": {
        "id": "W2zNwpmRUoB8"
      },
      "execution_count": 9,
      "outputs": []
    },
    {
      "cell_type": "markdown",
      "source": [
        "    チューニングしたいハイパーパラメータとその探索範囲を指定（params）\n",
        "    ・max_depth: 決定木の最大深度。Noneは最大深度なしを意味します。\n",
        "    ・n_estimators: ランダムフォレストにおける決定木の数。\n",
        "    ・max_features: 最適な分割を探す際に考慮する特徴量の数。\n",
        "\n",
        "    アウトカムモデル（GS_model_y）\n",
        "    ・estimator=RandomForestRegressor(): アウトカム（応答変数）に関するモデルとしてランダムフォレスト回帰を使用しています。\n",
        "    ・param_grid=params: 上で設定したparamsをハイパーパラメータの探索範囲として使用しています。\n",
        "    ・cv=10: 10-fold交差検証を使用しています。\n",
        "    ・n_jobs=-1: 使用可能なすべてのCPUコアを使用して並列計算を行います。\n",
        "    ・scoring='neg_mean_squared_error': ネガティブ平均二乗誤差（Negative Mean Squared Error）をスコアとして使用しています。\n",
        "\n",
        "    トリートメントモデル（GS_model_t）\n",
        "    ・estimator=RandomForestClassifier(): トリートメント（処置変数）に関するモデルとしてランダムフォレスト分類を使用しています。\n",
        "    ・param_grid=params: 上で設定したparamsをハイパーパラメータの探索範囲として使用しています。\n",
        "    ・cv=10: 10-fold交差検証を使用しています。\n",
        "    ・n_jobs=-1: 使用可能なすべてのCPUコアを使用して並列計算を行います。\n",
        "    ・scoring='f1': F1スコアを用いてモデルの性能を評価しています。\n",
        "    \n",
        "    GS_model_yとGS_model_tはラムダ関数として定義しています。これらを呼び出すと新しいGridSearchCVインスタンスが都度生成されます。\n"
      ],
      "metadata": {
        "id": "G_OXh-bgUt1T"
      }
    },
    {
      "cell_type": "markdown",
      "source": [
        "    次に、残りの因果フォレストそのものののハイパーパラメータを設定し、先程のハイパーパラメータも含めチューニングを実施します。\n",
        "\n",
        "    以下、コードです。"
      ],
      "metadata": {
        "id": "CBIpq16HU1m_"
      }
    },
    {
      "cell_type": "code",
      "source": [
        "# 因果フォレストのハイパーパラメータの探索範囲の設定\n",
        "param_grid = {\n",
        "    'model_y':[GS_model_y()],\n",
        "    'model_t':[GS_model_t()],\n",
        "    'discrete_treatment':[True],\n",
        "    'n_estimators': [16, 48, 100],\n",
        "    'min_samples_leaf': [5, 10],\n",
        "    'max_depth': [3, 5, None],\n",
        "}\n",
        "\n",
        "# ハイパーパラメータチューニングの実施\n",
        "best_model, best_params, best_score = cs_grid_search(\n",
        "    Y.values,\n",
        "    T.values,\n",
        "    X.values,\n",
        "    W.values,\n",
        "    CausalForestDML,\n",
        "    param_grid,\n",
        "    cv=10\n",
        ")\n",
        "\n",
        "# 最適モデルの設定\n",
        "model = best_model"
      ],
      "metadata": {
        "id": "fNnfI60vUoDu",
        "colab": {
          "base_uri": "https://localhost:8080/",
          "height": 1000
        },
        "outputId": "db657189-ffdb-4138-af7c-46c5659e034f"
      },
      "execution_count": 10,
      "outputs": [
        {
          "output_type": "stream",
          "name": "stderr",
          "text": [
            "`sparse` was renamed to `sparse_output` in version 1.2 and will be removed in 1.4. `sparse_output` is ignored unless you leave `sparse` to its default value.\n",
            "Could not generate out-of-bag predictions on some training data. Consider increasing the number of trees. `ate_` results will take the average of the subset of training data for which out-of-bag predictions where available.\n",
            "`sparse` was renamed to `sparse_output` in version 1.2 and will be removed in 1.4. `sparse_output` is ignored unless you leave `sparse` to its default value.\n",
            "Could not generate out-of-bag predictions on some training data. Consider increasing the number of trees. `ate_` results will take the average of the subset of training data for which out-of-bag predictions where available.\n",
            "`sparse` was renamed to `sparse_output` in version 1.2 and will be removed in 1.4. `sparse_output` is ignored unless you leave `sparse` to its default value.\n",
            "Could not generate out-of-bag predictions on some training data. Consider increasing the number of trees. `ate_` results will take the average of the subset of training data for which out-of-bag predictions where available.\n",
            "`sparse` was renamed to `sparse_output` in version 1.2 and will be removed in 1.4. `sparse_output` is ignored unless you leave `sparse` to its default value.\n",
            "Could not generate out-of-bag predictions on some training data. Consider increasing the number of trees. `ate_` results will take the average of the subset of training data for which out-of-bag predictions where available.\n",
            "`sparse` was renamed to `sparse_output` in version 1.2 and will be removed in 1.4. `sparse_output` is ignored unless you leave `sparse` to its default value.\n",
            "Could not generate out-of-bag predictions on some training data. Consider increasing the number of trees. `ate_` results will take the average of the subset of training data for which out-of-bag predictions where available.\n",
            "`sparse` was renamed to `sparse_output` in version 1.2 and will be removed in 1.4. `sparse_output` is ignored unless you leave `sparse` to its default value.\n",
            "Could not generate out-of-bag predictions on some training data. Consider increasing the number of trees. `ate_` results will take the average of the subset of training data for which out-of-bag predictions where available.\n",
            "`sparse` was renamed to `sparse_output` in version 1.2 and will be removed in 1.4. `sparse_output` is ignored unless you leave `sparse` to its default value.\n",
            "Could not generate out-of-bag predictions on some training data. Consider increasing the number of trees. `ate_` results will take the average of the subset of training data for which out-of-bag predictions where available.\n",
            "`sparse` was renamed to `sparse_output` in version 1.2 and will be removed in 1.4. `sparse_output` is ignored unless you leave `sparse` to its default value.\n",
            "Could not generate out-of-bag predictions on some training data. Consider increasing the number of trees. `ate_` results will take the average of the subset of training data for which out-of-bag predictions where available.\n",
            "`sparse` was renamed to `sparse_output` in version 1.2 and will be removed in 1.4. `sparse_output` is ignored unless you leave `sparse` to its default value.\n",
            "Could not generate out-of-bag predictions on some training data. Consider increasing the number of trees. `ate_` results will take the average of the subset of training data for which out-of-bag predictions where available.\n",
            "`sparse` was renamed to `sparse_output` in version 1.2 and will be removed in 1.4. `sparse_output` is ignored unless you leave `sparse` to its default value.\n",
            "Could not generate out-of-bag predictions on some training data. Consider increasing the number of trees. `ate_` results will take the average of the subset of training data for which out-of-bag predictions where available.\n",
            "`sparse` was renamed to `sparse_output` in version 1.2 and will be removed in 1.4. `sparse_output` is ignored unless you leave `sparse` to its default value.\n",
            "`sparse` was renamed to `sparse_output` in version 1.2 and will be removed in 1.4. `sparse_output` is ignored unless you leave `sparse` to its default value.\n",
            "`sparse` was renamed to `sparse_output` in version 1.2 and will be removed in 1.4. `sparse_output` is ignored unless you leave `sparse` to its default value.\n",
            "`sparse` was renamed to `sparse_output` in version 1.2 and will be removed in 1.4. `sparse_output` is ignored unless you leave `sparse` to its default value.\n",
            "`sparse` was renamed to `sparse_output` in version 1.2 and will be removed in 1.4. `sparse_output` is ignored unless you leave `sparse` to its default value.\n",
            "`sparse` was renamed to `sparse_output` in version 1.2 and will be removed in 1.4. `sparse_output` is ignored unless you leave `sparse` to its default value.\n",
            "`sparse` was renamed to `sparse_output` in version 1.2 and will be removed in 1.4. `sparse_output` is ignored unless you leave `sparse` to its default value.\n",
            "`sparse` was renamed to `sparse_output` in version 1.2 and will be removed in 1.4. `sparse_output` is ignored unless you leave `sparse` to its default value.\n",
            "`sparse` was renamed to `sparse_output` in version 1.2 and will be removed in 1.4. `sparse_output` is ignored unless you leave `sparse` to its default value.\n",
            "`sparse` was renamed to `sparse_output` in version 1.2 and will be removed in 1.4. `sparse_output` is ignored unless you leave `sparse` to its default value.\n",
            "`sparse` was renamed to `sparse_output` in version 1.2 and will be removed in 1.4. `sparse_output` is ignored unless you leave `sparse` to its default value.\n",
            "`sparse` was renamed to `sparse_output` in version 1.2 and will be removed in 1.4. `sparse_output` is ignored unless you leave `sparse` to its default value.\n",
            "`sparse` was renamed to `sparse_output` in version 1.2 and will be removed in 1.4. `sparse_output` is ignored unless you leave `sparse` to its default value.\n",
            "`sparse` was renamed to `sparse_output` in version 1.2 and will be removed in 1.4. `sparse_output` is ignored unless you leave `sparse` to its default value.\n",
            "`sparse` was renamed to `sparse_output` in version 1.2 and will be removed in 1.4. `sparse_output` is ignored unless you leave `sparse` to its default value.\n",
            "`sparse` was renamed to `sparse_output` in version 1.2 and will be removed in 1.4. `sparse_output` is ignored unless you leave `sparse` to its default value.\n"
          ]
        },
        {
          "output_type": "error",
          "ename": "KeyboardInterrupt",
          "evalue": "",
          "traceback": [
            "\u001b[0;31m---------------------------------------------------------------------------\u001b[0m",
            "\u001b[0;31mKeyboardInterrupt\u001b[0m                         Traceback (most recent call last)",
            "\u001b[0;32m<ipython-input-10-cf5122d2d1ac>\u001b[0m in \u001b[0;36m<cell line: 12>\u001b[0;34m()\u001b[0m\n\u001b[1;32m     10\u001b[0m \u001b[0;34m\u001b[0m\u001b[0m\n\u001b[1;32m     11\u001b[0m \u001b[0;31m# ハイパーパラメータチューニングの実施\u001b[0m\u001b[0;34m\u001b[0m\u001b[0;34m\u001b[0m\u001b[0m\n\u001b[0;32m---> 12\u001b[0;31m best_model, best_params, best_score = cs_grid_search(\n\u001b[0m\u001b[1;32m     13\u001b[0m     \u001b[0mY\u001b[0m\u001b[0;34m.\u001b[0m\u001b[0mvalues\u001b[0m\u001b[0;34m,\u001b[0m\u001b[0;34m\u001b[0m\u001b[0;34m\u001b[0m\u001b[0m\n\u001b[1;32m     14\u001b[0m     \u001b[0mT\u001b[0m\u001b[0;34m.\u001b[0m\u001b[0mvalues\u001b[0m\u001b[0;34m,\u001b[0m\u001b[0;34m\u001b[0m\u001b[0;34m\u001b[0m\u001b[0m\n",
            "\u001b[0;32m<ipython-input-3-475f22ae022c>\u001b[0m in \u001b[0;36mcs_grid_search\u001b[0;34m(Y, T, X, W, estimator_class, param_grid, cv)\u001b[0m\n\u001b[1;32m     25\u001b[0m \u001b[0;34m\u001b[0m\u001b[0m\n\u001b[1;32m     26\u001b[0m             \u001b[0;31m# モデルを学習\u001b[0m\u001b[0;34m\u001b[0m\u001b[0;34m\u001b[0m\u001b[0m\n\u001b[0;32m---> 27\u001b[0;31m             \u001b[0mestimator\u001b[0m\u001b[0;34m.\u001b[0m\u001b[0mfit\u001b[0m\u001b[0;34m(\u001b[0m\u001b[0mY_train\u001b[0m\u001b[0;34m,\u001b[0m \u001b[0mT_train\u001b[0m\u001b[0;34m,\u001b[0m \u001b[0mX\u001b[0m\u001b[0;34m=\u001b[0m\u001b[0mX_train\u001b[0m\u001b[0;34m,\u001b[0m \u001b[0mW\u001b[0m\u001b[0;34m=\u001b[0m\u001b[0mW_train\u001b[0m\u001b[0;34m)\u001b[0m\u001b[0;34m\u001b[0m\u001b[0;34m\u001b[0m\u001b[0m\n\u001b[0m\u001b[1;32m     28\u001b[0m             \u001b[0;31m# 検証データでのスコアを計算\u001b[0m\u001b[0;34m\u001b[0m\u001b[0;34m\u001b[0m\u001b[0m\n\u001b[1;32m     29\u001b[0m             \u001b[0mscore\u001b[0m \u001b[0;34m=\u001b[0m \u001b[0mestimator\u001b[0m\u001b[0;34m.\u001b[0m\u001b[0mscore\u001b[0m\u001b[0;34m(\u001b[0m\u001b[0mY_test\u001b[0m\u001b[0;34m,\u001b[0m \u001b[0mT_test\u001b[0m\u001b[0;34m,\u001b[0m \u001b[0mX_test\u001b[0m\u001b[0;34m,\u001b[0m \u001b[0mW_test\u001b[0m\u001b[0;34m)\u001b[0m\u001b[0;34m\u001b[0m\u001b[0;34m\u001b[0m\u001b[0m\n",
            "\u001b[0;32m/usr/local/lib/python3.10/dist-packages/econml/dml/causal_forest.py\u001b[0m in \u001b[0;36mfit\u001b[0;34m(self, Y, T, X, W, sample_weight, groups, cache_values, inference)\u001b[0m\n\u001b[1;32m    832\u001b[0m         \u001b[0;32mif\u001b[0m \u001b[0mX\u001b[0m \u001b[0;32mis\u001b[0m \u001b[0;32mNone\u001b[0m\u001b[0;34m:\u001b[0m\u001b[0;34m\u001b[0m\u001b[0;34m\u001b[0m\u001b[0m\n\u001b[1;32m    833\u001b[0m             \u001b[0;32mraise\u001b[0m \u001b[0mValueError\u001b[0m\u001b[0;34m(\u001b[0m\u001b[0;34m\"This estimator does not support X=None!\"\u001b[0m\u001b[0;34m)\u001b[0m\u001b[0;34m\u001b[0m\u001b[0;34m\u001b[0m\u001b[0m\n\u001b[0;32m--> 834\u001b[0;31m         return super().fit(Y, T, X=X, W=W,\n\u001b[0m\u001b[1;32m    835\u001b[0m                            \u001b[0msample_weight\u001b[0m\u001b[0;34m=\u001b[0m\u001b[0msample_weight\u001b[0m\u001b[0;34m,\u001b[0m \u001b[0mgroups\u001b[0m\u001b[0;34m=\u001b[0m\u001b[0mgroups\u001b[0m\u001b[0;34m,\u001b[0m\u001b[0;34m\u001b[0m\u001b[0;34m\u001b[0m\u001b[0m\n\u001b[1;32m    836\u001b[0m                            \u001b[0mcache_values\u001b[0m\u001b[0;34m=\u001b[0m\u001b[0mcache_values\u001b[0m\u001b[0;34m,\u001b[0m\u001b[0;34m\u001b[0m\u001b[0;34m\u001b[0m\u001b[0m\n",
            "\u001b[0;32m/usr/local/lib/python3.10/dist-packages/econml/dml/_rlearner.py\u001b[0m in \u001b[0;36mfit\u001b[0;34m(self, Y, T, X, W, sample_weight, freq_weight, sample_var, groups, cache_values, inference)\u001b[0m\n\u001b[1;32m    374\u001b[0m         \"\"\"\n\u001b[1;32m    375\u001b[0m         \u001b[0;31m# Replacing fit from _OrthoLearner, to enforce Z=None and improve the docstring\u001b[0m\u001b[0;34m\u001b[0m\u001b[0;34m\u001b[0m\u001b[0m\n\u001b[0;32m--> 376\u001b[0;31m         return super().fit(Y, T, X=X, W=W,\n\u001b[0m\u001b[1;32m    377\u001b[0m                            \u001b[0msample_weight\u001b[0m\u001b[0;34m=\u001b[0m\u001b[0msample_weight\u001b[0m\u001b[0;34m,\u001b[0m \u001b[0mfreq_weight\u001b[0m\u001b[0;34m=\u001b[0m\u001b[0mfreq_weight\u001b[0m\u001b[0;34m,\u001b[0m \u001b[0msample_var\u001b[0m\u001b[0;34m=\u001b[0m\u001b[0msample_var\u001b[0m\u001b[0;34m,\u001b[0m \u001b[0mgroups\u001b[0m\u001b[0;34m=\u001b[0m\u001b[0mgroups\u001b[0m\u001b[0;34m,\u001b[0m\u001b[0;34m\u001b[0m\u001b[0;34m\u001b[0m\u001b[0m\n\u001b[1;32m    378\u001b[0m                            \u001b[0mcache_values\u001b[0m\u001b[0;34m=\u001b[0m\u001b[0mcache_values\u001b[0m\u001b[0;34m,\u001b[0m\u001b[0;34m\u001b[0m\u001b[0;34m\u001b[0m\u001b[0m\n",
            "\u001b[0;32m/usr/local/lib/python3.10/dist-packages/econml/_cate_estimator.py\u001b[0m in \u001b[0;36mcall\u001b[0;34m(self, Y, T, inference, *args, **kwargs)\u001b[0m\n\u001b[1;32m    128\u001b[0m                 \u001b[0minference\u001b[0m\u001b[0;34m.\u001b[0m\u001b[0mprefit\u001b[0m\u001b[0;34m(\u001b[0m\u001b[0mself\u001b[0m\u001b[0;34m,\u001b[0m \u001b[0mY\u001b[0m\u001b[0;34m,\u001b[0m \u001b[0mT\u001b[0m\u001b[0;34m,\u001b[0m \u001b[0;34m*\u001b[0m\u001b[0margs\u001b[0m\u001b[0;34m,\u001b[0m \u001b[0;34m**\u001b[0m\u001b[0mkwargs\u001b[0m\u001b[0;34m)\u001b[0m\u001b[0;34m\u001b[0m\u001b[0;34m\u001b[0m\u001b[0m\n\u001b[1;32m    129\u001b[0m             \u001b[0;31m# call the wrapped fit method\u001b[0m\u001b[0;34m\u001b[0m\u001b[0;34m\u001b[0m\u001b[0m\n\u001b[0;32m--> 130\u001b[0;31m             \u001b[0mm\u001b[0m\u001b[0;34m(\u001b[0m\u001b[0mself\u001b[0m\u001b[0;34m,\u001b[0m \u001b[0mY\u001b[0m\u001b[0;34m,\u001b[0m \u001b[0mT\u001b[0m\u001b[0;34m,\u001b[0m \u001b[0;34m*\u001b[0m\u001b[0margs\u001b[0m\u001b[0;34m,\u001b[0m \u001b[0;34m**\u001b[0m\u001b[0mkwargs\u001b[0m\u001b[0;34m)\u001b[0m\u001b[0;34m\u001b[0m\u001b[0;34m\u001b[0m\u001b[0m\n\u001b[0m\u001b[1;32m    131\u001b[0m             \u001b[0mself\u001b[0m\u001b[0;34m.\u001b[0m\u001b[0m_postfit\u001b[0m\u001b[0;34m(\u001b[0m\u001b[0mY\u001b[0m\u001b[0;34m,\u001b[0m \u001b[0mT\u001b[0m\u001b[0;34m,\u001b[0m \u001b[0;34m*\u001b[0m\u001b[0margs\u001b[0m\u001b[0;34m,\u001b[0m \u001b[0;34m**\u001b[0m\u001b[0mkwargs\u001b[0m\u001b[0;34m)\u001b[0m\u001b[0;34m\u001b[0m\u001b[0;34m\u001b[0m\u001b[0m\n\u001b[1;32m    132\u001b[0m             \u001b[0;32mif\u001b[0m \u001b[0minference\u001b[0m \u001b[0;32mis\u001b[0m \u001b[0;32mnot\u001b[0m \u001b[0;32mNone\u001b[0m\u001b[0;34m:\u001b[0m\u001b[0;34m\u001b[0m\u001b[0;34m\u001b[0m\u001b[0m\n",
            "\u001b[0;32m/usr/local/lib/python3.10/dist-packages/econml/_ortho_learner.py\u001b[0m in \u001b[0;36mfit\u001b[0;34m(self, Y, T, X, W, Z, sample_weight, freq_weight, sample_var, groups, cache_values, inference, only_final, check_input)\u001b[0m\n\u001b[1;32m    648\u001b[0m             \u001b[0mself\u001b[0m\u001b[0;34m.\u001b[0m\u001b[0m_models_nuisance\u001b[0m \u001b[0;34m=\u001b[0m \u001b[0;34m[\u001b[0m\u001b[0;34m]\u001b[0m\u001b[0;34m\u001b[0m\u001b[0;34m\u001b[0m\u001b[0m\n\u001b[1;32m    649\u001b[0m             \u001b[0;32mfor\u001b[0m \u001b[0midx\u001b[0m \u001b[0;32min\u001b[0m \u001b[0mrange\u001b[0m\u001b[0;34m(\u001b[0m\u001b[0mself\u001b[0m\u001b[0;34m.\u001b[0m\u001b[0mmc_iters\u001b[0m \u001b[0;32mor\u001b[0m \u001b[0;36m1\u001b[0m\u001b[0;34m)\u001b[0m\u001b[0;34m:\u001b[0m\u001b[0;34m\u001b[0m\u001b[0;34m\u001b[0m\u001b[0m\n\u001b[0;32m--> 650\u001b[0;31m                 nuisances, fitted_models, new_inds, scores = self._fit_nuisances(\n\u001b[0m\u001b[1;32m    651\u001b[0m                     Y, T, X, W, Z, sample_weight=sample_weight_nuisances, groups=groups)\n\u001b[1;32m    652\u001b[0m                 \u001b[0mall_nuisances\u001b[0m\u001b[0;34m.\u001b[0m\u001b[0mappend\u001b[0m\u001b[0;34m(\u001b[0m\u001b[0mnuisances\u001b[0m\u001b[0;34m)\u001b[0m\u001b[0;34m\u001b[0m\u001b[0;34m\u001b[0m\u001b[0m\n",
            "\u001b[0;32m/usr/local/lib/python3.10/dist-packages/econml/_ortho_learner.py\u001b[0m in \u001b[0;36m_fit_nuisances\u001b[0;34m(self, Y, T, X, W, Z, sample_weight, groups)\u001b[0m\n\u001b[1;32m    791\u001b[0m                 \u001b[0mfolds\u001b[0m \u001b[0;34m=\u001b[0m \u001b[0msplitter\u001b[0m\u001b[0;34m.\u001b[0m\u001b[0msplit\u001b[0m\u001b[0;34m(\u001b[0m\u001b[0mto_split\u001b[0m\u001b[0;34m,\u001b[0m \u001b[0mstrata\u001b[0m\u001b[0;34m)\u001b[0m\u001b[0;34m\u001b[0m\u001b[0;34m\u001b[0m\u001b[0m\n\u001b[1;32m    792\u001b[0m \u001b[0;34m\u001b[0m\u001b[0m\n\u001b[0;32m--> 793\u001b[0;31m         nuisances, fitted_models, fitted_inds, scores = _crossfit(self._ortho_learner_model_nuisance, folds,\n\u001b[0m\u001b[1;32m    794\u001b[0m                                                                   \u001b[0mY\u001b[0m\u001b[0;34m,\u001b[0m \u001b[0mT\u001b[0m\u001b[0;34m,\u001b[0m \u001b[0mX\u001b[0m\u001b[0;34m=\u001b[0m\u001b[0mX\u001b[0m\u001b[0;34m,\u001b[0m \u001b[0mW\u001b[0m\u001b[0;34m=\u001b[0m\u001b[0mW\u001b[0m\u001b[0;34m,\u001b[0m \u001b[0mZ\u001b[0m\u001b[0;34m=\u001b[0m\u001b[0mZ\u001b[0m\u001b[0;34m,\u001b[0m\u001b[0;34m\u001b[0m\u001b[0;34m\u001b[0m\u001b[0m\n\u001b[1;32m    795\u001b[0m                                                                   sample_weight=sample_weight, groups=groups)\n",
            "\u001b[0;32m/usr/local/lib/python3.10/dist-packages/econml/_ortho_learner.py\u001b[0m in \u001b[0;36m_crossfit\u001b[0;34m(model, folds, *args, **kwargs)\u001b[0m\n\u001b[1;32m    166\u001b[0m         \u001b[0mkwargs_test\u001b[0m \u001b[0;34m=\u001b[0m \u001b[0;34m{\u001b[0m\u001b[0mkey\u001b[0m\u001b[0;34m:\u001b[0m \u001b[0mvar\u001b[0m\u001b[0;34m[\u001b[0m\u001b[0mtest_idxs\u001b[0m\u001b[0;34m]\u001b[0m \u001b[0;32mfor\u001b[0m \u001b[0mkey\u001b[0m\u001b[0;34m,\u001b[0m \u001b[0mvar\u001b[0m \u001b[0;32min\u001b[0m \u001b[0mkwargs\u001b[0m\u001b[0;34m.\u001b[0m\u001b[0mitems\u001b[0m\u001b[0;34m(\u001b[0m\u001b[0;34m)\u001b[0m\u001b[0;34m}\u001b[0m\u001b[0;34m\u001b[0m\u001b[0;34m\u001b[0m\u001b[0m\n\u001b[1;32m    167\u001b[0m \u001b[0;34m\u001b[0m\u001b[0m\n\u001b[0;32m--> 168\u001b[0;31m         \u001b[0mmodel_list\u001b[0m\u001b[0;34m[\u001b[0m\u001b[0midx\u001b[0m\u001b[0;34m]\u001b[0m\u001b[0;34m.\u001b[0m\u001b[0mfit\u001b[0m\u001b[0;34m(\u001b[0m\u001b[0;34m*\u001b[0m\u001b[0margs_train\u001b[0m\u001b[0;34m,\u001b[0m \u001b[0;34m**\u001b[0m\u001b[0mkwargs_train\u001b[0m\u001b[0;34m)\u001b[0m\u001b[0;34m\u001b[0m\u001b[0;34m\u001b[0m\u001b[0m\n\u001b[0m\u001b[1;32m    169\u001b[0m \u001b[0;34m\u001b[0m\u001b[0m\n\u001b[1;32m    170\u001b[0m         \u001b[0mnuisance_temp\u001b[0m \u001b[0;34m=\u001b[0m \u001b[0mmodel_list\u001b[0m\u001b[0;34m[\u001b[0m\u001b[0midx\u001b[0m\u001b[0;34m]\u001b[0m\u001b[0;34m.\u001b[0m\u001b[0mpredict\u001b[0m\u001b[0;34m(\u001b[0m\u001b[0;34m*\u001b[0m\u001b[0margs_test\u001b[0m\u001b[0;34m,\u001b[0m \u001b[0;34m**\u001b[0m\u001b[0mkwargs_test\u001b[0m\u001b[0;34m)\u001b[0m\u001b[0;34m\u001b[0m\u001b[0;34m\u001b[0m\u001b[0m\n",
            "\u001b[0;32m/usr/local/lib/python3.10/dist-packages/econml/dml/_rlearner.py\u001b[0m in \u001b[0;36mfit\u001b[0;34m(self, Y, T, X, W, Z, sample_weight, groups)\u001b[0m\n\u001b[1;32m     50\u001b[0m         \u001b[0;32massert\u001b[0m \u001b[0mZ\u001b[0m \u001b[0;32mis\u001b[0m \u001b[0;32mNone\u001b[0m\u001b[0;34m,\u001b[0m \u001b[0;34m\"Cannot accept instrument!\"\u001b[0m\u001b[0;34m\u001b[0m\u001b[0;34m\u001b[0m\u001b[0m\n\u001b[1;32m     51\u001b[0m         \u001b[0mself\u001b[0m\u001b[0;34m.\u001b[0m\u001b[0m_model_t\u001b[0m\u001b[0;34m.\u001b[0m\u001b[0mfit\u001b[0m\u001b[0;34m(\u001b[0m\u001b[0mX\u001b[0m\u001b[0;34m,\u001b[0m \u001b[0mW\u001b[0m\u001b[0;34m,\u001b[0m \u001b[0mT\u001b[0m\u001b[0;34m,\u001b[0m \u001b[0;34m**\u001b[0m\u001b[0mfilter_none_kwargs\u001b[0m\u001b[0;34m(\u001b[0m\u001b[0msample_weight\u001b[0m\u001b[0;34m=\u001b[0m\u001b[0msample_weight\u001b[0m\u001b[0;34m,\u001b[0m \u001b[0mgroups\u001b[0m\u001b[0;34m=\u001b[0m\u001b[0mgroups\u001b[0m\u001b[0;34m)\u001b[0m\u001b[0;34m)\u001b[0m\u001b[0;34m\u001b[0m\u001b[0;34m\u001b[0m\u001b[0m\n\u001b[0;32m---> 52\u001b[0;31m         \u001b[0mself\u001b[0m\u001b[0;34m.\u001b[0m\u001b[0m_model_y\u001b[0m\u001b[0;34m.\u001b[0m\u001b[0mfit\u001b[0m\u001b[0;34m(\u001b[0m\u001b[0mX\u001b[0m\u001b[0;34m,\u001b[0m \u001b[0mW\u001b[0m\u001b[0;34m,\u001b[0m \u001b[0mY\u001b[0m\u001b[0;34m,\u001b[0m \u001b[0;34m**\u001b[0m\u001b[0mfilter_none_kwargs\u001b[0m\u001b[0;34m(\u001b[0m\u001b[0msample_weight\u001b[0m\u001b[0;34m=\u001b[0m\u001b[0msample_weight\u001b[0m\u001b[0;34m,\u001b[0m \u001b[0mgroups\u001b[0m\u001b[0;34m=\u001b[0m\u001b[0mgroups\u001b[0m\u001b[0;34m)\u001b[0m\u001b[0;34m)\u001b[0m\u001b[0;34m\u001b[0m\u001b[0;34m\u001b[0m\u001b[0m\n\u001b[0m\u001b[1;32m     53\u001b[0m         \u001b[0;32mreturn\u001b[0m \u001b[0mself\u001b[0m\u001b[0;34m\u001b[0m\u001b[0;34m\u001b[0m\u001b[0m\n\u001b[1;32m     54\u001b[0m \u001b[0;34m\u001b[0m\u001b[0m\n",
            "\u001b[0;32m/usr/local/lib/python3.10/dist-packages/econml/dml/dml.py\u001b[0m in \u001b[0;36mfit\u001b[0;34m(self, X, W, Target, sample_weight, groups)\u001b[0m\n\u001b[1;32m     73\u001b[0m                             sample_weight=sample_weight)\n\u001b[1;32m     74\u001b[0m         \u001b[0;32melse\u001b[0m\u001b[0;34m:\u001b[0m\u001b[0;34m\u001b[0m\u001b[0;34m\u001b[0m\u001b[0m\n\u001b[0;32m---> 75\u001b[0;31m             \u001b[0mfit_with_groups\u001b[0m\u001b[0;34m(\u001b[0m\u001b[0mself\u001b[0m\u001b[0;34m.\u001b[0m\u001b[0m_model\u001b[0m\u001b[0;34m,\u001b[0m \u001b[0mself\u001b[0m\u001b[0;34m.\u001b[0m\u001b[0m_combine\u001b[0m\u001b[0;34m(\u001b[0m\u001b[0mX\u001b[0m\u001b[0;34m,\u001b[0m \u001b[0mW\u001b[0m\u001b[0;34m,\u001b[0m \u001b[0mTarget\u001b[0m\u001b[0;34m.\u001b[0m\u001b[0mshape\u001b[0m\u001b[0;34m[\u001b[0m\u001b[0;36m0\u001b[0m\u001b[0;34m]\u001b[0m\u001b[0;34m)\u001b[0m\u001b[0;34m,\u001b[0m \u001b[0mTarget\u001b[0m\u001b[0;34m,\u001b[0m \u001b[0mgroups\u001b[0m\u001b[0;34m=\u001b[0m\u001b[0mgroups\u001b[0m\u001b[0;34m)\u001b[0m\u001b[0;34m\u001b[0m\u001b[0;34m\u001b[0m\u001b[0m\n\u001b[0m\u001b[1;32m     76\u001b[0m         \u001b[0;32mreturn\u001b[0m \u001b[0mself\u001b[0m\u001b[0;34m\u001b[0m\u001b[0;34m\u001b[0m\u001b[0m\n\u001b[1;32m     77\u001b[0m \u001b[0;34m\u001b[0m\u001b[0m\n",
            "\u001b[0;32m/usr/local/lib/python3.10/dist-packages/econml/utilities.py\u001b[0m in \u001b[0;36mfit_with_groups\u001b[0;34m(model, X, y, groups, **kwargs)\u001b[0m\n\u001b[1;32m    941\u001b[0m                 \u001b[0mmodel\u001b[0m\u001b[0;34m.\u001b[0m\u001b[0mcv\u001b[0m \u001b[0;34m=\u001b[0m \u001b[0mold_cv\u001b[0m\u001b[0;34m\u001b[0m\u001b[0;34m\u001b[0m\u001b[0m\n\u001b[1;32m    942\u001b[0m \u001b[0;34m\u001b[0m\u001b[0m\n\u001b[0;32m--> 943\u001b[0;31m     \u001b[0;32mreturn\u001b[0m \u001b[0mmodel\u001b[0m\u001b[0;34m.\u001b[0m\u001b[0mfit\u001b[0m\u001b[0;34m(\u001b[0m\u001b[0mX\u001b[0m\u001b[0;34m,\u001b[0m \u001b[0my\u001b[0m\u001b[0;34m,\u001b[0m \u001b[0;34m**\u001b[0m\u001b[0mkwargs\u001b[0m\u001b[0;34m)\u001b[0m\u001b[0;34m\u001b[0m\u001b[0;34m\u001b[0m\u001b[0m\n\u001b[0m\u001b[1;32m    944\u001b[0m \u001b[0;34m\u001b[0m\u001b[0m\n\u001b[1;32m    945\u001b[0m \u001b[0;34m\u001b[0m\u001b[0m\n",
            "\u001b[0;32m/usr/local/lib/python3.10/dist-packages/sklearn/model_selection/_search.py\u001b[0m in \u001b[0;36mfit\u001b[0;34m(self, X, y, groups, **fit_params)\u001b[0m\n\u001b[1;32m    872\u001b[0m                 \u001b[0;32mreturn\u001b[0m \u001b[0mresults\u001b[0m\u001b[0;34m\u001b[0m\u001b[0;34m\u001b[0m\u001b[0m\n\u001b[1;32m    873\u001b[0m \u001b[0;34m\u001b[0m\u001b[0m\n\u001b[0;32m--> 874\u001b[0;31m             \u001b[0mself\u001b[0m\u001b[0;34m.\u001b[0m\u001b[0m_run_search\u001b[0m\u001b[0;34m(\u001b[0m\u001b[0mevaluate_candidates\u001b[0m\u001b[0;34m)\u001b[0m\u001b[0;34m\u001b[0m\u001b[0;34m\u001b[0m\u001b[0m\n\u001b[0m\u001b[1;32m    875\u001b[0m \u001b[0;34m\u001b[0m\u001b[0m\n\u001b[1;32m    876\u001b[0m             \u001b[0;31m# multimetric is determined here because in the case of a callable\u001b[0m\u001b[0;34m\u001b[0m\u001b[0;34m\u001b[0m\u001b[0m\n",
            "\u001b[0;32m/usr/local/lib/python3.10/dist-packages/sklearn/model_selection/_search.py\u001b[0m in \u001b[0;36m_run_search\u001b[0;34m(self, evaluate_candidates)\u001b[0m\n\u001b[1;32m   1386\u001b[0m     \u001b[0;32mdef\u001b[0m \u001b[0m_run_search\u001b[0m\u001b[0;34m(\u001b[0m\u001b[0mself\u001b[0m\u001b[0;34m,\u001b[0m \u001b[0mevaluate_candidates\u001b[0m\u001b[0;34m)\u001b[0m\u001b[0;34m:\u001b[0m\u001b[0;34m\u001b[0m\u001b[0;34m\u001b[0m\u001b[0m\n\u001b[1;32m   1387\u001b[0m         \u001b[0;34m\"\"\"Search all candidates in param_grid\"\"\"\u001b[0m\u001b[0;34m\u001b[0m\u001b[0;34m\u001b[0m\u001b[0m\n\u001b[0;32m-> 1388\u001b[0;31m         \u001b[0mevaluate_candidates\u001b[0m\u001b[0;34m(\u001b[0m\u001b[0mParameterGrid\u001b[0m\u001b[0;34m(\u001b[0m\u001b[0mself\u001b[0m\u001b[0;34m.\u001b[0m\u001b[0mparam_grid\u001b[0m\u001b[0;34m)\u001b[0m\u001b[0;34m)\u001b[0m\u001b[0;34m\u001b[0m\u001b[0;34m\u001b[0m\u001b[0m\n\u001b[0m\u001b[1;32m   1389\u001b[0m \u001b[0;34m\u001b[0m\u001b[0m\n\u001b[1;32m   1390\u001b[0m \u001b[0;34m\u001b[0m\u001b[0m\n",
            "\u001b[0;32m/usr/local/lib/python3.10/dist-packages/sklearn/model_selection/_search.py\u001b[0m in \u001b[0;36mevaluate_candidates\u001b[0;34m(candidate_params, cv, more_results)\u001b[0m\n\u001b[1;32m    819\u001b[0m                     )\n\u001b[1;32m    820\u001b[0m \u001b[0;34m\u001b[0m\u001b[0m\n\u001b[0;32m--> 821\u001b[0;31m                 out = parallel(\n\u001b[0m\u001b[1;32m    822\u001b[0m                     delayed(_fit_and_score)(\n\u001b[1;32m    823\u001b[0m                         \u001b[0mclone\u001b[0m\u001b[0;34m(\u001b[0m\u001b[0mbase_estimator\u001b[0m\u001b[0;34m)\u001b[0m\u001b[0;34m,\u001b[0m\u001b[0;34m\u001b[0m\u001b[0;34m\u001b[0m\u001b[0m\n",
            "\u001b[0;32m/usr/local/lib/python3.10/dist-packages/sklearn/utils/parallel.py\u001b[0m in \u001b[0;36m__call__\u001b[0;34m(self, iterable)\u001b[0m\n\u001b[1;32m     61\u001b[0m             \u001b[0;32mfor\u001b[0m \u001b[0mdelayed_func\u001b[0m\u001b[0;34m,\u001b[0m \u001b[0margs\u001b[0m\u001b[0;34m,\u001b[0m \u001b[0mkwargs\u001b[0m \u001b[0;32min\u001b[0m \u001b[0miterable\u001b[0m\u001b[0;34m\u001b[0m\u001b[0;34m\u001b[0m\u001b[0m\n\u001b[1;32m     62\u001b[0m         )\n\u001b[0;32m---> 63\u001b[0;31m         \u001b[0;32mreturn\u001b[0m \u001b[0msuper\u001b[0m\u001b[0;34m(\u001b[0m\u001b[0;34m)\u001b[0m\u001b[0;34m.\u001b[0m\u001b[0m__call__\u001b[0m\u001b[0;34m(\u001b[0m\u001b[0miterable_with_config\u001b[0m\u001b[0;34m)\u001b[0m\u001b[0;34m\u001b[0m\u001b[0;34m\u001b[0m\u001b[0m\n\u001b[0m\u001b[1;32m     64\u001b[0m \u001b[0;34m\u001b[0m\u001b[0m\n\u001b[1;32m     65\u001b[0m \u001b[0;34m\u001b[0m\u001b[0m\n",
            "\u001b[0;32m/usr/local/lib/python3.10/dist-packages/joblib/parallel.py\u001b[0m in \u001b[0;36m__call__\u001b[0;34m(self, iterable)\u001b[0m\n\u001b[1;32m   1950\u001b[0m         \u001b[0mnext\u001b[0m\u001b[0;34m(\u001b[0m\u001b[0moutput\u001b[0m\u001b[0;34m)\u001b[0m\u001b[0;34m\u001b[0m\u001b[0;34m\u001b[0m\u001b[0m\n\u001b[1;32m   1951\u001b[0m \u001b[0;34m\u001b[0m\u001b[0m\n\u001b[0;32m-> 1952\u001b[0;31m         \u001b[0;32mreturn\u001b[0m \u001b[0moutput\u001b[0m \u001b[0;32mif\u001b[0m \u001b[0mself\u001b[0m\u001b[0;34m.\u001b[0m\u001b[0mreturn_generator\u001b[0m \u001b[0;32melse\u001b[0m \u001b[0mlist\u001b[0m\u001b[0;34m(\u001b[0m\u001b[0moutput\u001b[0m\u001b[0;34m)\u001b[0m\u001b[0;34m\u001b[0m\u001b[0;34m\u001b[0m\u001b[0m\n\u001b[0m\u001b[1;32m   1953\u001b[0m \u001b[0;34m\u001b[0m\u001b[0m\n\u001b[1;32m   1954\u001b[0m     \u001b[0;32mdef\u001b[0m \u001b[0m__repr__\u001b[0m\u001b[0;34m(\u001b[0m\u001b[0mself\u001b[0m\u001b[0;34m)\u001b[0m\u001b[0;34m:\u001b[0m\u001b[0;34m\u001b[0m\u001b[0;34m\u001b[0m\u001b[0m\n",
            "\u001b[0;32m/usr/local/lib/python3.10/dist-packages/joblib/parallel.py\u001b[0m in \u001b[0;36m_get_outputs\u001b[0;34m(self, iterator, pre_dispatch)\u001b[0m\n\u001b[1;32m   1593\u001b[0m \u001b[0;34m\u001b[0m\u001b[0m\n\u001b[1;32m   1594\u001b[0m             \u001b[0;32mwith\u001b[0m \u001b[0mself\u001b[0m\u001b[0;34m.\u001b[0m\u001b[0m_backend\u001b[0m\u001b[0;34m.\u001b[0m\u001b[0mretrieval_context\u001b[0m\u001b[0;34m(\u001b[0m\u001b[0;34m)\u001b[0m\u001b[0;34m:\u001b[0m\u001b[0;34m\u001b[0m\u001b[0;34m\u001b[0m\u001b[0m\n\u001b[0;32m-> 1595\u001b[0;31m                 \u001b[0;32myield\u001b[0m \u001b[0;32mfrom\u001b[0m \u001b[0mself\u001b[0m\u001b[0;34m.\u001b[0m\u001b[0m_retrieve\u001b[0m\u001b[0;34m(\u001b[0m\u001b[0;34m)\u001b[0m\u001b[0;34m\u001b[0m\u001b[0;34m\u001b[0m\u001b[0m\n\u001b[0m\u001b[1;32m   1596\u001b[0m \u001b[0;34m\u001b[0m\u001b[0m\n\u001b[1;32m   1597\u001b[0m         \u001b[0;32mexcept\u001b[0m \u001b[0mGeneratorExit\u001b[0m\u001b[0;34m:\u001b[0m\u001b[0;34m\u001b[0m\u001b[0;34m\u001b[0m\u001b[0m\n",
            "\u001b[0;32m/usr/local/lib/python3.10/dist-packages/joblib/parallel.py\u001b[0m in \u001b[0;36m_retrieve\u001b[0;34m(self)\u001b[0m\n\u001b[1;32m   1705\u001b[0m                 (self._jobs[0].get_status(\n\u001b[1;32m   1706\u001b[0m                     timeout=self.timeout) == TASK_PENDING)):\n\u001b[0;32m-> 1707\u001b[0;31m                 \u001b[0mtime\u001b[0m\u001b[0;34m.\u001b[0m\u001b[0msleep\u001b[0m\u001b[0;34m(\u001b[0m\u001b[0;36m0.01\u001b[0m\u001b[0;34m)\u001b[0m\u001b[0;34m\u001b[0m\u001b[0;34m\u001b[0m\u001b[0m\n\u001b[0m\u001b[1;32m   1708\u001b[0m                 \u001b[0;32mcontinue\u001b[0m\u001b[0;34m\u001b[0m\u001b[0;34m\u001b[0m\u001b[0m\n\u001b[1;32m   1709\u001b[0m \u001b[0;34m\u001b[0m\u001b[0m\n",
            "\u001b[0;31mKeyboardInterrupt\u001b[0m: "
          ]
        }
      ]
    },
    {
      "cell_type": "markdown",
      "source": [
        "    因果フォレストのハイパーパラメータの探索範囲の設定（param_grid）\n",
        "    ・model_y: アウトカム（応答変数）モデルとして先程設定したGS_model_y（グリッドサーチ付きランダムフォレスト回帰）を使用。\n",
        "    ・model_t: トリートメント（処置変数）モデルとして先程設定したGS_model_t（グリッドサーチ付きランダムフォレスト分類）を使用。\n",
        "    ・discrete_treatment: 処置が離散値（TrueまたはFalse）であるかどうか。\n",
        "    ・n_estimators, min_samples_leaf, max_depth: 因果フォレストモデル自体のハイパーパラメータ。\n",
        "\n",
        "    ハイパーパラメータチューニングの実施\n",
        "    ・cs_grid_search: この関数はコードに直接は含まれていませんが、おそらくカスタムのグリッドサーチ関数でしょう。この関数は以下のような引数を取ると思われます。\n",
        "    ・Y,T,X,W: アウトカム、トリートメント、共変量、コントロール変数。\n",
        "    ・CausalForestDML: 使用する因果推論モデル。\n",
        "    ・param_grid: 探索するハイパーパラメータの範囲。\n",
        "    ・cv=10: 10-fold交差検証を使用。\n",
        "    ・best_model, best_params, best_score: cs_grid_search関数から返される最適なモデル、ハイパーパラメータ、スコア。\n",
        "\n",
        "    最適モデルの設定\n",
        "    ・model = best_model: 最適なモデルをmodelとして保存。"
      ],
      "metadata": {
        "id": "XpBDMeY8U59I"
      }
    },
    {
      "cell_type": "markdown",
      "source": [
        "    共変量Xの特定の値の因果効果であるCATE（Conditional Average Treatment Effect）を推定します。\n",
        "\n",
        "    以下、コードです。"
      ],
      "metadata": {
        "id": "_ZUO5qjhfuAw"
      }
    },
    {
      "cell_type": "code",
      "source": [
        "# 結果のプロット\n",
        "\n",
        "# カーネル回帰でE[Y|X]を算出\n",
        "kr = KernelReg(treatment_effects,X_test,'c',bw=[0.5])\n",
        "y_pred, _ = kr.fit(X_test)\n",
        "\n",
        "# グラフ化\n",
        "plt.plot(X_test, treatment_effects,'+')\n",
        "plt.fill_between(X_test.ravel(), treatment_confs[0], treatment_confs[1], alpha=0.2)\n",
        "plt.plot(X_test, y_pred)\n",
        "plt.ylim(-20000,50000)\n",
        "plt.xlabel(\"Distance to the Park (km)\")\n",
        "plt.ylabel(\"Treatment Effect on House Price\")\n",
        "plt.title(\"Estimated Treatment Effect by Distance to the Park\")\n",
        "plt.grid(True)\n",
        "plt.show()\n",
        "\n",
        "# ＋が因果効果の推定結果（点推定）、薄い赤の部分が信頼区間（区間推定）、青い実線が因果効果の推定結果を平滑化したもの（傾向線）です。\n",
        "# 信頼区間の幅が狭くなり、傾向が明確になっていることが分かります。\n",
        "# しかし、恐ろしく計算の時間がかかります。"
      ],
      "metadata": {
        "id": "JZ2fW9pyUoFl"
      },
      "execution_count": null,
      "outputs": []
    },
    {
      "cell_type": "markdown",
      "source": [
        "## 個別にハイパーパラメータをチューニングする\n",
        "    先ず、以下のハイパーパラメータを個別にチューニングします。\n",
        "    ・アウトカムモデルのハイパーパラメータ\n",
        "    ・トリートメントモデルのハイパーパラメータ"
      ],
      "metadata": {
        "id": "mSXSxXptHy2g"
      }
    },
    {
      "cell_type": "markdown",
      "source": [
        "    2つのランダムフォレストで利用するハイパーパラメータの探索範囲を定義します。\n",
        "\n",
        "    以下、コードです。"
      ],
      "metadata": {
        "id": "BM6J2iC3IAUh"
      }
    },
    {
      "cell_type": "code",
      "source": [
        "# ハイパーパラメータの探索範囲の設定\n",
        "params={\n",
        "    'max_depth': [3, 5, 10, None],\n",
        "    'n_estimators': [10, 30, 50, 100, 200],\n",
        "    'max_features': [1,2,3]\n",
        "}"
      ],
      "metadata": {
        "id": "VkL6hRM6gRib"
      },
      "execution_count": null,
      "outputs": []
    },
    {
      "cell_type": "markdown",
      "source": [
        "    アウトカムモデルのハイパーパラメータをチューニングし、チューニングした結果である最適モデルを因果フォレストで利用するアウトカムモデルにします。\n",
        "\n",
        "    以下、コードです。"
      ],
      "metadata": {
        "id": "T8U_q1E5gbsi"
      }
    },
    {
      "cell_type": "code",
      "source": [
        "# アウトカムモデルのハイパーパラメータ調整\n",
        "GS_model_y = GridSearchCV(\n",
        "    estimator=RandomForestRegressor(),\n",
        "    param_grid=params,\n",
        "    cv=10,\n",
        "    n_jobs=-1,\n",
        "    scoring='neg_mean_squared_error'\n",
        ")\n",
        "\n",
        "GS_model_y.fit(pd.concat([T,X,W],axis=1),Y)\n",
        "\n",
        "# 最適モデルをアウトカムモデルとして設定\n",
        "rfr = RandomForestRegressor()\n",
        "best_model_y = rfr.set_params(**GS_model_y.best_params_)"
      ],
      "metadata": {
        "id": "4ahrLVQdgRkS"
      },
      "execution_count": null,
      "outputs": []
    },
    {
      "cell_type": "markdown",
      "source": [
        "    トリートメントモデルのハイパーパラメータをチューニングし、チューニングした結果である最適モデルを因果フォレストで利用するトリートメントモデルにします。\n",
        "\n",
        "    以下、コードです。"
      ],
      "metadata": {
        "id": "IPQvFS60ggds"
      }
    },
    {
      "cell_type": "code",
      "source": [
        "# トリートメントモデルのハイパーパラメータ調整\n",
        "GS_model_t = GridSearchCV(\n",
        "    estimator=RandomForestClassifier(),\n",
        "    param_grid=params,\n",
        "    cv=10,\n",
        "    n_jobs=-1,\n",
        "    scoring='f1'\n",
        ")\n",
        "\n",
        "GS_model_t.fit(pd.concat([X,W],axis=1),T)\n",
        "\n",
        "# 最適モデルをトリートメントモデルとして設定\n",
        "rfc = RandomForestClassifier()\n",
        "best_model_t = rfc.set_params(**GS_model_t.best_params_)"
      ],
      "metadata": {
        "id": "klVkDucPgRmX"
      },
      "execution_count": null,
      "outputs": []
    },
    {
      "cell_type": "markdown",
      "source": [
        "    次に、今チューニングして得たアウトカムモデルとトリートメントモデルを因果フォレストに設定し、因果フォレストそのものののハイパーパラメータのチューニングを実施します。\n",
        "\n",
        "    以下、コードです。"
      ],
      "metadata": {
        "id": "gDNUgsvSgkrg"
      }
    },
    {
      "cell_type": "code",
      "source": [
        "# 因果フォレストのハイパーパラメータの探索範囲の設定\n",
        "param_grid = {\n",
        "    'model_y':[best_model_y],\n",
        "    'model_t':[best_model_t],\n",
        "    'discrete_treatment':[True],\n",
        "    'n_estimators': [16, 48, 100],\n",
        "    'min_samples_leaf': [5, 10],\n",
        "    'max_depth': [3, 5, None],\n",
        "}\n",
        "\n",
        "# ハイパーパラメータチューニングの実施\n",
        "best_model, best_params, best_score = cs_grid_search(\n",
        "    Y.values,\n",
        "    T.values,\n",
        "    X.values,\n",
        "    W.values,\n",
        "    CausalForestDML,\n",
        "    param_grid,\n",
        "    cv=10\n",
        ")\n",
        "\n",
        "# 最適モデルの設定\n",
        "model = best_model"
      ],
      "metadata": {
        "id": "awum3GK2gRoN"
      },
      "execution_count": null,
      "outputs": []
    },
    {
      "cell_type": "markdown",
      "source": [
        "    共変量Xの特定の値の因果効果であるCATE（Conditional Average Treatment Effect）を推定します。\n",
        "\n",
        "    以下、コードです。"
      ],
      "metadata": {
        "id": "q8MDEruxgo-x"
      }
    },
    {
      "cell_type": "code",
      "source": [
        "# 距離ごとの因果効果の推定\n",
        "X_test = np.linspace(0, 5, 100).reshape(-1, 1)\n",
        "treatment_effects = model.effect(X_test)\n",
        "treatment_confs = model.effect_interval(X_test, T0=0, T1=1, alpha=0.05)"
      ],
      "metadata": {
        "id": "x-56c57wgRqR"
      },
      "execution_count": null,
      "outputs": []
    },
    {
      "cell_type": "markdown",
      "source": [
        "    結果をプロットします。推定した因果効果とその信頼区間を表示しています。さらに、推定した因果効果をカーネル回帰を使用して平滑化しています。\n",
        "\n",
        "    以下、コードです。"
      ],
      "metadata": {
        "id": "_b41nzFFgrx7"
      }
    },
    {
      "cell_type": "code",
      "source": [
        "# 結果のプロット\n",
        "\n",
        "# カーネル回帰でE[Y|X]を算出\n",
        "kr = KernelReg(treatment_effects,X_test,'c',bw=[0.5])\n",
        "y_pred, _ = kr.fit(X_test)\n",
        "\n",
        "# グラフ化\n",
        "plt.plot(X_test, treatment_effects,'+')\n",
        "plt.fill_between(X_test.ravel(), treatment_confs[0], treatment_confs[1], alpha=0.2)\n",
        "plt.plot(X_test, y_pred)\n",
        "plt.ylim(-20000,50000)\n",
        "plt.xlabel(\"Distance to the Park (km)\")\n",
        "plt.ylabel(\"Treatment Effect on House Price\")\n",
        "plt.title(\"Estimated Treatment Effect by Distance to the Park\")\n",
        "plt.grid(True)\n",
        "plt.show()\n",
        "\n",
        "# ＋が因果効果の推定結果（点推定）、薄い赤の部分が信頼区間（区間推定）、青い実線が因果効果の推定結果を平滑化したもの（傾向線）です。\n",
        "# 「一度にハイパーパラメータチューニング」とは、ほぼ似たような感じかと思います。\n",
        "# そして何より、一度にハイパーパラメータをチューニングするより、計算時間が短くなっています。"
      ],
      "metadata": {
        "id": "SVUSDVR6gRsW"
      },
      "execution_count": null,
      "outputs": []
    },
    {
      "cell_type": "markdown",
      "source": [
        "## 事例２\n",
        "    事例説明\n",
        "    ・業種: 製薬業\n",
        "    ・課題: 新しい薬の治療効果を評価したい。\n",
        "    ・推論したい因果: 新しい薬の摂取が患者の健康スコアに与える影響。\n",
        "\n",
        "    Y,T,X,W\n",
        "    ・Y: 患者の健康スコア（数値、高いほど健康状態が良い）\n",
        "    ・T: 新しい薬の摂取（1 = 新しい薬を摂取, 0 = プラセボを摂取）\n",
        "    ・X: 患者の年齢\n",
        "    ・W: 患者の性別、基礎疾患の有無、治療開始前の健康スコア\n",
        "\n",
        "    新しい薬の摂取が患者の健康スコアに与える影響を、患者の年齢に応じて評価しています。"
      ],
      "metadata": {
        "id": "TLqyYPD2g49M"
      }
    },
    {
      "cell_type": "markdown",
      "source": [
        "# データセットの読み込みと設定\n",
        "    では、データセットを読み込みます。\n",
        "\n",
        "    以下、コードです。"
      ],
      "metadata": {
        "id": "f8bySD_6hC-V"
      }
    },
    {
      "cell_type": "code",
      "source": [
        "# データセットのロード\n",
        "df = pd.read_csv(\"https://www.salesanalytics.co.jp/xnlp\")\n",
        "\n",
        "display(df) #確認"
      ],
      "metadata": {
        "id": "eZkStYuPGTqY"
      },
      "execution_count": null,
      "outputs": []
    },
    {
      "cell_type": "markdown",
      "source": [
        "    ・Health_Score: 個人の健康スコアを示す数値です。Yです。\n",
        "    ・Treatment: 処置（おそらくある種の治療や介入）の有無を示すバイナリ変数です（0 = 受けていない, 1 = 受けている）。Tです。\n",
        "    ・Age: 個人の年齢を示す数値です。Xです。\n",
        "    ・Gender: 個人の性別を示すバイナリ変数です（0 = 男性, 1 = 女性）。Wです。\n",
        "    ・Underlying_Disease: 基礎疾患の有無を示すバイナリ変数です（0 = なし, 1 = あり）。Wです。\n",
        "    ・Pre-treatment_Health_Score: 処置または治療前の健康スコアを示す数値です。Wです。"
      ],
      "metadata": {
        "id": "BYH1O_CKIEtv"
      }
    },
    {
      "cell_type": "markdown",
      "source": [
        "    Y,T,X,Wを設定していきます。\n",
        "\n",
        "    以下、コードです。"
      ],
      "metadata": {
        "id": "Dgg8n5M6IKh4"
      }
    },
    {
      "cell_type": "code",
      "source": [
        "# 変数設定\n",
        "Y_col = \"Health_Score\"\n",
        "T_col = \"Treatment\"\n",
        "X_list = [\"Age\"]\n",
        "W_list = [\"Gender\",\"Underlying_Disease\",\"Pre-treatment_Health_Score\"]\n",
        "\n",
        "# データ設定\n",
        "Y = df[Y_col]\n",
        "T = df[T_col]\n",
        "X = df[X_list]\n",
        "W = df[W_list]"
      ],
      "metadata": {
        "id": "79PgQVPGGTsd"
      },
      "execution_count": null,
      "outputs": []
    },
    {
      "cell_type": "markdown",
      "source": [
        "## ハイパーパラメータをチューニングしない\n",
        "    因果フォレストを学習します。\n",
        "\n",
        "    以下、コードです。"
      ],
      "metadata": {
        "id": "BhBfhevwIOgC"
      }
    },
    {
      "cell_type": "code",
      "source": [
        "# CausalForestDMLのインスタンスを作成\n",
        "model = CausalForestDML(\n",
        "    model_y=RandomForestRegressor(),\n",
        "    model_t=RandomForestClassifier(),\n",
        "    discrete_treatment=True\n",
        ")\n",
        "# 学習\n",
        "model.fit(Y, T, X=X, W=W)"
      ],
      "metadata": {
        "id": "9BZUFy8PGTuS"
      },
      "execution_count": null,
      "outputs": []
    },
    {
      "cell_type": "markdown",
      "source": [
        "    共変量Xの特定の値の因果効果であるCATE（Conditional Average Treatment Effect）を推定します。\n",
        "\n",
        "    以下、コードです。"
      ],
      "metadata": {
        "id": "qgxzsf8GISFC"
      }
    },
    {
      "cell_type": "code",
      "source": [
        "# 年齢ごとの因果効果の推定\n",
        "X_test = np.linspace(20, 80, 100).reshape(-1, 1)\n",
        "treatment_effects = model.effect(X_test)\n",
        "treatment_confs = model.effect_interval(X_test, T0=0, T1=1, alpha=0.05)"
      ],
      "metadata": {
        "id": "AiP00_-BGTwI"
      },
      "execution_count": null,
      "outputs": []
    },
    {
      "cell_type": "markdown",
      "source": [
        "    結果をプロットします。推定した因果効果とその信頼区間を表示しています。さらに、推定した因果効果をカーネル回帰を使用して平滑化しています。\n",
        "\n",
        "    以下、コードです。"
      ],
      "metadata": {
        "id": "sJonkReSIVUw"
      }
    },
    {
      "cell_type": "code",
      "source": [
        "# 結果のプロット\n",
        "\n",
        "# カーネル回帰でE[Y|X]を算出\n",
        "kr = KernelReg(treatment_effects,X_test,'c',bw=[10])\n",
        "y_pred, _ = kr.fit(X_test)\n",
        "\n",
        "# グラフ化\n",
        "plt.plot(X_test, treatment_effects,'+')\n",
        "plt.fill_between(X_test.ravel(), treatment_confs[0], treatment_confs[1], alpha=0.2)\n",
        "plt.plot(X_test, y_pred)\n",
        "plt.ylim(5,25)\n",
        "plt.xlabel(\"Age\")\n",
        "plt.ylabel(\"Treatment Effect on Health Score\")\n",
        "plt.title(\"Estimated Treatment Effect by Age\")\n",
        "plt.grid(True)\n",
        "plt.show()\n",
        "\n",
        "# ＋が因果効果の推定結果（点推定）、薄い赤の部分が信頼区間（区間推定）、青い実線が因果効果の推定結果を平滑化したもの（傾向線）です。\n",
        "# 信頼区間の幅が、結構大きなことが分かります。"
      ],
      "metadata": {
        "id": "mr3lyellGTxb"
      },
      "execution_count": null,
      "outputs": []
    },
    {
      "cell_type": "markdown",
      "source": [
        "## 一度にハイパーパラメータをチューニングする\n",
        "    以下のハイパーパラメータを一度にチューニングします。\n",
        "    ・因果フォレストそのものののハイパーパラメータ\n",
        "    ・アウトカムモデルのハイパーパラメータ\n",
        "    ・トリートメントモデルのハイパーパラメータ\n",
        "    \n",
        "    先ず、以下の2つのハイパーパラメータの探索範囲などを設定します。\n",
        "    ・トリートメントモデルのハイパーパラメータ\n",
        "    ・アウトカムモデルのハイパーパラメータ\n",
        "    \n",
        "    以下、コードです。\n",
        "    \n",
        "\n"
      ],
      "metadata": {
        "id": "PkbAWaR6Vdui"
      }
    },
    {
      "cell_type": "code",
      "source": [
        "# ハイパーパラメータの探索範囲の設定\n",
        "params={\n",
        "    'max_depth': [3, 5, 10, None],\n",
        "    'n_estimators': [10, 30, 50, 100, 200],\n",
        "    'max_features': [1,2,3]\n",
        "}\n",
        "\n",
        "# アウトカムモデル\n",
        "GS_model_y = lambda: GridSearchCV(\n",
        "    estimator=RandomForestRegressor(),\n",
        "    param_grid=params,\n",
        "    cv=10,\n",
        "    n_jobs=-1,\n",
        "    scoring='neg_mean_squared_error'\n",
        ")\n",
        "\n",
        "# トリートメントモデル\n",
        "GS_model_t = lambda: GridSearchCV(\n",
        "    estimator=RandomForestClassifier(),\n",
        "    param_grid=params,\n",
        "    cv=10,\n",
        "    n_jobs=-1,\n",
        "    scoring='f1'\n",
        ")"
      ],
      "metadata": {
        "id": "mDOY7eBRVflC"
      },
      "execution_count": null,
      "outputs": []
    },
    {
      "cell_type": "markdown",
      "source": [
        "    次に、残りの因果フォレストそのものののハイパーパラメータを設定し、先程のハイパーパラメータも含めチューニングを実施します。\n",
        "\n",
        "    以下、コードです。"
      ],
      "metadata": {
        "id": "8I2iTr-GVk3F"
      }
    },
    {
      "cell_type": "code",
      "source": [
        "# 因果フォレストのハイパーパラメータの探索範囲の設定\n",
        "param_grid = {\n",
        "    'model_y':[GS_model_y()],\n",
        "    'model_t':[GS_model_t()],\n",
        "    'discrete_treatment':[True],\n",
        "    'n_estimators': [16, 48, 100],\n",
        "    'min_samples_leaf': [5, 10],\n",
        "    'max_depth': [3, 5, None],\n",
        "}\n",
        "\n",
        "# ハイパーパラメータチューニングの実施\n",
        "best_model, best_params, best_score = cs_grid_search(\n",
        "    Y.values,\n",
        "    T.values,\n",
        "    X.values,\n",
        "    W.values,\n",
        "    CausalForestDML,\n",
        "    param_grid,\n",
        "    cv=10\n",
        ")\n",
        "\n",
        "# 最適モデルの設定\n",
        "model = best_model"
      ],
      "metadata": {
        "id": "4FLr2rOAVfmo"
      },
      "execution_count": null,
      "outputs": []
    },
    {
      "cell_type": "markdown",
      "source": [
        "    共変量Xの特定の値の因果効果であるCATE（Conditional Average Treatment Effect）を推定します。\n",
        "\n",
        "    以下、コードです。"
      ],
      "metadata": {
        "id": "gvTYli2ZVplK"
      }
    },
    {
      "cell_type": "code",
      "source": [
        "# 年齢ごとの因果効果の推定\n",
        "X_test = np.linspace(20, 80, 100).reshape(-1, 1)\n",
        "treatment_effects = model.effect(X_test)\n",
        "treatment_confs = model.effect_interval(X_test, T0=0, T1=1, alpha=0.05)"
      ],
      "metadata": {
        "id": "k-0UUPofhu7a"
      },
      "execution_count": null,
      "outputs": []
    },
    {
      "cell_type": "markdown",
      "source": [
        "    結果をプロットします。推定した因果効果とその信頼区間を表示しています。さらに、推定した因果効果をカーネル回帰を使用して平滑化しています。\n",
        "\n",
        "    以下、コードです。"
      ],
      "metadata": {
        "id": "9nMuIm72hwc0"
      }
    },
    {
      "cell_type": "code",
      "source": [
        "# 結果のプロット\n",
        "\n",
        "# カーネル回帰でE[Y|X]を算出\n",
        "kr = KernelReg(treatment_effects,X_test,'c',bw=[5])\n",
        "y_pred, _ = kr.fit(X_test)\n",
        "\n",
        "# グラフ化\n",
        "plt.plot(X_test, treatment_effects,'+')\n",
        "plt.fill_between(X_test.ravel(), treatment_confs[0], treatment_confs[1], alpha=0.2)\n",
        "plt.plot(X_test, y_pred)\n",
        "plt.ylim(5,25)\n",
        "plt.xlabel(\"Age\")\n",
        "plt.ylabel(\"Treatment Effect on Health Score\")\n",
        "plt.title(\"Estimated Treatment Effect by Age\")\n",
        "plt.grid(True)\n",
        "plt.show()\n",
        "\n",
        "# ＋が因果効果の推定結果（点推定）、薄い赤の部分が信頼区間（区間推定）、青い実線が因果効果の推定結果を平滑化したもの（傾向線）です。\n",
        "# 信頼区間の幅が狭くなり、傾向が明確になっていることが分かります。\n",
        "# しかし、恐ろしく計算の時間がかかります。"
      ],
      "metadata": {
        "id": "LcICepDBVfot"
      },
      "execution_count": null,
      "outputs": []
    },
    {
      "cell_type": "markdown",
      "source": [
        "## 個別にハイパーパラメータをチューニングする\n",
        "    先ず、以下のハイパーパラメータを個別にチューニングします。\n",
        "    ・アウトカムモデルのハイパーパラメータ\n",
        "    ・トリートメントモデルのハイパーパラメータ\n",
        "\n",
        "    2つのランダムフォレストで利用するハイパーパラメータの探索範囲を定義します。\n",
        "\n",
        "    以下、コードです。"
      ],
      "metadata": {
        "id": "QOA4jjm3h4ss"
      }
    },
    {
      "cell_type": "code",
      "source": [
        "# ハイパーパラメータの探索範囲の設定\n",
        "params={\n",
        "    'max_depth': [3, 5, 10, None],\n",
        "    'n_estimators': [10, 30, 50, 100, 200],\n",
        "    'max_features': [1,2,3]\n",
        "}"
      ],
      "metadata": {
        "id": "-fGwnv0Th4Jz"
      },
      "execution_count": null,
      "outputs": []
    },
    {
      "cell_type": "markdown",
      "source": [
        "    アウトカムモデルのハイパーパラメータをチューニングし、チューニングした結果である最適モデルを因果フォレストで利用するアウトカムモデルにします。\n",
        "\n",
        "    以下、コードです。"
      ],
      "metadata": {
        "id": "_zMeNYHVh_qh"
      }
    },
    {
      "cell_type": "code",
      "source": [
        "# アウトカムモデルのハイパーパラメータ調整\n",
        "GS_model_y = GridSearchCV(\n",
        "    estimator=RandomForestRegressor(),\n",
        "    param_grid=params,\n",
        "    cv=10,\n",
        "    n_jobs=-1,\n",
        "    scoring='neg_mean_squared_error'\n",
        ")\n",
        "\n",
        "GS_model_y.fit(pd.concat([T,X,W],axis=1),Y)\n",
        "\n",
        "# 最適モデルをアウトカムモデルとして設定\n",
        "rfr = RandomForestRegressor()\n",
        "best_model_y = rfr.set_params(**GS_model_y.best_params_)"
      ],
      "metadata": {
        "id": "i4Txntq6h4MG"
      },
      "execution_count": null,
      "outputs": []
    },
    {
      "cell_type": "markdown",
      "source": [
        "    トリートメントモデルのハイパーパラメータをチューニングし、チューニングした結果である最適モデルを因果フォレストで利用するトリートメントモデルにします。"
      ],
      "metadata": {
        "id": "b75b6St3iEXl"
      }
    },
    {
      "cell_type": "code",
      "source": [
        "# トリートメントモデルのハイパーパラメータ調整\n",
        "GS_model_t = GridSearchCV(\n",
        "    estimator=RandomForestClassifier(),\n",
        "    param_grid=params,\n",
        "    cv=10,\n",
        "    n_jobs=-1,\n",
        "    scoring='f1'\n",
        ")\n",
        "\n",
        "GS_model_t.fit(pd.concat([X,W],axis=1),T)\n",
        "\n",
        "# 最適モデルをトリートメントモデルとして設定\n",
        "rfc = RandomForestClassifier()\n",
        "best_model_t = rfc.set_params(**GS_model_t.best_params_)"
      ],
      "metadata": {
        "id": "f84AcLfqh4OM"
      },
      "execution_count": null,
      "outputs": []
    },
    {
      "cell_type": "markdown",
      "source": [
        "    次に、今チューニングして得たアウトカムモデルとトリートメントモデルを因果フォレストに設定し、因果フォレストそのものののハイパーパラメータのチューニングを実施します。\n",
        "\n",
        "    以下、コードです。"
      ],
      "metadata": {
        "id": "ayjCu0dCiI1y"
      }
    },
    {
      "cell_type": "code",
      "source": [
        "# 因果フォレストのハイパーパラメータの探索範囲の設定\n",
        "param_grid = {\n",
        "    'model_y':[best_model_y],\n",
        "    'model_t':[best_model_t],\n",
        "    'discrete_treatment':[True],\n",
        "    'n_estimators': [16, 48, 100],\n",
        "    'min_samples_leaf': [5, 10],\n",
        "    'max_depth': [3, 5, None],\n",
        "}\n",
        "\n",
        "# ハイパーパラメータチューニングの実施\n",
        "best_model, best_params, best_score = cs_grid_search(\n",
        "    Y.values,\n",
        "    T.values,\n",
        "    X.values,\n",
        "    W.values,\n",
        "    CausalForestDML,\n",
        "    param_grid,\n",
        "    cv=10\n",
        ")\n",
        "\n",
        "# 最適モデルの設定\n",
        "model = best_model"
      ],
      "metadata": {
        "id": "xovEgc6Vh4QS"
      },
      "execution_count": null,
      "outputs": []
    },
    {
      "cell_type": "markdown",
      "source": [
        "    共変量Xの特定の値の因果効果であるCATE（Conditional Average Treatment Effect）を推定します。\n",
        "\n",
        "    以下、コードです。"
      ],
      "metadata": {
        "id": "Gx9XzzlNiOS_"
      }
    },
    {
      "cell_type": "code",
      "source": [
        "# 年齢ごとの因果効果の推定\n",
        "X_test = np.linspace(20, 80, 100).reshape(-1, 1)\n",
        "treatment_effects = model.effect(X_test)\n",
        "treatment_confs = model.effect_interval(X_test, T0=0, T1=1, alpha=0.05)"
      ],
      "metadata": {
        "id": "oyxyjoweh4SW"
      },
      "execution_count": null,
      "outputs": []
    },
    {
      "cell_type": "markdown",
      "source": [
        "    結果をプロットします。推定した因果効果とその信頼区間を表示しています。さらに、推定した因果効果をカーネル回帰を使用して平滑化しています。\n",
        "\n",
        "    以下、コードです。"
      ],
      "metadata": {
        "id": "YJSchcJ-iRUe"
      }
    },
    {
      "cell_type": "code",
      "source": [
        "# 結果のプロット\n",
        "\n",
        "# カーネル回帰でE[Y|X]を算出\n",
        "kr = KernelReg(treatment_effects,X_test,'c',bw=[5])\n",
        "y_pred, _ = kr.fit(X_test)\n",
        "\n",
        "# グラフ化\n",
        "plt.plot(X_test, treatment_effects,'+')\n",
        "plt.fill_between(X_test.ravel(), treatment_confs[0], treatment_confs[1], alpha=0.2)\n",
        "plt.plot(X_test, y_pred)\n",
        "plt.ylim(5,25)\n",
        "plt.xlabel(\"Age\")\n",
        "plt.ylabel(\"Treatment Effect on Health Score\")\n",
        "plt.title(\"Estimated Treatment Effect by Age\")\n",
        "plt.grid(True)\n",
        "plt.show()\n",
        "\n",
        "# ＋が因果効果の推定結果（点推定）、薄い赤の部分が信頼区間（区間推定）、青い実線が因果効果の推定結果を平滑化したもの（傾向線）です。\n",
        "# 一度にハイパーパラメータチューニング」とは、ほぼ似たような感じかと思います。\n",
        "# そして何より、一度にハイパーパラメータをチューニングするより、計算時間が短くなっています。"
      ],
      "metadata": {
        "id": "Az9vL7Qih4Uu"
      },
      "execution_count": null,
      "outputs": []
    },
    {
      "cell_type": "markdown",
      "source": [
        "## まとめ\n",
        "    今回は、トリートメントモデルとアウトカムモデルのハイパーパラメータのチューニングも組み込んだ、因果フォレスト全体のハイパーパラメータをチューニングし最適化する方法について説明しました。\n",
        "\n",
        "    ハイパーパラメータをチューニングし最適化するかどうかで、かなり変わることが分かったかと思います。\n",
        "\n",
        "    そして、一度にチューニングすると恐ろしく時間が掛るため、お勧めは個別にチューニングする方略です。理由は、どれほど結果が変わらないのに計算結果がでてくるまでのスピードが早いからです。\n",
        "\n",
        "    最後に、因果フォレスト自体、複雑な状況での因果推論ができますので、興味のなる方は色々と実データで試して見てください。\n",
        "\n",
        "    次回は、トリートメントモデルとアウトカムモデルで利用するアルゴリズム（数理モデル）を自動選択する方法について言及します。"
      ],
      "metadata": {
        "id": "mKhUsw9LVzei"
      }
    }
  ]
}